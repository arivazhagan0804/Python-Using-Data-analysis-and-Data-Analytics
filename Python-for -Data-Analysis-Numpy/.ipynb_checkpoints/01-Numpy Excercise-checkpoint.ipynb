{
 "cells": [
  {
   "cell_type": "markdown",
   "id": "60e07a77-7293-4295-b85f-d8b4041fe400",
   "metadata": {},
   "source": [
    "Name  : Arivazhagan.B\n",
    "\n",
    "Topic : Numpy Excercises \n",
    "\n",
    "Email : barivazhagan8@gmail.com"
   ]
  },
  {
   "cell_type": "markdown",
   "id": "d1e8660c-f6c3-40a0-a121-81bb8a1a016f",
   "metadata": {},
   "source": [
    "## Numpy - Numerical Python"
   ]
  },
  {
   "cell_type": "markdown",
   "id": "fd43b6d2-eeb8-4376-b6d0-2ff5bce01694",
   "metadata": {},
   "source": [
    "* It is general purpose array processing package.\n",
    "\n",
    "* It provides multidimensional array objects and tools for workingwith these array.\n",
    "\n",
    "* Inventor of numpy Travis Oliphant-2005"
   ]
  },
  {
   "cell_type": "markdown",
   "id": "ff3dbd53-f3ca-4ffd-b15e-ea75ab800dc9",
   "metadata": {},
   "source": [
    "Creating Numpy array From a Python List"
   ]
  },
  {
   "cell_type": "code",
   "execution_count": 4,
   "id": "6a1282b2-c86b-42a0-9c0f-501cd538058c",
   "metadata": {},
   "outputs": [
    {
     "name": "stdout",
     "output_type": "stream",
     "text": [
      "[1, 2, 3, 4, 5]\n",
      "<class 'list'>\n"
     ]
    }
   ],
   "source": [
    "L=[1,2,3,4,5]\n",
    "print(L)\n",
    "print(type(L))"
   ]
  },
  {
   "cell_type": "markdown",
   "id": "d8d779bf-4e47-47bb-ac36-02643138d016",
   "metadata": {},
   "source": [
    "** Convert List into One dimentional array using numpy **"
   ]
  },
  {
   "cell_type": "code",
   "execution_count": 8,
   "id": "ef01b17e-2d3a-4e58-adf4-576075d3cd3a",
   "metadata": {},
   "outputs": [
    {
     "name": "stdout",
     "output_type": "stream",
     "text": [
      "Array is: [1 2 3 4 5]\n",
      "***********************************\n",
      "<class 'numpy.ndarray'>\n",
      "***********************************\n",
      "int32\n"
     ]
    }
   ],
   "source": [
    "import numpy as np\n",
    "ar=np.array(L)\n",
    "print('Array is:',ar)\n",
    "print(\"*\"*35)\n",
    "print(type(ar))\n",
    "print('*'*35)\n",
    "print(ar.dtype)"
   ]
  },
  {
   "cell_type": "code",
   "execution_count": 27,
   "id": "db3c8003-7d69-43a8-a341-ec9fc5255a83",
   "metadata": {},
   "outputs": [
    {
     "name": "stdout",
     "output_type": "stream",
     "text": [
      "Array is: [10 11 12 13 14 15]\n",
      "***********************************\n",
      "Length of array is: 6\n",
      "***********************************\n",
      "Data type: int32\n",
      "***********************************\n",
      "type of array: <class 'numpy.ndarray'>\n"
     ]
    }
   ],
   "source": [
    "ar1=np.array([10,11,12,13,14,15])\n",
    "print('Array is:',ar1)\n",
    "print('*'*35)\n",
    "print('Length of array is:',len(ar1))\n",
    "print('*'*35)\n",
    "print('Data type:',ar1.dtype)\n",
    "print('*'*35)\n",
    "print('type of array:',type(ar1))"
   ]
  },
  {
   "cell_type": "code",
   "execution_count": 25,
   "id": "20acc863-bbc5-47ee-b45a-37e5c8e74d9f",
   "metadata": {},
   "outputs": [
    {
     "name": "stdout",
     "output_type": "stream",
     "text": [
      "Array is : [ 1.+0.j  7.+0.j  8.+2.j  9.+0.j 10.+0.j]\n",
      "\n",
      "******************************\n",
      "Data type: complex128\n"
     ]
    }
   ],
   "source": [
    "ar2=np.array([1,7,8+2j,9,10])\n",
    "print('Array is :',ar2)\n",
    "print('')\n",
    "print('*'*30)\n",
    "print(\"Data type:\",ar2.dtype)\n"
   ]
  },
  {
   "cell_type": "markdown",
   "id": "3badc663-a09e-44ef-818c-3b962e069843",
   "metadata": {},
   "source": [
    "ndim-Number of dimention of array"
   ]
  },
  {
   "cell_type": "code",
   "execution_count": 29,
   "id": "099d9e37-3eda-4af0-a3bf-a21dad896c17",
   "metadata": {},
   "outputs": [
    {
     "name": "stdout",
     "output_type": "stream",
     "text": [
      "No of dimention: 1\n",
      "***********************************\n",
      "Shape of the  array is: (5,)\n",
      "***********************************\n",
      "size of the array is: 5\n"
     ]
    }
   ],
   "source": [
    "print('No of dimention:',ar2.ndim)\n",
    "print('*'*35)\n",
    "print('Shape of the  array is:',ar2.shape)\n",
    "print('*'*35)\n",
    "print('size of the array is:',ar2.size)"
   ]
  },
  {
   "cell_type": "markdown",
   "id": "4a5df267-0262-473d-aa85-e33dcd83e422",
   "metadata": {},
   "source": [
    "Creating 2-dimention of array"
   ]
  },
  {
   "cell_type": "code",
   "execution_count": 41,
   "id": "6692da41-c97f-4433-a23a-1568898db2f7",
   "metadata": {},
   "outputs": [
    {
     "name": "stdout",
     "output_type": "stream",
     "text": [
      "2-D Array is: [[ 1  2  3  4  5]\n",
      " [ 6  7  8  9 10]]\n",
      "***********************************\n",
      "Data type of the 2-D array is: int32\n",
      "***********************************\n",
      "Shape of the 2-D array is: (2, 5)\n",
      "***********************************\n",
      "Size of the 2-D array is: 10\n",
      "***********************************\n",
      "Byte size of the 2-D Array is: 4\n",
      "***********************************\n",
      "2\n"
     ]
    }
   ],
   "source": [
    "ar_2d=np.array([[1,2,3,4,5],[6,7,8,9,10]])\n",
    "print('2-D Array is:',ar_2d)\n",
    "print('*'*35)\n",
    "print('Data type of the 2-D array is:',ar_2d.dtype)\n",
    "print('*'*35)\n",
    "print('Shape of the 2-D array is:',ar_2d.shape)\n",
    "print('*'*35)\n",
    "#size-no of element in the array\n",
    "print('Size of the 2-D array is:',ar_2d.size)\n",
    "print('*'*35)\n",
    "#itemsize-byte size of element in  the array\n",
    "print('Byte size of the 2-D Array is:',ar_2d.itemsize)\n",
    "print('*'*35)\n",
    "print(len(ar_2d))"
   ]
  },
  {
   "cell_type": "code",
   "execution_count": 43,
   "id": "2cebe495-cfe4-4e48-9eae-0cc27cde40b5",
   "metadata": {},
   "outputs": [
    {
     "name": "stdout",
     "output_type": "stream",
     "text": [
      "0\n",
      "1\n",
      "2\n",
      "3\n",
      "4\n",
      "5\n",
      "6\n",
      "7\n",
      "8\n",
      "9\n"
     ]
    }
   ],
   "source": [
    "#range in for loop\n",
    "for i in range(10):\n",
    "    print(i)"
   ]
  },
  {
   "cell_type": "markdown",
   "id": "43b6f375-20e5-42e6-b538-593c6afe7d7b",
   "metadata": {},
   "source": [
    "** arange- It is used to create array with evenly spaced values,similar to python built in range().But,It return a Numpy array. **"
   ]
  },
  {
   "cell_type": "code",
   "execution_count": 21,
   "id": "bc2ecc74-69f9-43f8-9c73-5313e4f369d8",
   "metadata": {},
   "outputs": [
    {
     "name": "stdout",
     "output_type": "stream",
     "text": [
      "arange of array is : [0 1 2 3 4 5 6 7 8 9]\n",
      "***********************************\n",
      "arang of array is: [ 2  4  6  8 10 12 14 16 18]\n",
      "***********************************\n",
      "arange of the array is: [1.  1.5 2.  2.5 3.  3.5 4.  4.5]\n"
     ]
    }
   ],
   "source": [
    "arange=np.arange(10)\n",
    "print('arange of array is :',arange)\n",
    "print('*'*35)\n",
    "ar1=np.arange(2,20,2)\n",
    "print('arang of array is:',ar1)\n",
    "print('*'*35)\n",
    "ar2=np.arange(1,5,0.5)\n",
    "print('arange of the array is:',ar2)\n",
    "\n",
    "     \n"
   ]
  },
  {
   "cell_type": "markdown",
   "id": "5349a269-8ca7-466d-b445-439472f11ca1",
   "metadata": {},
   "source": [
    "** To accessing the array element using index position **"
   ]
  },
  {
   "cell_type": "code",
   "execution_count": 40,
   "id": "4d08b82a-331c-4cb1-903b-0dd743437e12",
   "metadata": {},
   "outputs": [
    {
     "name": "stdout",
     "output_type": "stream",
     "text": [
      "arange of array is: [ 0  1  2  3  4  5  6  7  8  9 10 11 12 13 14 15 16 17 18 19]\n",
      "0\n",
      "6\n",
      "17\n",
      "19\n"
     ]
    }
   ],
   "source": [
    "a=np.arange(20)\n",
    "print('arange of array is:',a)\n",
    "print(a[0])\n",
    "print(a[6])\n",
    "print(a[17])\n",
    "print(a[19])"
   ]
  },
  {
   "cell_type": "markdown",
   "id": "f7046f5e-5790-48f4-bf53-5228b5f40d7e",
   "metadata": {},
   "source": [
    "** Repalcing array elements **"
   ]
  },
  {
   "cell_type": "code",
   "execution_count": 38,
   "id": "d1fc1a1f-b40d-4516-8948-d079a4573c7d",
   "metadata": {},
   "outputs": [
    {
     "name": "stdout",
     "output_type": "stream",
     "text": [
      "[ 30   1   2   3  50   5   6   7   8 100  10  11  12  13  14  15  16  17\n",
      "  18  19]\n"
     ]
    }
   ],
   "source": [
    "a[0]=30\n",
    "a[4]=50\n",
    "a[9]=100\n",
    "print(a)"
   ]
  },
  {
   "cell_type": "markdown",
   "id": "df7e7cec-9874-4a7b-9018-7d17c74d85bf",
   "metadata": {},
   "source": [
    "** Statistics **"
   ]
  },
  {
   "cell_type": "code",
   "execution_count": 49,
   "id": "d30e51b3-e5e4-4fcb-b38b-b72cd4a4711e",
   "metadata": {},
   "outputs": [
    {
     "name": "stdout",
     "output_type": "stream",
     "text": [
      "array of arange ar1 : [0 1 2 3 4 5 6 7 8 9]\n",
      "***********************************\n",
      "array or arange ar2: [10 11 12 13 14 15 16 17 18 19]\n",
      "***********************************\n",
      "mean of the array is: 4.5\n",
      "***********************************\n",
      "median of the array is: 4.5\n",
      "***********************************\n",
      "standard deviation of array is : 2.8722813232690143\n",
      "***********************************\n",
      "maximum value of the array is: 9\n",
      "***********************************\n",
      "minimum value of the array is: 0\n",
      "***********************************\n",
      "50th precential of array is: 4.5\n",
      "***********************************\n",
      "variance of the array is: 8.25\n",
      "***********************************\n",
      "calculate the correlatio coefficient between two arrays: [[1. 1.]\n",
      " [1. 1.]]\n"
     ]
    }
   ],
   "source": [
    "ar1=np.arange(10)\n",
    "ar2=np.arange(10,20)\n",
    "print('array of arange ar1 :',ar1)\n",
    "print('*'*35)\n",
    "print('array or arange ar2:',ar2)\n",
    "print('*'*35)\n",
    "print('mean of the array is:',np.mean(ar1))\n",
    "print('*'*35)\n",
    "print('median of the array is:',np.median(ar1))\n",
    "print('*'*35)\n",
    "print('standard deviation of array is :',np.std(ar1))\n",
    "print('*'*35)\n",
    "print('maximum value of the array is:',np.max(ar1))\n",
    "print('*'*35)\n",
    "print('minimum value of the array is:',np.min(ar1))\n",
    "print('*'*35)\n",
    "print('50th precential of array is:',np.percentile(ar1,50))\n",
    "print('*'*35)\n",
    "print('variance of the array is:',np.var(ar1))\n",
    "print('*'*35)\n",
    "print('calculate the correlatio coefficient between two arrays:',np.corrcoef(ar1,ar2))"
   ]
  },
  {
   "cell_type": "markdown",
   "id": "94d9ad67-3386-453e-81e9-c1b732a91dca",
   "metadata": {},
   "source": [
    "** append - This function is used to add values to end of the an array,creating a new array with the added values.**"
   ]
  },
  {
   "cell_type": "code",
   "execution_count": 66,
   "id": "93775d4c-c001-4cc9-8767-6886c2d7b7e1",
   "metadata": {},
   "outputs": [
    {
     "name": "stdout",
     "output_type": "stream",
     "text": [
      "array is : [0 1 2 3 4 5 6 7 8 9]\n"
     ]
    },
    {
     "data": {
      "text/plain": [
       "array([ 0,  1,  2,  3,  4,  5,  6,  7,  8,  9, 12])"
      ]
     },
     "execution_count": 66,
     "metadata": {},
     "output_type": "execute_result"
    }
   ],
   "source": [
    "print('array is :',ar1)\n",
    "b=np.append(ar1,[12])\n",
    "b"
   ]
  },
  {
   "cell_type": "code",
   "execution_count": 68,
   "id": "12924046-0cc8-4ab7-be18-9bf94662e1d8",
   "metadata": {},
   "outputs": [
    {
     "data": {
      "text/plain": [
       "array([0, 1, 2, 3, 4, 5, 6, 7, 8, 9, 1, 2, 3])"
      ]
     },
     "execution_count": 68,
     "metadata": {},
     "output_type": "execute_result"
    }
   ],
   "source": [
    "c=np.append(ar1,[1,2,3])\n",
    "c"
   ]
  },
  {
   "cell_type": "code",
   "execution_count": 76,
   "id": "58a5dfca-b996-4488-9be1-76fd7400934e",
   "metadata": {},
   "outputs": [
    {
     "name": "stdout",
     "output_type": "stream",
     "text": [
      "[0 1 2 3 4 5 6 7 8 9]\n",
      "[10 11 12 13 14 15 16 17 18 19]\n"
     ]
    },
    {
     "data": {
      "text/plain": [
       "array([ 0,  1,  2,  3,  4,  5,  6,  7,  8,  9, 10, 11, 12, 13, 14, 15, 16,\n",
       "       17, 18, 19])"
      ]
     },
     "execution_count": 76,
     "metadata": {},
     "output_type": "execute_result"
    }
   ],
   "source": [
    "print(ar1)\n",
    "print(ar2)\n",
    "D=np.append(ar1,ar2)\n",
    "D"
   ]
  },
  {
   "cell_type": "markdown",
   "id": "e01d8242-d057-4163-81be-b0c6fa240816",
   "metadata": {},
   "source": [
    "** Arithmetic operation **"
   ]
  },
  {
   "cell_type": "code",
   "execution_count": 93,
   "id": "8c779568-37c9-47c0-8b98-39deee58fee3",
   "metadata": {},
   "outputs": [
    {
     "name": "stdout",
     "output_type": "stream",
     "text": [
      "Array is : [0 1 2 3 4 5 6 7 8 9]\n",
      "***********************************\n",
      "Addition of the array is: [ 3  4  5  6  7  8  9 10 11 12]\n",
      "***********************************\n",
      "Multiplication of the array is: [ 0  2  4  6  8 10 12 14 16 18]\n",
      "***********************************\n",
      "devition of the array is: [0.  0.5 1.  1.5 2.  2.5 3.  3.5 4.  4.5]\n",
      "***********************************\n",
      "Modulation of the array is: [0 1 0 1 0 1 0 1 0 1]\n"
     ]
    }
   ],
   "source": [
    "print('Array is :',ar1)\n",
    "print(\"*\"*35)\n",
    "print('Addition of the array is:',ar1+3)\n",
    "print(\"*\"*35)\n",
    "print('Multiplication of the array is:',ar1*2)\n",
    "print(\"*\"*35)\n",
    "print('devition of the array is:',ar1/2)\n",
    "print(\"*\"*35)\n",
    "print('Modulation of the array is:',ar1%2)"
   ]
  },
  {
   "cell_type": "markdown",
   "id": "3e9cefb6-bdbd-4d54-8ea4-df0854eda9bf",
   "metadata": {},
   "source": [
    "** Create string element using numpy **"
   ]
  },
  {
   "cell_type": "code",
   "execution_count": 99,
   "id": "c21328d0-6c97-4c4b-8430-adbe12db12a0",
   "metadata": {},
   "outputs": [
    {
     "name": "stdout",
     "output_type": "stream",
     "text": [
      "String array is: ['a' 'b' 'c' 'd']\n",
      "***********************************\n",
      "data type of sting array is: <U1\n"
     ]
    }
   ],
   "source": [
    "arr=np.array(['a','b','c','d'])\n",
    "print('String array is:',arr)\n",
    "print('*'*35)\n",
    "print('data type of sting array is:',arr.dtype)"
   ]
  },
  {
   "cell_type": "markdown",
   "id": "a1033493-40e7-4319-a8fa-fb919343bdcb",
   "metadata": {},
   "source": [
    "** Convert one data type to another data type **"
   ]
  },
  {
   "cell_type": "code",
   "execution_count": 110,
   "id": "fe72d4e5-6abe-4803-ac4e-e80e11f9063e",
   "metadata": {},
   "outputs": [
    {
     "name": "stdout",
     "output_type": "stream",
     "text": [
      "Array is : [0 1 2 3 4 5 6 7 8 9]\n",
      "***********************************\n",
      "data type of Array ar1 : int32\n",
      "***********************************\n",
      "Convert int into float : [0. 1. 2. 3. 4. 5. 6. 7. 8. 9.]\n",
      "***********************************\n",
      "convert int into complex : [0.+0.j 1.+0.j 2.+0.j 3.+0.j 4.+0.j 5.+0.j 6.+0.j 7.+0.j 8.+0.j 9.+0.j]\n"
     ]
    }
   ],
   "source": [
    "print('Array is :',ar1)\n",
    "print('*'*35)\n",
    "print('data type of Array ar1 :',ar1.dtype)\n",
    "print('*'*35)\n",
    "print('Convert int into float :',np.array(ar1,dtype='float'))\n",
    "print('*'*35)\n",
    "print('convert int into complex :',np.array(ar1,dtype='complex'))"
   ]
  },
  {
   "cell_type": "markdown",
   "id": "fc614cac-4593-43f9-bc82-2daca37df1e8",
   "metadata": {},
   "source": [
    "** Slicing **"
   ]
  },
  {
   "cell_type": "code",
   "execution_count": 156,
   "id": "9b4de77d-0acb-4885-949e-6598136848aa",
   "metadata": {},
   "outputs": [
    {
     "name": "stdout",
     "output_type": "stream",
     "text": [
      "Array is : [0 1 2 3 4 5 6 7 8 9]\n",
      "[0 1 2 3 4 5 6 7 8 9]\n",
      "[0 1 2]\n",
      "[0 1 2 3 4 5 6 7 8]\n",
      "[9 8 7 6 5 4 3 2 1 0]\n",
      "[0 1 2 3 4 5 6 7 8 9]\n",
      "[0 2 4 6 8]\n",
      "[0 3 6]\n",
      "[0 1 2 3 4]\n",
      "[5 4 3 2 1 0]\n"
     ]
    }
   ],
   "source": [
    "print('Array is :',ar1)\n",
    "print(ar1[:])\n",
    "print(ar1[:3])\n",
    "print(ar1[:-1])\n",
    "print(ar1[::-1])#reverse\n",
    "print(ar1[:])\n",
    "print(ar1[0:9:2])\n",
    "print(ar1[0:9:3])\n",
    "print(ar1[0:5])\n",
    "print(ar1[5::-1])"
   ]
  },
  {
   "cell_type": "code",
   "execution_count": 152,
   "id": "e8ba779a-9938-4d10-97ed-7b15e2303f34",
   "metadata": {},
   "outputs": [
    {
     "name": "stdout",
     "output_type": "stream",
     "text": [
      "Array is : [ 1  3  5  7  9 11 13 15 17 19]\n",
      "[11 13 15 17 19]\n",
      "[19 17 15 13 11  9  7  5  3  1]\n",
      "[3 5 7 9]\n"
     ]
    }
   ],
   "source": [
    "a=np.arange(1,20,2)\n",
    "print('Array is :',a)\n",
    "print(a[5:])\n",
    "print(a[::-1])\n",
    "print(a[1:5])"
   ]
  },
  {
   "cell_type": "markdown",
   "id": "12781b46-d210-411d-8b3b-8aaad4aaaabc",
   "metadata": {},
   "source": [
    "** how to sort elements in array **"
   ]
  },
  {
   "cell_type": "code",
   "execution_count": 175,
   "id": "8a350e31-08af-4e31-b511-9f012dec9ffd",
   "metadata": {},
   "outputs": [
    {
     "name": "stdout",
     "output_type": "stream",
     "text": [
      "Array is : [ 7  9  2  5 10  2 17 11]\n",
      "***********************************\n",
      "Sort in Ascenting order: [ 2  2  5  7  9 10 11 17]\n",
      "***********************************\n",
      "Sort in Descenting order: [17 11 10  9  7  5  2  2]\n"
     ]
    }
   ],
   "source": [
    "a=np.array([7,9,2,5,10,2,17,11])\n",
    "print('Array is :',a)\n",
    "print(\"*\"*35)\n",
    "sort=np.sort(a)\n",
    "print('Sort in Ascenting order:',sort)\n",
    "print(\"*\"*35)\n",
    "print('Sort in Descenting order:',sort[::-1])"
   ]
  },
  {
   "cell_type": "markdown",
   "id": "1c809e93-61c0-45fc-b01f-b6c1c48312da",
   "metadata": {},
   "source": [
    "## Copy - \"Deep Copying\""
   ]
  },
  {
   "cell_type": "markdown",
   "id": "568258ec-fd29-43c1-8b17-6ea035fc6ff9",
   "metadata": {},
   "source": [
    "This method makes a complete copy of an existing array and its elements\n",
    "\n",
    "When the newly created array is modified,It will not affect the exisiting array or vice versa."
   ]
  },
  {
   "cell_type": "code",
   "execution_count": 192,
   "id": "cf24361a-cde7-491d-8b21-325f7ea15540",
   "metadata": {},
   "outputs": [
    {
     "name": "stdout",
     "output_type": "stream",
     "text": [
      "Original Array is : [1 2 3 4 5 6 7 8 9]\n",
      "***********************************\n",
      "Original Array is : [1 2 3 4 5 6 7 8 9]\n",
      "***********************************\n",
      "Modified Array is : [12  2 15  4  5  6  7  8  9]\n"
     ]
    }
   ],
   "source": [
    "a=np.arange(1,10)\n",
    "b=a.copy()\n",
    "print('Original Array is :',a)\n",
    "print('*'*35)\n",
    "b[0]=12\n",
    "b[2]=15\n",
    "print('Original Array is :',a)\n",
    "print('*'*35)\n",
    "print('Modified Array is :',b)"
   ]
  },
  {
   "cell_type": "markdown",
   "id": "4315d393-fd92-4089-b5a2-eaf19fde2eef",
   "metadata": {},
   "source": [
    "## view()-'Shallow Copy'"
   ]
  },
  {
   "cell_type": "markdown",
   "id": "91d22353-0aa8-4c9f-8107-3152516ea85a",
   "metadata": {},
   "source": [
    "This method makes a complete copy of an existing array and it's elements.\n",
    "\n",
    "When the newly created array is modified,It will affect the exisiting array or vice versa."
   ]
  },
  {
   "cell_type": "code",
   "execution_count": 194,
   "id": "ee4ed04d-8962-4f04-b6e7-cff8486779f4",
   "metadata": {},
   "outputs": [
    {
     "name": "stdout",
     "output_type": "stream",
     "text": [
      "Original Array is : [0 1 2 3 4 5 6 7 8 9]\n",
      "***********************************\n",
      "Original Array is: [100   1   2   3   4   5   6   7   8   9]\n",
      "***********************************\n",
      "Modified Array is: [100   1   2   3   4   5   6   7   8   9]\n"
     ]
    }
   ],
   "source": [
    "a=np.arange(0,10)\n",
    "print('Original Array is :',a)\n",
    "print('*'*35)\n",
    "b=a.view()\n",
    "b[0]=100\n",
    "print('Original Array is:',a)\n",
    "print('*'*35)\n",
    "print('Modified Array is:',b)\n"
   ]
  },
  {
   "cell_type": "markdown",
   "id": "e32e8cf3-1684-468b-8704-902aa37605ea",
   "metadata": {},
   "source": [
    "## Reshape"
   ]
  },
  {
   "cell_type": "markdown",
   "id": "2f6af3e6-c3e3-4a08-b764-3b3b03ac1fb4",
   "metadata": {},
   "source": [
    "This method is useful to change the shape of an array.The new array should have the same no.of elements as in the original array. "
   ]
  },
  {
   "cell_type": "code",
   "execution_count": 207,
   "id": "751bcb40-31c0-4e71-b8c0-5d1b04838a92",
   "metadata": {},
   "outputs": [
    {
     "name": "stdout",
     "output_type": "stream",
     "text": [
      "Original Array is: [ 0  1  2  3  4  5  6  7  8  9 10 11]\n",
      "***********************************\n",
      "Modified Array is: [[ 0  1  2  3]\n",
      " [ 4  5  6  7]\n",
      " [ 8  9 10 11]]\n",
      "***********************************\n",
      "Modified Array is: [[ 0  1]\n",
      " [ 2  3]\n",
      " [ 4  5]\n",
      " [ 6  7]\n",
      " [ 8  9]\n",
      " [10 11]]\n"
     ]
    }
   ],
   "source": [
    "a=np.arange(12)\n",
    "print('Original Array is:',a)\n",
    "print('*'*35)\n",
    "print('Modified Array is:',a.reshape(3,4))\n",
    "print('*'*35)\n",
    "print('Modified Array is:',a.reshape(6,2))"
   ]
  },
  {
   "cell_type": "code",
   "execution_count": 213,
   "id": "96cbe4f3-be91-49c6-a4a1-acedbf78ab2e",
   "metadata": {},
   "outputs": [
    {
     "data": {
      "text/plain": [
       "array([[ 0,  1,  2,  3],\n",
       "       [ 4,  5,  6,  7],\n",
       "       [ 8,  9, 10, 11],\n",
       "       [12, 13, 14, 15]])"
      ]
     },
     "execution_count": 213,
     "metadata": {},
     "output_type": "execute_result"
    }
   ],
   "source": [
    "arr=np.arange(16).reshape(4,4)\n",
    "arr"
   ]
  },
  {
   "cell_type": "markdown",
   "id": "3fd7acfe-5af9-4566-a196-f085b6869464",
   "metadata": {},
   "source": [
    "flatten-Return the copy of the array collapsed into one dimension."
   ]
  },
  {
   "cell_type": "code",
   "execution_count": 216,
   "id": "b8651eb5-bfca-4221-9a12-0717209419d7",
   "metadata": {},
   "outputs": [
    {
     "data": {
      "text/plain": [
       "array([ 0,  1,  2,  3,  4,  5,  6,  7,  8,  9, 10, 11, 12, 13, 14, 15])"
      ]
     },
     "execution_count": 216,
     "metadata": {},
     "output_type": "execute_result"
    }
   ],
   "source": [
    "arr.flatten()"
   ]
  },
  {
   "cell_type": "markdown",
   "id": "f706f16d-dcd9-4035-bd06-1fe81b8a5a3a",
   "metadata": {},
   "source": [
    "resize-This method is used to create a new array of different size and dimentions."
   ]
  },
  {
   "cell_type": "code",
   "execution_count": 242,
   "id": "c2772291-67c5-4c36-8f29-deb4d9fec002",
   "metadata": {},
   "outputs": [
    {
     "name": "stdout",
     "output_type": "stream",
     "text": [
      "Original Array is: [[1 2]\n",
      " [3 4]]\n",
      "***********************************\n",
      "Modified Array [[1 2 3]\n",
      " [4 0 0]]\n"
     ]
    }
   ],
   "source": [
    "a=np.array([[1,2],[3,4]])\n",
    "print('Original Array is:',a)\n",
    "print('*'*35)\n",
    "a.resize((2,3))\n",
    "print('Modified Array',a)"
   ]
  },
  {
   "cell_type": "code",
   "execution_count": 246,
   "id": "aedf9bcf-6b71-42dd-ac57-98d4b05bbceb",
   "metadata": {},
   "outputs": [
    {
     "name": "stdout",
     "output_type": "stream",
     "text": [
      "Original Array is [ 0  1  2  3  4  5  6  7  8  9 10 11]\n",
      "***********************************\n",
      "Modified Array is: [[ 0  1  2  3  4]\n",
      " [ 5  6  7  8  9]\n",
      " [10 11  0  0  0]\n",
      " [ 0  0  0  0  0]\n",
      " [ 0  0  0  0  0]]\n"
     ]
    }
   ],
   "source": [
    "a=np.arange(12)\n",
    "print('Original Array is',a)\n",
    "print('*'*35)\n",
    "a.resize((5,5))\n",
    "print('Modified Array is:',a)"
   ]
  },
  {
   "cell_type": "markdown",
   "id": "0775554b-57f1-4bb8-91ce-7db33fb7ee45",
   "metadata": {},
   "source": [
    "** How to delete the array element **"
   ]
  },
  {
   "cell_type": "code",
   "execution_count": 261,
   "id": "464b45c2-beca-4c05-a5c6-5f9ebddd46a5",
   "metadata": {},
   "outputs": [
    {
     "name": "stdout",
     "output_type": "stream",
     "text": [
      "Original Array is: [ 0  1  2  3  4  5  6  7  8  9 10 11]\n",
      "***********************************\n",
      "modified Array is: [ 1  2  3  4  5  6  7  8  9 10 11]\n",
      "***********************************\n",
      "Modified Array is [0 1 2 3 4 5]\n"
     ]
    }
   ],
   "source": [
    "a=np.arange(12)\n",
    "print('Original Array is:',a)\n",
    "print('*'*35)\n",
    "b=np.delete(a,0)\n",
    "print('modified Array is:',b) \n",
    "print('*'*35)\n",
    "c=np.delete(a,a[6:])\n",
    "print('Modified Array is',c)"
   ]
  },
  {
   "cell_type": "markdown",
   "id": "067d1c6b-ca6f-402f-b364-269b5c97de5d",
   "metadata": {},
   "source": [
    "**How to slicing in multi-dimention array **"
   ]
  },
  {
   "cell_type": "code",
   "execution_count": 264,
   "id": "271a37f7-545e-4c9f-ac29-7c7a0a9b8ec6",
   "metadata": {},
   "outputs": [
    {
     "name": "stdout",
     "output_type": "stream",
     "text": [
      "Original Array is [[ 0  1  2  3]\n",
      " [ 4  5  6  7]\n",
      " [ 8  9 10 11]\n",
      " [12 13 14 15]]\n"
     ]
    }
   ],
   "source": [
    "arr=np.arange(16).reshape(4,4)\n",
    "print('Original Array is',arr)"
   ]
  },
  {
   "cell_type": "code",
   "execution_count": 270,
   "id": "38c30ef6-c56c-4772-a128-ef8a21302b2e",
   "metadata": {},
   "outputs": [
    {
     "name": "stdout",
     "output_type": "stream",
     "text": [
      "10\n"
     ]
    }
   ],
   "source": [
    "print(arr[2,2])"
   ]
  },
  {
   "cell_type": "code",
   "execution_count": 272,
   "id": "651853a4-731a-4fcf-bf9a-bee2b73f835e",
   "metadata": {},
   "outputs": [
    {
     "name": "stdout",
     "output_type": "stream",
     "text": [
      "[[ 5  6  7]\n",
      " [ 9 10 11]\n",
      " [13 14 15]]\n"
     ]
    }
   ],
   "source": [
    "print(arr[1:,1:])# (row[Start Value:End Value],column[Start Value:End Value])"
   ]
  },
  {
   "cell_type": "code",
   "execution_count": 274,
   "id": "d26ad4ad-1dcb-45a7-8e5b-ddaa3e33e8a8",
   "metadata": {},
   "outputs": [
    {
     "name": "stdout",
     "output_type": "stream",
     "text": [
      "[[10 11]\n",
      " [14 15]]\n"
     ]
    }
   ],
   "source": [
    "print(arr[2:,2:])"
   ]
  },
  {
   "cell_type": "code",
   "execution_count": 276,
   "id": "4f8dc11f-d7cc-4d1f-829d-d5b13cef0ad0",
   "metadata": {},
   "outputs": [
    {
     "name": "stdout",
     "output_type": "stream",
     "text": [
      "[[ 8  9]\n",
      " [12 13]]\n"
     ]
    }
   ],
   "source": [
    "print(arr[2:,:2])"
   ]
  },
  {
   "cell_type": "code",
   "execution_count": 278,
   "id": "e6cf8af5-c1c9-4602-b887-b8830b4c3781",
   "metadata": {},
   "outputs": [
    {
     "name": "stdout",
     "output_type": "stream",
     "text": [
      "[[ 9 10]\n",
      " [13 14]]\n"
     ]
    }
   ],
   "source": [
    "print(arr[2:,1:3])"
   ]
  },
  {
   "cell_type": "markdown",
   "id": "9a89cb72-d0ec-4f1f-9828-b09be0bd8bd9",
   "metadata": {},
   "source": [
    "** selection from an array using logical conditions **"
   ]
  },
  {
   "cell_type": "code",
   "execution_count": 289,
   "id": "3ea50ae4-66ea-4563-9595-bd84ce62498b",
   "metadata": {},
   "outputs": [
    {
     "name": "stdout",
     "output_type": "stream",
     "text": [
      "Original Array is: [[ 0  1  2  3]\n",
      " [ 4  5  6  7]\n",
      " [ 8  9 10 11]\n",
      " [12 13 14 15]]\n",
      "***********************************\n",
      "[ 6  7  8  9 10 11 12 13 14 15]\n"
     ]
    }
   ],
   "source": [
    "print('Original Array is:',arr)\n",
    "print('*'*35)\n",
    "print(arr[arr>5])"
   ]
  },
  {
   "cell_type": "code",
   "execution_count": 291,
   "id": "8366eac0-4af2-4344-8fc4-30d00c05c8c7",
   "metadata": {},
   "outputs": [
    {
     "name": "stdout",
     "output_type": "stream",
     "text": [
      "[0 1 2 3 4 5 6 7 8 9]\n"
     ]
    }
   ],
   "source": [
    "print(arr[arr<10])"
   ]
  },
  {
   "cell_type": "markdown",
   "id": "d770b7b2-c6dd-465e-aab4-4f3b5460cc54",
   "metadata": {},
   "source": [
    "## How random number will be generated"
   ]
  },
  {
   "cell_type": "markdown",
   "id": "d51a8c0d-23c9-4f41-95b3-01e61e00d102",
   "metadata": {},
   "source": [
    "random number are generated through a pseudo random algorithm"
   ]
  },
  {
   "cell_type": "code",
   "execution_count": 307,
   "id": "72342e81-d785-45cf-ac3d-e2a5f97fd626",
   "metadata": {},
   "outputs": [
    {
     "name": "stdout",
     "output_type": "stream",
     "text": [
      "91\n"
     ]
    }
   ],
   "source": [
    "from numpy import random\n",
    "#randint- It will generate  random int number between 0 to 100\n",
    "x=random.randint(100)\n",
    "print(x)"
   ]
  },
  {
   "cell_type": "code",
   "execution_count": 321,
   "id": "058bce10-680a-47ff-b320-4b60edea3d7a",
   "metadata": {},
   "outputs": [
    {
     "name": "stdout",
     "output_type": "stream",
     "text": [
      "[[13 89 62 62 95]\n",
      " [13 56 19 51  2]\n",
      " [36  0 41 38 51]\n",
      " [42 58  3 71  6]\n",
      " [79 64 86 73 96]]\n"
     ]
    }
   ],
   "source": [
    "a=random.randint(100,size=(5,5))\n",
    "print(a)"
   ]
  },
  {
   "cell_type": "code",
   "execution_count": 323,
   "id": "f6a1cc36-31ef-45f8-a933-a89a30907005",
   "metadata": {},
   "outputs": [
    {
     "name": "stdout",
     "output_type": "stream",
     "text": [
      "[[13 62 62 89 95]\n",
      " [ 2 13 19 51 56]\n",
      " [ 0 36 38 41 51]\n",
      " [ 3  6 42 58 71]\n",
      " [64 73 79 86 96]]\n"
     ]
    }
   ],
   "source": [
    "# sort by rows\n",
    "a.sort()\n",
    "print(a)"
   ]
  },
  {
   "cell_type": "code",
   "execution_count": 337,
   "id": "2c3422de-0e7e-4924-a327-71058ee64273",
   "metadata": {},
   "outputs": [
    {
     "name": "stdout",
     "output_type": "stream",
     "text": [
      "[[13 62 62 89 95]\n",
      " [ 2 13 19 51 56]\n",
      " [ 0 36 38 41 51]\n",
      " [ 3  6 42 58 71]\n",
      " [64 73 79 86 96]]\n"
     ]
    }
   ],
   "source": [
    "# sort by column\n",
    "a.sort(axis=1)\n",
    "print(a)"
   ]
  },
  {
   "cell_type": "code",
   "execution_count": 329,
   "id": "7d10ee75-d187-44ca-a2e4-6aaea423f9da",
   "metadata": {},
   "outputs": [
    {
     "name": "stdout",
     "output_type": "stream",
     "text": [
      "[[0.24333535 0.74792429 0.61639804 0.97413497 0.16813793]\n",
      " [0.32968789 0.16192677 0.82708422 0.09789077 0.94868056]\n",
      " [0.97494789 0.57838577 0.05592617 0.64780595 0.15760759]\n",
      " [0.21133053 0.00921587 0.92317698 0.94918322 0.13909405]\n",
      " [0.21812762 0.99382168 0.11821656 0.30896375 0.18145081]]\n"
     ]
    }
   ],
   "source": [
    "#rand-this method return a random float value between 0 and 1\n",
    "y=random.rand(5,5)\n",
    "print(y)\n"
   ]
  },
  {
   "cell_type": "code",
   "execution_count": 331,
   "id": "03edb8eb-589d-4b0f-b77b-c6cb51380663",
   "metadata": {},
   "outputs": [
    {
     "name": "stdout",
     "output_type": "stream",
     "text": [
      "[[0.16813793 0.24333535 0.61639804 0.74792429 0.97413497]\n",
      " [0.09789077 0.16192677 0.32968789 0.82708422 0.94868056]\n",
      " [0.05592617 0.15760759 0.57838577 0.64780595 0.97494789]\n",
      " [0.00921587 0.13909405 0.21133053 0.92317698 0.94918322]\n",
      " [0.11821656 0.18145081 0.21812762 0.30896375 0.99382168]]\n"
     ]
    }
   ],
   "source": [
    "#sort by row\n",
    "y.sort()\n",
    "print(y)"
   ]
  },
  {
   "cell_type": "code",
   "execution_count": 335,
   "id": "3a328b83-9317-444f-946c-aa7815fa9d50",
   "metadata": {},
   "outputs": [
    {
     "name": "stdout",
     "output_type": "stream",
     "text": [
      "[[0.16813793 0.24333535 0.61639804 0.74792429 0.97413497]\n",
      " [0.09789077 0.16192677 0.32968789 0.82708422 0.94868056]\n",
      " [0.05592617 0.15760759 0.57838577 0.64780595 0.97494789]\n",
      " [0.00921587 0.13909405 0.21133053 0.92317698 0.94918322]\n",
      " [0.11821656 0.18145081 0.21812762 0.30896375 0.99382168]]\n"
     ]
    }
   ],
   "source": [
    "#sort by column\n",
    "y.sort(axis=1)\n",
    "print(y)"
   ]
  },
  {
   "cell_type": "code",
   "execution_count": 319,
   "id": "1b1d6ef9-2ef6-4adb-90fe-70f3e49fa40b",
   "metadata": {},
   "outputs": [
    {
     "data": {
      "text/plain": [
       "array([[ 1.27308732,  1.03991992,  0.54592401, -1.3227452 ,  0.03171056],\n",
       "       [-0.1254923 ,  0.29259731,  0.2223051 , -1.1297779 ,  0.00416488],\n",
       "       [-0.78380596, -1.85840869, -0.20423542, -0.60802097, -1.58525281],\n",
       "       [-0.42091871,  0.25050483,  1.00550538,  0.46842138,  0.06838629],\n",
       "       [ 0.48072738,  0.84597043, -1.48531315,  0.129126  ,  2.18711036]])"
      ]
     },
     "execution_count": 319,
     "metadata": {},
     "output_type": "execute_result"
    }
   ],
   "source": [
    "#randn-This method generate random floating point positive and negative value \n",
    "z=np.random.randn(5,5)\n",
    "z"
   ]
  },
  {
   "cell_type": "code",
   "execution_count": 339,
   "id": "6a511308-3799-4e4c-8e15-867cb1da5c4a",
   "metadata": {},
   "outputs": [
    {
     "name": "stdout",
     "output_type": "stream",
     "text": [
      "[[-1.3227452   0.03171056  0.54592401  1.03991992  1.27308732]\n",
      " [-1.1297779  -0.1254923   0.00416488  0.2223051   0.29259731]\n",
      " [-1.85840869 -1.58525281 -0.78380596 -0.60802097 -0.20423542]\n",
      " [-0.42091871  0.06838629  0.25050483  0.46842138  1.00550538]\n",
      " [-1.48531315  0.129126    0.48072738  0.84597043  2.18711036]]\n"
     ]
    }
   ],
   "source": [
    "#sort by row\n",
    "z.sort()\n",
    "print(z)"
   ]
  },
  {
   "cell_type": "code",
   "execution_count": 347,
   "id": "5f90ef2f-3055-4912-aa72-af26890e7867",
   "metadata": {},
   "outputs": [
    {
     "name": "stdout",
     "output_type": "stream",
     "text": [
      "[[-1.3227452   0.03171056  0.54592401  1.03991992  1.27308732]\n",
      " [-1.1297779  -0.1254923   0.00416488  0.2223051   0.29259731]\n",
      " [-1.85840869 -1.58525281 -0.78380596 -0.60802097 -0.20423542]\n",
      " [-0.42091871  0.06838629  0.25050483  0.46842138  1.00550538]\n",
      " [-1.48531315  0.129126    0.48072738  0.84597043  2.18711036]]\n"
     ]
    }
   ],
   "source": [
    "# Sort by column\n",
    "z.sort(axis=1)\n",
    "print(z)"
   ]
  },
  {
   "cell_type": "code",
   "execution_count": 359,
   "id": "fd86c17e-fdb7-4c13-b010-00c9b684518d",
   "metadata": {},
   "outputs": [
    {
     "data": {
      "text/plain": [
       "array([[37, 12, 72],\n",
       "       [ 9, 75,  5]])"
      ]
     },
     "execution_count": 359,
     "metadata": {},
     "output_type": "execute_result"
    }
   ],
   "source": [
    "random.seed(1)# It will generate same random number will be generated every time you run the code.\n",
    "a=random.randint(100,size=(2,3))\n",
    "a"
   ]
  },
  {
   "cell_type": "markdown",
   "id": "ec297037-02d1-4d6d-905d-da3ef893fff4",
   "metadata": {},
   "source": [
    "** method taken an array as a parameter and randomly return one of the values**"
   ]
  },
  {
   "cell_type": "code",
   "execution_count": 362,
   "id": "c943e275-1402-45d4-87c8-8669f0a08589",
   "metadata": {},
   "outputs": [
    {
     "data": {
      "text/plain": [
       "4"
      ]
     },
     "execution_count": 362,
     "metadata": {},
     "output_type": "execute_result"
    }
   ],
   "source": [
    "a=np.random.choice([1,2,3,4])\n",
    "a"
   ]
  },
  {
   "cell_type": "code",
   "execution_count": 370,
   "id": "7bd4c812-61f1-43df-a4f0-3f0557380230",
   "metadata": {},
   "outputs": [
    {
     "data": {
      "text/plain": [
       "array([[2, 2, 4, 4],\n",
       "       [2, 3, 2, 2],\n",
       "       [1, 1, 2, 1],\n",
       "       [1, 2, 4, 4]])"
      ]
     },
     "execution_count": 370,
     "metadata": {},
     "output_type": "execute_result"
    }
   ],
   "source": [
    "a=np.random.choice([1,2,3,4,],size=(4,4))\n",
    "a"
   ]
  },
  {
   "cell_type": "markdown",
   "id": "e44dce2c-f4cc-4d32-ac98-cd286b0fac48",
   "metadata": {},
   "source": [
    "** Creating Arrays Using Zeros and  Ones Functions **"
   ]
  },
  {
   "cell_type": "code",
   "execution_count": 379,
   "id": "5411476d-6c92-4be7-844a-2ca889855389",
   "metadata": {},
   "outputs": [
    {
     "data": {
      "text/plain": [
       "array([0, 0, 0, 0, 0])"
      ]
     },
     "execution_count": 379,
     "metadata": {},
     "output_type": "execute_result"
    }
   ],
   "source": [
    "arr=np.zeros(5,dtype='int')\n",
    "arr"
   ]
  },
  {
   "cell_type": "code",
   "execution_count": 383,
   "id": "a4ab1763-cae5-438a-92bd-9dd1f6d31587",
   "metadata": {},
   "outputs": [
    {
     "data": {
      "text/plain": [
       "array([[0, 0, 0, 0],\n",
       "       [0, 0, 0, 0],\n",
       "       [0, 0, 0, 0]])"
      ]
     },
     "execution_count": 383,
     "metadata": {},
     "output_type": "execute_result"
    }
   ],
   "source": [
    "ar1=np.zeros((3,4),dtype='int')\n",
    "ar1"
   ]
  },
  {
   "cell_type": "code",
   "execution_count": 385,
   "id": "d3789e59-dc4b-4fab-8374-c376f8fb1e68",
   "metadata": {},
   "outputs": [
    {
     "data": {
      "text/plain": [
       "array([1., 1., 1., 1., 1.])"
      ]
     },
     "execution_count": 385,
     "metadata": {},
     "output_type": "execute_result"
    }
   ],
   "source": [
    "ar2=np.ones(5)\n",
    "ar2"
   ]
  },
  {
   "cell_type": "code",
   "execution_count": 387,
   "id": "f4c31f41-010a-4e9f-ae9a-19d2f0c6d453",
   "metadata": {},
   "outputs": [
    {
     "data": {
      "text/plain": [
       "array([[1, 1, 1, 1],\n",
       "       [1, 1, 1, 1],\n",
       "       [1, 1, 1, 1],\n",
       "       [1, 1, 1, 1]])"
      ]
     },
     "execution_count": 387,
     "metadata": {},
     "output_type": "execute_result"
    }
   ],
   "source": [
    "ar2=np.ones((4,4),dtype='int')\n",
    "ar2"
   ]
  },
  {
   "cell_type": "markdown",
   "id": "88ce1452-b2fd-4483-b775-307d53a5c120",
   "metadata": {},
   "source": [
    "** eye-It is used to create 2-D array with once on the diagonal and zeros eleswhere **\n",
    " \n",
    "Identity matrix"
   ]
  },
  {
   "cell_type": "code",
   "execution_count": 393,
   "id": "6b062ee6-5330-47c1-ad02-b0bf43fb8071",
   "metadata": {},
   "outputs": [
    {
     "name": "stdout",
     "output_type": "stream",
     "text": [
      "[[1. 0.]\n",
      " [0. 1.]]\n"
     ]
    }
   ],
   "source": [
    "iden=np.eye(2)\n",
    "print(iden)"
   ]
  },
  {
   "cell_type": "code",
   "execution_count": 395,
   "id": "14a69d35-d074-4bec-9dfe-f485d302c317",
   "metadata": {},
   "outputs": [
    {
     "data": {
      "text/plain": [
       "array([[1., 0., 0., 0., 0.],\n",
       "       [0., 1., 0., 0., 0.],\n",
       "       [0., 0., 1., 0., 0.],\n",
       "       [0., 0., 0., 1., 0.],\n",
       "       [0., 0., 0., 0., 1.]])"
      ]
     },
     "execution_count": 395,
     "metadata": {},
     "output_type": "execute_result"
    }
   ],
   "source": [
    "iden=np.eye(5)\n",
    "iden"
   ]
  },
  {
   "cell_type": "code",
   "execution_count": 405,
   "id": "db3ab675-c311-46d2-810d-993371f20b91",
   "metadata": {},
   "outputs": [
    {
     "name": "stdout",
     "output_type": "stream",
     "text": [
      "[[5. 0. 0. 0. 0.]\n",
      " [0. 5. 0. 0. 0.]\n",
      " [0. 0. 5. 0. 0.]\n",
      " [0. 0. 0. 5. 0.]\n",
      " [0. 0. 0. 0. 5.]]\n"
     ]
    }
   ],
   "source": [
    "np.fill_diagonal(iden,5)\n",
    "print(iden)"
   ]
  },
  {
   "cell_type": "markdown",
   "id": "1a5857cd-51ba-4060-b75e-80963d713637",
   "metadata": {},
   "source": [
    "** logical_and(), logical_or(), logical_not() **"
   ]
  },
  {
   "cell_type": "code",
   "execution_count": 418,
   "id": "bb3c2dfc-66d8-4440-984c-e1b6e43916a3",
   "metadata": {},
   "outputs": [
    {
     "name": "stdout",
     "output_type": "stream",
     "text": [
      "Logical_and(): [ True  True  True  True]\n"
     ]
    }
   ],
   "source": [
    "ar=np.array([1,2,3,4])\n",
    "ar1=np.array([3,4,5,6])\n",
    "a=np.logical_and(ar>0,ar1>1)\n",
    "print('Logical_and():',a)"
   ]
  },
  {
   "cell_type": "code",
   "execution_count": 420,
   "id": "b2d43d24-6c57-4268-8b82-9678ef1b535a",
   "metadata": {},
   "outputs": [
    {
     "name": "stdout",
     "output_type": "stream",
     "text": [
      "Logical_or() [ True  True  True  True]\n"
     ]
    }
   ],
   "source": [
    "b=np.logical_or(ar<0,ar>0)\n",
    "print('Logical_or()',b)"
   ]
  },
  {
   "cell_type": "code",
   "execution_count": 426,
   "id": "0b436a01-ae73-45ce-8d64-88187bfdabde",
   "metadata": {},
   "outputs": [
    {
     "name": "stdout",
     "output_type": "stream",
     "text": [
      "logical_not : [False False False False]\n"
     ]
    }
   ],
   "source": [
    "c=np.logical_not(b)\n",
    "print('logical_not :',c)"
   ]
  },
  {
   "cell_type": "markdown",
   "id": "678e5a55-2ead-428a-bff3-0051c5c86def",
   "metadata": {},
   "source": [
    "** Transpose of a matrix (Array) **"
   ]
  },
  {
   "cell_type": "code",
   "execution_count": 437,
   "id": "805d387a-8f78-43eb-99ee-076c94c20b93",
   "metadata": {},
   "outputs": [
    {
     "name": "stdout",
     "output_type": "stream",
     "text": [
      "Original Array is: [[1 2 3]\n",
      " [4 5 6]\n",
      " [7 8 9]]\n",
      "***********************************\n",
      "Transpose of a Array is:\n",
      "[[1 4 7]\n",
      " [2 5 8]\n",
      " [3 6 9]]\n"
     ]
    }
   ],
   "source": [
    "a=np.array([[1,2,3],[4,5,6],[7,8,9]])\n",
    "print('Original Array is:',a)\n",
    "print('*'*35)\n",
    "print('Transpose of a Array is:')\n",
    "print(a.transpose())"
   ]
  },
  {
   "cell_type": "code",
   "execution_count": 441,
   "id": "4d7053d5-66f2-4027-877b-59cca94d7f93",
   "metadata": {},
   "outputs": [
    {
     "name": "stdout",
     "output_type": "stream",
     "text": [
      "Original Array is: [[ 0  1  2]\n",
      " [ 3  4  5]\n",
      " [ 6  7  8]\n",
      " [ 9 10 11]]\n",
      "***********************************\n",
      "Transpose of a Array is:\n",
      "[[ 0  3  6  9]\n",
      " [ 1  4  7 10]\n",
      " [ 2  5  8 11]]\n"
     ]
    }
   ],
   "source": [
    "arr=np.arange(12).reshape(4,3)\n",
    "print('Original Array is:',arr)\n",
    "print('*'*35)\n",
    "print(\"Transpose of a Array is:\")\n",
    "print(arr.T)\n"
   ]
  },
  {
   "cell_type": "markdown",
   "id": "2f2d8079-c96d-4836-94d6-7ac45721f75e",
   "metadata": {},
   "source": [
    "full-full function is used create a numpy array filled specified constant value."
   ]
  },
  {
   "cell_type": "code",
   "execution_count": 444,
   "id": "77bf9b8c-af49-41ae-a31e-a6655e98fbed",
   "metadata": {},
   "outputs": [
    {
     "name": "stdout",
     "output_type": "stream",
     "text": [
      "[4 4 4 4 4]\n"
     ]
    }
   ],
   "source": [
    "a=np.full(5,4)\n",
    "print(a)"
   ]
  },
  {
   "cell_type": "code",
   "execution_count": 446,
   "id": "4c86a77e-ff61-4753-906b-1f5e87133ec6",
   "metadata": {},
   "outputs": [
    {
     "name": "stdout",
     "output_type": "stream",
     "text": [
      "[[50 50 50]\n",
      " [50 50 50]\n",
      " [50 50 50]]\n"
     ]
    }
   ],
   "source": [
    "b=np.full((3,3),50)\n",
    "print(b)"
   ]
  },
  {
   "cell_type": "markdown",
   "id": "9882612b-9d94-4758-b6da-29aeae5ebe9d",
   "metadata": {},
   "source": [
    "** linspace - It is allow you to customize the range to fit your specific needs. **\n",
    "\n",
    "** linspace - start and stop two parameters are required. **\n"
   ]
  },
  {
   "cell_type": "code",
   "execution_count": 452,
   "id": "49215ccf-84e8-4dd8-8586-2c6ae8dc926f",
   "metadata": {},
   "outputs": [
    {
     "name": "stdout",
     "output_type": "stream",
     "text": [
      "[ 1.          1.18367347  1.36734694  1.55102041  1.73469388  1.91836735\n",
      "  2.10204082  2.28571429  2.46938776  2.65306122  2.83673469  3.02040816\n",
      "  3.20408163  3.3877551   3.57142857  3.75510204  3.93877551  4.12244898\n",
      "  4.30612245  4.48979592  4.67346939  4.85714286  5.04081633  5.2244898\n",
      "  5.40816327  5.59183673  5.7755102   5.95918367  6.14285714  6.32653061\n",
      "  6.51020408  6.69387755  6.87755102  7.06122449  7.24489796  7.42857143\n",
      "  7.6122449   7.79591837  7.97959184  8.16326531  8.34693878  8.53061224\n",
      "  8.71428571  8.89795918  9.08163265  9.26530612  9.44897959  9.63265306\n",
      "  9.81632653 10.        ]\n",
      "float64\n",
      "(50,)\n",
      "50\n"
     ]
    }
   ],
   "source": [
    "lin=np.linspace(1,10)\n",
    "print(lin)\n",
    "print(lin.dtype)\n",
    "print(lin.shape)\n",
    "print(lin.size)"
   ]
  },
  {
   "cell_type": "code",
   "execution_count": 458,
   "id": "5c11eda0-cb2d-4bc4-bce5-17475c2de589",
   "metadata": {},
   "outputs": [
    {
     "name": "stdout",
     "output_type": "stream",
     "text": [
      "[ 1.          1.09090909  1.18181818  1.27272727  1.36363636  1.45454545\n",
      "  1.54545455  1.63636364  1.72727273  1.81818182  1.90909091  2.\n",
      "  2.09090909  2.18181818  2.27272727  2.36363636  2.45454545  2.54545455\n",
      "  2.63636364  2.72727273  2.81818182  2.90909091  3.          3.09090909\n",
      "  3.18181818  3.27272727  3.36363636  3.45454545  3.54545455  3.63636364\n",
      "  3.72727273  3.81818182  3.90909091  4.          4.09090909  4.18181818\n",
      "  4.27272727  4.36363636  4.45454545  4.54545455  4.63636364  4.72727273\n",
      "  4.81818182  4.90909091  5.          5.09090909  5.18181818  5.27272727\n",
      "  5.36363636  5.45454545  5.54545455  5.63636364  5.72727273  5.81818182\n",
      "  5.90909091  6.          6.09090909  6.18181818  6.27272727  6.36363636\n",
      "  6.45454545  6.54545455  6.63636364  6.72727273  6.81818182  6.90909091\n",
      "  7.          7.09090909  7.18181818  7.27272727  7.36363636  7.45454545\n",
      "  7.54545455  7.63636364  7.72727273  7.81818182  7.90909091  8.\n",
      "  8.09090909  8.18181818  8.27272727  8.36363636  8.45454545  8.54545455\n",
      "  8.63636364  8.72727273  8.81818182  8.90909091  9.          9.09090909\n",
      "  9.18181818  9.27272727  9.36363636  9.45454545  9.54545455  9.63636364\n",
      "  9.72727273  9.81818182  9.90909091 10.        ]\n"
     ]
    }
   ],
   "source": [
    "lin=np.linspace(1,10,100)\n",
    "print(lin)"
   ]
  },
  {
   "cell_type": "markdown",
   "id": "3cf1f41c-e933-43db-b096-af300cdbf090",
   "metadata": {},
   "source": [
    "logspace - logspace is similar to linspace. The linspace function produces the evenly spaced points."
   ]
  },
  {
   "cell_type": "markdown",
   "id": "5e06a2a3-fdc6-4e72-bb25-183dc3e4ab9f",
   "metadata": {},
   "source": [
    "logspace produces evenly spaced points on a logarthmically spaced scale."
   ]
  },
  {
   "cell_type": "code",
   "execution_count": 462,
   "id": "85c1da10-f6b8-46af-9ff3-804d5f436239",
   "metadata": {},
   "outputs": [
    {
     "data": {
      "text/plain": [
       "array([ 10.        ,  12.91549665,  16.68100537,  21.5443469 ,\n",
       "        27.82559402,  35.93813664,  46.41588834,  59.94842503,\n",
       "        77.42636827, 100.        ])"
      ]
     },
     "execution_count": 462,
     "metadata": {},
     "output_type": "execute_result"
    }
   ],
   "source": [
    "a=np.logspace(1,2,10)\n",
    "a"
   ]
  },
  {
   "cell_type": "markdown",
   "id": "985fe4cd-3ebb-4bca-93ab-5bea8589edcf",
   "metadata": {},
   "source": [
    "** Trigonometric Functions **"
   ]
  },
  {
   "cell_type": "code",
   "execution_count": 465,
   "id": "ac9ec210-faa0-4944-95cb-e49e1ea18469",
   "metadata": {},
   "outputs": [
    {
     "data": {
      "text/plain": [
       "3.141592653589793"
      ]
     },
     "execution_count": 465,
     "metadata": {},
     "output_type": "execute_result"
    }
   ],
   "source": [
    "np.pi"
   ]
  },
  {
   "cell_type": "code",
   "execution_count": 467,
   "id": "289b55a6-3677-4819-9ab0-bd0d021bb432",
   "metadata": {},
   "outputs": [
    {
     "data": {
      "text/plain": [
       "1.5707963267948966"
      ]
     },
     "execution_count": 467,
     "metadata": {},
     "output_type": "execute_result"
    }
   ],
   "source": [
    "np.pi/2"
   ]
  },
  {
   "cell_type": "code",
   "execution_count": 469,
   "id": "d8ec16fc-2acc-42f7-aa1f-6b16db1007ff",
   "metadata": {},
   "outputs": [
    {
     "data": {
      "text/plain": [
       "1.0"
      ]
     },
     "execution_count": 469,
     "metadata": {},
     "output_type": "execute_result"
    }
   ],
   "source": [
    "a=np.sin(np.pi/2)\n",
    "a"
   ]
  },
  {
   "cell_type": "code",
   "execution_count": 473,
   "id": "0c94f839-a791-4f36-8ff1-e1183bb104a4",
   "metadata": {},
   "outputs": [
    {
     "data": {
      "text/plain": [
       "0.0"
      ]
     },
     "execution_count": 473,
     "metadata": {},
     "output_type": "execute_result"
    }
   ],
   "source": [
    "a=np.sin(0)\n",
    "a"
   ]
  },
  {
   "cell_type": "code",
   "execution_count": 475,
   "id": "9084274e-0899-4fa0-8a85-e3f4653792bf",
   "metadata": {},
   "outputs": [
    {
     "data": {
      "text/plain": [
       "0.7071067811865476"
      ]
     },
     "execution_count": 475,
     "metadata": {},
     "output_type": "execute_result"
    }
   ],
   "source": [
    "b=np.cos(np.pi/4)\n",
    "b"
   ]
  },
  {
   "cell_type": "code",
   "execution_count": null,
   "id": "6a1791e0-4cd8-4811-aa2e-75b26fafd122",
   "metadata": {},
   "outputs": [],
   "source": []
  }
 ],
 "metadata": {
  "kernelspec": {
   "display_name": "Python [conda env:base] *",
   "language": "python",
   "name": "conda-base-py"
  },
  "language_info": {
   "codemirror_mode": {
    "name": "ipython",
    "version": 3
   },
   "file_extension": ".py",
   "mimetype": "text/x-python",
   "name": "python",
   "nbconvert_exporter": "python",
   "pygments_lexer": "ipython3",
   "version": "3.12.7"
  }
 },
 "nbformat": 4,
 "nbformat_minor": 5
}
