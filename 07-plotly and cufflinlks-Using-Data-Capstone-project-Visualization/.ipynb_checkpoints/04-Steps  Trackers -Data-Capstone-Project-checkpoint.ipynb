{
 "cells": [
  {
   "cell_type": "code",
   "execution_count": null,
   "id": "56312a26-27cc-4752-9de0-af9f2a05e421",
   "metadata": {},
   "outputs": [],
   "source": [
    "Name  : Arivazhagan.B\n",
    "\n",
    "Topic : plotly and cufflinks using data visulaization capstone projecte\n",
    "\n",
    "Email : barivazhagan8@gmail.com\n"
   ]
  },
  {
   "cell_type": "markdown",
   "id": "219ae28a-eef6-454c-ba82-b6c5716145b6",
   "metadata": {},
   "source": [
    "## Steps Trackers Dataset"
   ]
  },
  {
   "cell_type": "markdown",
   "id": "89083eca-35ac-4afa-8542-7c3f42ddde02",
   "metadata": {},
   "source": [
    "For this capstone project we will be analyzing some **Steps Tracers** data from [Kaggle]. The data contains the following fields:h\n",
    "\n",
    "* date- Date of the activity (string format)\n",
    "\n",
    "* steps - Number of steps taken  \n",
    "\n",
    "* distance_km -Distance covered in kilometers\n",
    "\n",
    "* calories_burned - Calories burned \n",
    "\n",
    "* active_minutes - Active minutes in a day \n",
    "\n",
    "* sleep_hours - Hours of sleep\n",
    "\n",
    "* water_intake_liters -Water intake in liters\n",
    "\n",
    "* mood - Mood for the day (e.g.,happy,sad,tired,stressed,etc.)\n",
    "\n",
    "Just go along with this notebook and try to complete the instructions or answer the questions in bold using my  Python and Data Science skills!"
   ]
  },
  {
   "cell_type": "markdown",
   "id": "37269422-9788-4b4f-88a6-249f833fce68",
   "metadata": {},
   "source": [
    "** import numpy and pandas **"
   ]
  },
  {
   "cell_type": "code",
   "execution_count": 7,
   "id": "f290d707-c08f-4ba4-a875-6b7e8fdee0ba",
   "metadata": {},
   "outputs": [],
   "source": [
    "import pandas as pd\n",
    "import  numpy as np"
   ]
  },
  {
   "cell_type": "markdown",
   "id": "bb09c0f8-9e8c-4fa6-be49-596e132d218c",
   "metadata": {},
   "source": [
    "** import visualization libraries **"
   ]
  },
  {
   "cell_type": "code",
   "execution_count": 6,
   "id": "04b4e93b-a653-4cb3-9654-06922b02ba37",
   "metadata": {},
   "outputs": [
    {
     "data": {
      "text/html": [
       "        <script type=\"text/javascript\">\n",
       "        window.PlotlyConfig = {MathJaxConfig: 'local'};\n",
       "        if (window.MathJax && window.MathJax.Hub && window.MathJax.Hub.Config) {window.MathJax.Hub.Config({SVG: {font: \"STIX-Web\"}});}\n",
       "        if (typeof require !== 'undefined') {\n",
       "        require.undef(\"plotly\");\n",
       "        requirejs.config({\n",
       "            paths: {\n",
       "                'plotly': ['https://cdn.plot.ly/plotly-2.35.2.min']\n",
       "            }\n",
       "        });\n",
       "        require(['plotly'], function(Plotly) {\n",
       "            window._Plotly = Plotly;\n",
       "        });\n",
       "        }\n",
       "        </script>\n",
       "        "
      ]
     },
     "metadata": {},
     "output_type": "display_data"
    }
   ],
   "source": [
    "import matplotlib.pyplot as plt\n",
    "import seaborn as sns\n",
    "import plotly.express as px\n",
    "import cufflinks as cf \n",
    "cf.go_offline()"
   ]
  },
  {
   "cell_type": "markdown",
   "id": "5249204b-f596-4155-aac6-6835c46d9de8",
   "metadata": {},
   "source": [
    "** Read in the csv file as a called df **"
   ]
  },
  {
   "cell_type": "code",
   "execution_count": 8,
   "id": "47fd62d9-74b5-47c3-87ed-8f7e8153d079",
   "metadata": {},
   "outputs": [
    {
     "data": {
      "text/html": [
       "<div>\n",
       "<style scoped>\n",
       "    .dataframe tbody tr th:only-of-type {\n",
       "        vertical-align: middle;\n",
       "    }\n",
       "\n",
       "    .dataframe tbody tr th {\n",
       "        vertical-align: top;\n",
       "    }\n",
       "\n",
       "    .dataframe thead th {\n",
       "        text-align: right;\n",
       "    }\n",
       "</style>\n",
       "<table border=\"1\" class=\"dataframe\">\n",
       "  <thead>\n",
       "    <tr style=\"text-align: right;\">\n",
       "      <th></th>\n",
       "      <th>date</th>\n",
       "      <th>steps</th>\n",
       "      <th>distance_km</th>\n",
       "      <th>calories_burned</th>\n",
       "      <th>active_minutes</th>\n",
       "      <th>sleep_hours</th>\n",
       "      <th>water_intake_liters</th>\n",
       "      <th>mood</th>\n",
       "    </tr>\n",
       "  </thead>\n",
       "  <tbody>\n",
       "    <tr>\n",
       "      <th>0</th>\n",
       "      <td>2022-10-08</td>\n",
       "      <td>4147</td>\n",
       "      <td>3.11</td>\n",
       "      <td>124.41</td>\n",
       "      <td>41</td>\n",
       "      <td>10.5</td>\n",
       "      <td>3.77</td>\n",
       "      <td>stressed</td>\n",
       "    </tr>\n",
       "    <tr>\n",
       "      <th>1</th>\n",
       "      <td>2022-06-11</td>\n",
       "      <td>323</td>\n",
       "      <td>0.24</td>\n",
       "      <td>9.69</td>\n",
       "      <td>3</td>\n",
       "      <td>6.0</td>\n",
       "      <td>1.90</td>\n",
       "      <td>sad</td>\n",
       "    </tr>\n",
       "    <tr>\n",
       "      <th>2</th>\n",
       "      <td>2022-01-28</td>\n",
       "      <td>6622</td>\n",
       "      <td>4.97</td>\n",
       "      <td>198.66</td>\n",
       "      <td>66</td>\n",
       "      <td>6.0</td>\n",
       "      <td>4.48</td>\n",
       "      <td>sad</td>\n",
       "    </tr>\n",
       "    <tr>\n",
       "      <th>3</th>\n",
       "      <td>2022-03-23</td>\n",
       "      <td>11136</td>\n",
       "      <td>8.35</td>\n",
       "      <td>334.08</td>\n",
       "      <td>111</td>\n",
       "      <td>8.0</td>\n",
       "      <td>1.08</td>\n",
       "      <td>tired</td>\n",
       "    </tr>\n",
       "    <tr>\n",
       "      <th>4</th>\n",
       "      <td>2022-05-20</td>\n",
       "      <td>2718</td>\n",
       "      <td>2.04</td>\n",
       "      <td>81.54</td>\n",
       "      <td>27</td>\n",
       "      <td>4.9</td>\n",
       "      <td>1.00</td>\n",
       "      <td>tired</td>\n",
       "    </tr>\n",
       "    <tr>\n",
       "      <th>...</th>\n",
       "      <td>...</td>\n",
       "      <td>...</td>\n",
       "      <td>...</td>\n",
       "      <td>...</td>\n",
       "      <td>...</td>\n",
       "      <td>...</td>\n",
       "      <td>...</td>\n",
       "      <td>...</td>\n",
       "    </tr>\n",
       "    <tr>\n",
       "      <th>495</th>\n",
       "      <td>2022-05-04</td>\n",
       "      <td>17376</td>\n",
       "      <td>13.03</td>\n",
       "      <td>521.28</td>\n",
       "      <td>174</td>\n",
       "      <td>8.0</td>\n",
       "      <td>2.86</td>\n",
       "      <td>energetic</td>\n",
       "    </tr>\n",
       "    <tr>\n",
       "      <th>496</th>\n",
       "      <td>2022-04-16</td>\n",
       "      <td>6917</td>\n",
       "      <td>5.19</td>\n",
       "      <td>207.51</td>\n",
       "      <td>69</td>\n",
       "      <td>4.7</td>\n",
       "      <td>0.49</td>\n",
       "      <td>sad</td>\n",
       "    </tr>\n",
       "    <tr>\n",
       "      <th>497</th>\n",
       "      <td>2022-01-08</td>\n",
       "      <td>12247</td>\n",
       "      <td>9.19</td>\n",
       "      <td>367.41</td>\n",
       "      <td>122</td>\n",
       "      <td>9.0</td>\n",
       "      <td>0.15</td>\n",
       "      <td>happy</td>\n",
       "    </tr>\n",
       "    <tr>\n",
       "      <th>498</th>\n",
       "      <td>2022-03-01</td>\n",
       "      <td>8295</td>\n",
       "      <td>6.22</td>\n",
       "      <td>248.85</td>\n",
       "      <td>83</td>\n",
       "      <td>4.8</td>\n",
       "      <td>2.39</td>\n",
       "      <td>stressed</td>\n",
       "    </tr>\n",
       "    <tr>\n",
       "      <th>499</th>\n",
       "      <td>2022-08-18</td>\n",
       "      <td>5254</td>\n",
       "      <td>3.94</td>\n",
       "      <td>157.62</td>\n",
       "      <td>53</td>\n",
       "      <td>3.3</td>\n",
       "      <td>2.15</td>\n",
       "      <td>sad</td>\n",
       "    </tr>\n",
       "  </tbody>\n",
       "</table>\n",
       "<p>500 rows × 8 columns</p>\n",
       "</div>"
      ],
      "text/plain": [
       "           date  steps  distance_km  calories_burned  active_minutes  \\\n",
       "0    2022-10-08   4147         3.11           124.41              41   \n",
       "1    2022-06-11    323         0.24             9.69               3   \n",
       "2    2022-01-28   6622         4.97           198.66              66   \n",
       "3    2022-03-23  11136         8.35           334.08             111   \n",
       "4    2022-05-20   2718         2.04            81.54              27   \n",
       "..          ...    ...          ...              ...             ...   \n",
       "495  2022-05-04  17376        13.03           521.28             174   \n",
       "496  2022-04-16   6917         5.19           207.51              69   \n",
       "497  2022-01-08  12247         9.19           367.41             122   \n",
       "498  2022-03-01   8295         6.22           248.85              83   \n",
       "499  2022-08-18   5254         3.94           157.62              53   \n",
       "\n",
       "     sleep_hours  water_intake_liters       mood  \n",
       "0           10.5                 3.77   stressed  \n",
       "1            6.0                 1.90        sad  \n",
       "2            6.0                 4.48        sad  \n",
       "3            8.0                 1.08      tired  \n",
       "4            4.9                 1.00      tired  \n",
       "..           ...                  ...        ...  \n",
       "495          8.0                 2.86  energetic  \n",
       "496          4.7                 0.49        sad  \n",
       "497          9.0                 0.15      happy  \n",
       "498          4.8                 2.39   stressed  \n",
       "499          3.3                 2.15        sad  \n",
       "\n",
       "[500 rows x 8 columns]"
      ]
     },
     "execution_count": 8,
     "metadata": {},
     "output_type": "execute_result"
    }
   ],
   "source": [
    "df=pd.read_csv(r'C:\\Users\\ELCOT\\Desktop\\csv file\\Data Visualization\\steps_tracker_dataset.csv')\n",
    "df"
   ]
  },
  {
   "cell_type": "code",
   "execution_count": 19,
   "id": "ea7445d5-cdf6-49bc-87a7-a13b98d839f6",
   "metadata": {},
   "outputs": [
    {
     "name": "stdout",
     "output_type": "stream",
     "text": [
      "<class 'pandas.core.frame.DataFrame'>\n",
      "RangeIndex: 500 entries, 0 to 499\n",
      "Data columns (total 8 columns):\n",
      " #   Column               Non-Null Count  Dtype  \n",
      "---  ------               --------------  -----  \n",
      " 0   date                 500 non-null    object \n",
      " 1   steps                500 non-null    int64  \n",
      " 2   distance_km          500 non-null    float64\n",
      " 3   calories_burned      500 non-null    float64\n",
      " 4   active_minutes       500 non-null    int64  \n",
      " 5   sleep_hours          500 non-null    float64\n",
      " 6   water_intake_liters  500 non-null    float64\n",
      " 7   mood                 500 non-null    object \n",
      "dtypes: float64(4), int64(2), object(2)\n",
      "memory usage: 31.4+ KB\n"
     ]
    }
   ],
   "source": [
    "df.info()"
   ]
  },
  {
   "cell_type": "code",
   "execution_count": 21,
   "id": "101b5355-db70-4d1e-b1c2-3f8ee8e8f708",
   "metadata": {},
   "outputs": [
    {
     "data": {
      "text/html": [
       "<div>\n",
       "<style scoped>\n",
       "    .dataframe tbody tr th:only-of-type {\n",
       "        vertical-align: middle;\n",
       "    }\n",
       "\n",
       "    .dataframe tbody tr th {\n",
       "        vertical-align: top;\n",
       "    }\n",
       "\n",
       "    .dataframe thead th {\n",
       "        text-align: right;\n",
       "    }\n",
       "</style>\n",
       "<table border=\"1\" class=\"dataframe\">\n",
       "  <thead>\n",
       "    <tr style=\"text-align: right;\">\n",
       "      <th></th>\n",
       "      <th>steps</th>\n",
       "      <th>distance_km</th>\n",
       "      <th>calories_burned</th>\n",
       "      <th>active_minutes</th>\n",
       "      <th>sleep_hours</th>\n",
       "      <th>water_intake_liters</th>\n",
       "    </tr>\n",
       "  </thead>\n",
       "  <tbody>\n",
       "    <tr>\n",
       "      <th>count</th>\n",
       "      <td>500.000000</td>\n",
       "      <td>500.000000</td>\n",
       "      <td>500.000000</td>\n",
       "      <td>500.00000</td>\n",
       "      <td>500.000000</td>\n",
       "      <td>500.000000</td>\n",
       "    </tr>\n",
       "    <tr>\n",
       "      <th>mean</th>\n",
       "      <td>10238.572000</td>\n",
       "      <td>7.678800</td>\n",
       "      <td>307.157160</td>\n",
       "      <td>102.40800</td>\n",
       "      <td>7.292400</td>\n",
       "      <td>2.506580</td>\n",
       "    </tr>\n",
       "    <tr>\n",
       "      <th>std</th>\n",
       "      <td>5829.268207</td>\n",
       "      <td>4.371964</td>\n",
       "      <td>174.878046</td>\n",
       "      <td>58.29293</td>\n",
       "      <td>1.814046</td>\n",
       "      <td>1.426296</td>\n",
       "    </tr>\n",
       "    <tr>\n",
       "      <th>min</th>\n",
       "      <td>26.000000</td>\n",
       "      <td>0.020000</td>\n",
       "      <td>0.780000</td>\n",
       "      <td>0.00000</td>\n",
       "      <td>3.100000</td>\n",
       "      <td>0.040000</td>\n",
       "    </tr>\n",
       "    <tr>\n",
       "      <th>25%</th>\n",
       "      <td>5313.250000</td>\n",
       "      <td>3.985000</td>\n",
       "      <td>159.397500</td>\n",
       "      <td>53.00000</td>\n",
       "      <td>6.000000</td>\n",
       "      <td>1.300000</td>\n",
       "    </tr>\n",
       "    <tr>\n",
       "      <th>50%</th>\n",
       "      <td>10699.000000</td>\n",
       "      <td>8.025000</td>\n",
       "      <td>320.970000</td>\n",
       "      <td>107.00000</td>\n",
       "      <td>7.000000</td>\n",
       "      <td>2.495000</td>\n",
       "    </tr>\n",
       "    <tr>\n",
       "      <th>75%</th>\n",
       "      <td>15317.500000</td>\n",
       "      <td>11.490000</td>\n",
       "      <td>459.525000</td>\n",
       "      <td>153.00000</td>\n",
       "      <td>8.225000</td>\n",
       "      <td>3.785000</td>\n",
       "    </tr>\n",
       "    <tr>\n",
       "      <th>max</th>\n",
       "      <td>19979.000000</td>\n",
       "      <td>14.980000</td>\n",
       "      <td>599.370000</td>\n",
       "      <td>200.00000</td>\n",
       "      <td>12.000000</td>\n",
       "      <td>5.000000</td>\n",
       "    </tr>\n",
       "  </tbody>\n",
       "</table>\n",
       "</div>"
      ],
      "text/plain": [
       "              steps  distance_km  calories_burned  active_minutes  \\\n",
       "count    500.000000   500.000000       500.000000       500.00000   \n",
       "mean   10238.572000     7.678800       307.157160       102.40800   \n",
       "std     5829.268207     4.371964       174.878046        58.29293   \n",
       "min       26.000000     0.020000         0.780000         0.00000   \n",
       "25%     5313.250000     3.985000       159.397500        53.00000   \n",
       "50%    10699.000000     8.025000       320.970000       107.00000   \n",
       "75%    15317.500000    11.490000       459.525000       153.00000   \n",
       "max    19979.000000    14.980000       599.370000       200.00000   \n",
       "\n",
       "       sleep_hours  water_intake_liters  \n",
       "count   500.000000           500.000000  \n",
       "mean      7.292400             2.506580  \n",
       "std       1.814046             1.426296  \n",
       "min       3.100000             0.040000  \n",
       "25%       6.000000             1.300000  \n",
       "50%       7.000000             2.495000  \n",
       "75%       8.225000             3.785000  \n",
       "max      12.000000             5.000000  "
      ]
     },
     "execution_count": 21,
     "metadata": {},
     "output_type": "execute_result"
    }
   ],
   "source": [
    "df.describe()"
   ]
  },
  {
   "cell_type": "code",
   "execution_count": 78,
   "id": "93a41fd7-c34e-40f2-b1c4-ca3f88422abd",
   "metadata": {},
   "outputs": [
    {
     "data": {
      "text/plain": [
       "array([10,  6,  1,  3,  5, 12,  7,  8,  9,  4,  2, 11], dtype=int64)"
      ]
     },
     "execution_count": 78,
     "metadata": {},
     "output_type": "execute_result"
    }
   ],
   "source": [
    "df['date'].unique()"
   ]
  },
  {
   "cell_type": "code",
   "execution_count": 54,
   "id": "1a3ba5be-b4ae-4f5f-8ed9-a573484488dd",
   "metadata": {},
   "outputs": [
    {
     "data": {
      "text/plain": [
       "0     2022-10-08\n",
       "1     2022-06-11\n",
       "2     2022-01-28\n",
       "3     2022-03-23\n",
       "4     2022-05-20\n",
       "         ...    \n",
       "495   2022-05-04\n",
       "496   2022-04-16\n",
       "497   2022-01-08\n",
       "498   2022-03-01\n",
       "499   2022-08-18\n",
       "Name: date, Length: 500, dtype: datetime64[ns]"
      ]
     },
     "execution_count": 54,
     "metadata": {},
     "output_type": "execute_result"
    }
   ],
   "source": [
    "df['date']=pd.to_datetime(df['date'])\n",
    "df['date']\n"
   ]
  },
  {
   "cell_type": "markdown",
   "id": "6b15c702-4007-4999-b4f5-bc7d08f79434",
   "metadata": {},
   "source": [
    "## Steps over time(Line Chart)"
   ]
  },
  {
   "cell_type": "code",
   "execution_count": 76,
   "id": "d48a3e80-9198-470c-baf6-1b758c053567",
   "metadata": {},
   "outputs": [
    {
     "data": {
      "application/vnd.plotly.v1+json": {
       "config": {
        "plotlyServerURL": "https://plot.ly"
       },
       "data": [
        {
         "line": {
          "color": "rgba(255, 153, 51, 1.0)",
          "dash": "solid",
          "shape": "linear",
          "width": 1.3
         },
         "marker": {
          "size": 12,
          "symbol": "circle"
         },
         "mode": "lines+markers",
         "name": "steps",
         "text": "",
         "type": "scatter",
         "x": [
          10,
          6,
          1,
          3,
          5,
          12,
          7,
          7,
          6,
          6,
          1,
          6,
          10,
          8,
          7,
          9,
          7,
          4,
          1,
          1,
          7,
          2,
          8,
          10,
          3,
          5,
          5,
          5,
          6,
          7,
          2,
          1,
          5,
          3,
          8,
          9,
          8,
          7,
          7,
          1,
          8,
          3,
          4,
          12,
          3,
          5,
          1,
          3,
          8,
          11,
          2,
          1,
          4,
          3,
          4,
          7,
          1,
          2,
          6,
          11,
          3,
          6,
          7,
          2,
          4,
          5,
          9,
          6,
          9,
          1,
          12,
          3,
          10,
          1,
          11,
          10,
          4,
          6,
          4,
          10,
          4,
          7,
          11,
          1,
          5,
          12,
          8,
          4,
          3,
          6,
          8,
          2,
          7,
          12,
          9,
          6,
          12,
          3,
          11,
          12,
          2,
          5,
          12,
          10,
          5,
          12,
          12,
          3,
          9,
          3,
          10,
          1,
          5,
          4,
          12,
          1,
          12,
          7,
          1,
          8,
          6,
          5,
          7,
          8,
          3,
          1,
          8,
          10,
          9,
          12,
          7,
          1,
          1,
          8,
          1,
          3,
          7,
          11,
          11,
          9,
          4,
          12,
          11,
          8,
          8,
          12,
          9,
          10,
          6,
          12,
          12,
          9,
          12,
          9,
          11,
          1,
          6,
          10,
          8,
          7,
          6,
          6,
          3,
          6,
          8,
          6,
          10,
          8,
          8,
          12,
          7,
          2,
          12,
          12,
          7,
          3,
          9,
          3,
          6,
          3,
          12,
          10,
          10,
          3,
          2,
          3,
          10,
          1,
          4,
          8,
          7,
          9,
          2,
          12,
          3,
          7,
          6,
          8,
          6,
          5,
          11,
          10,
          3,
          4,
          4,
          12,
          12,
          4,
          5,
          6,
          12,
          12,
          6,
          4,
          2,
          9,
          1,
          5,
          10,
          1,
          9,
          9,
          1,
          8,
          1,
          4,
          5,
          8,
          5,
          7,
          12,
          5,
          10,
          10,
          6,
          11,
          5,
          7,
          12,
          2,
          4,
          10,
          1,
          7,
          10,
          10,
          5,
          5,
          12,
          11,
          11,
          3,
          2,
          4,
          1,
          7,
          5,
          5,
          11,
          8,
          7,
          3,
          1,
          1,
          2,
          9,
          12,
          6,
          9,
          9,
          11,
          5,
          9,
          6,
          9,
          3,
          8,
          9,
          9,
          2,
          8,
          1,
          12,
          10,
          9,
          7,
          10,
          6,
          5,
          6,
          1,
          3,
          11,
          10,
          11,
          4,
          10,
          11,
          6,
          9,
          3,
          11,
          4,
          10,
          7,
          4,
          1,
          11,
          10,
          8,
          1,
          5,
          1,
          12,
          6,
          11,
          1,
          8,
          8,
          3,
          8,
          2,
          3,
          2,
          8,
          2,
          11,
          12,
          5,
          6,
          2,
          2,
          12,
          3,
          8,
          11,
          8,
          2,
          2,
          10,
          3,
          7,
          4,
          4,
          6,
          6,
          7,
          1,
          12,
          7,
          11,
          10,
          9,
          3,
          2,
          11,
          12,
          10,
          11,
          5,
          11,
          2,
          8,
          6,
          12,
          10,
          4,
          3,
          8,
          6,
          10,
          9,
          12,
          1,
          3,
          2,
          7,
          9,
          6,
          5,
          10,
          11,
          5,
          11,
          11,
          4,
          12,
          4,
          7,
          6,
          3,
          3,
          3,
          2,
          9,
          12,
          8,
          5,
          5,
          1,
          5,
          11,
          5,
          12,
          3,
          1,
          6,
          9,
          11,
          10,
          6,
          7,
          6,
          2,
          7,
          7,
          4,
          12,
          1,
          9,
          6,
          7,
          4,
          1,
          4,
          6,
          9,
          9,
          4,
          10,
          3,
          12,
          9,
          1,
          4,
          10,
          6,
          6,
          6,
          6,
          2,
          3,
          2,
          8,
          4,
          11,
          3,
          6,
          4,
          7,
          9,
          4,
          10,
          8,
          1,
          7,
          8,
          9,
          12,
          2,
          10,
          6,
          9,
          4,
          9,
          10,
          6,
          3,
          3,
          12,
          5,
          10,
          8,
          5,
          10,
          7,
          5,
          6,
          7,
          10,
          12,
          2,
          12,
          9,
          3,
          3,
          5,
          12,
          2,
          12,
          6,
          5,
          1,
          6,
          5,
          5,
          4,
          1,
          3,
          8
         ],
         "y": [
          4147,
          323,
          6622,
          11136,
          2718,
          4972,
          15271,
          17290,
          1042,
          6818,
          13141,
          5046,
          11615,
          4301,
          8655,
          14113,
          15435,
          18451,
          11850,
          1075,
          5340,
          13972,
          17002,
          7786,
          10776,
          15203,
          2644,
          1905,
          7467,
          15005,
          1811,
          17812,
          1193,
          14118,
          17536,
          8159,
          16123,
          5606,
          6292,
          7740,
          8678,
          5861,
          10948,
          11079,
          14928,
          19940,
          10598,
          17134,
          3276,
          17751,
          6679,
          8929,
          329,
          17094,
          1964,
          19702,
          13813,
          6169,
          11000,
          6683,
          843,
          5397,
          12976,
          2169,
          7287,
          10720,
          765,
          18989,
          3105,
          7445,
          15063,
          1505,
          18313,
          13681,
          17964,
          8497,
          17993,
          19143,
          19529,
          1683,
          14008,
          10941,
          6220,
          19260,
          4237,
          16177,
          5179,
          17215,
          15893,
          8761,
          14137,
          19389,
          12523,
          2005,
          18641,
          15534,
          11182,
          5966,
          16126,
          7321,
          15413,
          19181,
          1462,
          8899,
          2576,
          5636,
          12806,
          4016,
          3969,
          524,
          2119,
          10678,
          4053,
          3187,
          19309,
          10368,
          8613,
          10193,
          5357,
          2382,
          6208,
          10549,
          816,
          18194,
          8905,
          18329,
          7115,
          4029,
          16227,
          7714,
          2080,
          11990,
          15730,
          8853,
          15433,
          17380,
          470,
          6791,
          15059,
          13822,
          7398,
          11801,
          4896,
          14635,
          630,
          4804,
          18922,
          3859,
          14219,
          11151,
          6482,
          1349,
          5071,
          817,
          4797,
          4487,
          976,
          10183,
          16103,
          11848,
          10499,
          12612,
          12150,
          16810,
          12721,
          6565,
          9184,
          3394,
          3476,
          5950,
          5333,
          16308,
          12335,
          7684,
          13272,
          7289,
          2646,
          521,
          232,
          6205,
          7532,
          7855,
          17138,
          7286,
          11806,
          3117,
          8040,
          7129,
          12807,
          19162,
          13069,
          14360,
          18702,
          12122,
          7827,
          13114,
          7883,
          13923,
          19120,
          793,
          18102,
          18871,
          14426,
          6793,
          18189,
          10936,
          7469,
          5498,
          15316,
          7440,
          4861,
          2494,
          493,
          12956,
          14418,
          7258,
          17418,
          3869,
          18691,
          783,
          12555,
          5121,
          9706,
          18841,
          15995,
          9767,
          11481,
          12667,
          18165,
          3232,
          7774,
          19292,
          16195,
          13617,
          15572,
          17150,
          26,
          18671,
          10944,
          2464,
          9972,
          8087,
          2432,
          7115,
          17953,
          19949,
          15786,
          15322,
          15592,
          5045,
          8185,
          18655,
          5195,
          12084,
          19979,
          12431,
          4017,
          3490,
          5849,
          14242,
          18018,
          11804,
          2658,
          12210,
          11362,
          16404,
          163,
          2258,
          14914,
          2440,
          6159,
          18432,
          19969,
          19915,
          16857,
          18571,
          14952,
          2012,
          13059,
          18684,
          1067,
          3946,
          1342,
          11461,
          8548,
          160,
          16191,
          18407,
          2898,
          13411,
          6433,
          17380,
          1972,
          6779,
          5637,
          15793,
          8552,
          10243,
          7169,
          1205,
          15006,
          13091,
          1485,
          4180,
          1021,
          5153,
          13067,
          14657,
          574,
          13393,
          12472,
          6941,
          17999,
          13106,
          11670,
          15023,
          11435,
          1406,
          3234,
          14731,
          2493,
          11862,
          11258,
          18581,
          19683,
          11675,
          16966,
          13790,
          13855,
          18869,
          5703,
          14365,
          15017,
          17390,
          12536,
          13046,
          14379,
          13295,
          10450,
          11774,
          11671,
          11984,
          18899,
          6519,
          3732,
          6832,
          5823,
          6218,
          16387,
          16702,
          8188,
          3943,
          8272,
          560,
          7754,
          15725,
          7493,
          4242,
          11504,
          11824,
          9377,
          7106,
          8191,
          15818,
          4356,
          7915,
          16316,
          1376,
          1171,
          6989,
          6128,
          17183,
          4557,
          11722,
          4480,
          8798,
          6479,
          6070,
          17957,
          4070,
          18052,
          6941,
          5480,
          3328,
          12335,
          12049,
          19651,
          2702,
          7973,
          18045,
          2769,
          17762,
          18693,
          2323,
          18027,
          19327,
          10012,
          19113,
          411,
          57,
          11795,
          13696,
          7493,
          10748,
          19336,
          16810,
          910,
          3210,
          16172,
          5756,
          19860,
          8367,
          1393,
          4770,
          14782,
          15792,
          19543,
          14136,
          2458,
          14194,
          8033,
          18361,
          14937,
          11458,
          9795,
          10048,
          16895,
          8655,
          14176,
          5759,
          16031,
          14360,
          16562,
          4010,
          16099,
          18061,
          15558,
          16481,
          18653,
          13572,
          2259,
          8290,
          2275,
          11627,
          4099,
          1554,
          10293,
          18442,
          2797,
          9935,
          18276,
          6585,
          4477,
          13507,
          2100,
          15149,
          13226,
          11041,
          11041,
          11390,
          8403,
          15842,
          18668,
          12441,
          16245,
          10570,
          10859,
          2390,
          11381,
          15294,
          18728,
          10965,
          125,
          8721,
          5084,
          7573,
          6259,
          9488,
          5920,
          8688,
          16348,
          14058,
          19287,
          16796,
          13030,
          10010,
          14891,
          3269,
          13973,
          3240,
          3236,
          19451,
          16168,
          4004,
          19679,
          17376,
          6917,
          12247,
          8295,
          5254
         ]
        }
       ],
       "layout": {
        "autosize": true,
        "legend": {
         "bgcolor": "#F5F6F9",
         "font": {
          "color": "#4D5663"
         }
        },
        "paper_bgcolor": "#F5F6F9",
        "plot_bgcolor": "#F5F6F9",
        "template": {
         "data": {
          "bar": [
           {
            "error_x": {
             "color": "#2a3f5f"
            },
            "error_y": {
             "color": "#2a3f5f"
            },
            "marker": {
             "line": {
              "color": "#E5ECF6",
              "width": 0.5
             },
             "pattern": {
              "fillmode": "overlay",
              "size": 10,
              "solidity": 0.2
             }
            },
            "type": "bar"
           }
          ],
          "barpolar": [
           {
            "marker": {
             "line": {
              "color": "#E5ECF6",
              "width": 0.5
             },
             "pattern": {
              "fillmode": "overlay",
              "size": 10,
              "solidity": 0.2
             }
            },
            "type": "barpolar"
           }
          ],
          "carpet": [
           {
            "aaxis": {
             "endlinecolor": "#2a3f5f",
             "gridcolor": "white",
             "linecolor": "white",
             "minorgridcolor": "white",
             "startlinecolor": "#2a3f5f"
            },
            "baxis": {
             "endlinecolor": "#2a3f5f",
             "gridcolor": "white",
             "linecolor": "white",
             "minorgridcolor": "white",
             "startlinecolor": "#2a3f5f"
            },
            "type": "carpet"
           }
          ],
          "choropleth": [
           {
            "colorbar": {
             "outlinewidth": 0,
             "ticks": ""
            },
            "type": "choropleth"
           }
          ],
          "contour": [
           {
            "colorbar": {
             "outlinewidth": 0,
             "ticks": ""
            },
            "colorscale": [
             [
              0,
              "#0d0887"
             ],
             [
              0.1111111111111111,
              "#46039f"
             ],
             [
              0.2222222222222222,
              "#7201a8"
             ],
             [
              0.3333333333333333,
              "#9c179e"
             ],
             [
              0.4444444444444444,
              "#bd3786"
             ],
             [
              0.5555555555555556,
              "#d8576b"
             ],
             [
              0.6666666666666666,
              "#ed7953"
             ],
             [
              0.7777777777777778,
              "#fb9f3a"
             ],
             [
              0.8888888888888888,
              "#fdca26"
             ],
             [
              1,
              "#f0f921"
             ]
            ],
            "type": "contour"
           }
          ],
          "contourcarpet": [
           {
            "colorbar": {
             "outlinewidth": 0,
             "ticks": ""
            },
            "type": "contourcarpet"
           }
          ],
          "heatmap": [
           {
            "colorbar": {
             "outlinewidth": 0,
             "ticks": ""
            },
            "colorscale": [
             [
              0,
              "#0d0887"
             ],
             [
              0.1111111111111111,
              "#46039f"
             ],
             [
              0.2222222222222222,
              "#7201a8"
             ],
             [
              0.3333333333333333,
              "#9c179e"
             ],
             [
              0.4444444444444444,
              "#bd3786"
             ],
             [
              0.5555555555555556,
              "#d8576b"
             ],
             [
              0.6666666666666666,
              "#ed7953"
             ],
             [
              0.7777777777777778,
              "#fb9f3a"
             ],
             [
              0.8888888888888888,
              "#fdca26"
             ],
             [
              1,
              "#f0f921"
             ]
            ],
            "type": "heatmap"
           }
          ],
          "heatmapgl": [
           {
            "colorbar": {
             "outlinewidth": 0,
             "ticks": ""
            },
            "colorscale": [
             [
              0,
              "#0d0887"
             ],
             [
              0.1111111111111111,
              "#46039f"
             ],
             [
              0.2222222222222222,
              "#7201a8"
             ],
             [
              0.3333333333333333,
              "#9c179e"
             ],
             [
              0.4444444444444444,
              "#bd3786"
             ],
             [
              0.5555555555555556,
              "#d8576b"
             ],
             [
              0.6666666666666666,
              "#ed7953"
             ],
             [
              0.7777777777777778,
              "#fb9f3a"
             ],
             [
              0.8888888888888888,
              "#fdca26"
             ],
             [
              1,
              "#f0f921"
             ]
            ],
            "type": "heatmapgl"
           }
          ],
          "histogram": [
           {
            "marker": {
             "pattern": {
              "fillmode": "overlay",
              "size": 10,
              "solidity": 0.2
             }
            },
            "type": "histogram"
           }
          ],
          "histogram2d": [
           {
            "colorbar": {
             "outlinewidth": 0,
             "ticks": ""
            },
            "colorscale": [
             [
              0,
              "#0d0887"
             ],
             [
              0.1111111111111111,
              "#46039f"
             ],
             [
              0.2222222222222222,
              "#7201a8"
             ],
             [
              0.3333333333333333,
              "#9c179e"
             ],
             [
              0.4444444444444444,
              "#bd3786"
             ],
             [
              0.5555555555555556,
              "#d8576b"
             ],
             [
              0.6666666666666666,
              "#ed7953"
             ],
             [
              0.7777777777777778,
              "#fb9f3a"
             ],
             [
              0.8888888888888888,
              "#fdca26"
             ],
             [
              1,
              "#f0f921"
             ]
            ],
            "type": "histogram2d"
           }
          ],
          "histogram2dcontour": [
           {
            "colorbar": {
             "outlinewidth": 0,
             "ticks": ""
            },
            "colorscale": [
             [
              0,
              "#0d0887"
             ],
             [
              0.1111111111111111,
              "#46039f"
             ],
             [
              0.2222222222222222,
              "#7201a8"
             ],
             [
              0.3333333333333333,
              "#9c179e"
             ],
             [
              0.4444444444444444,
              "#bd3786"
             ],
             [
              0.5555555555555556,
              "#d8576b"
             ],
             [
              0.6666666666666666,
              "#ed7953"
             ],
             [
              0.7777777777777778,
              "#fb9f3a"
             ],
             [
              0.8888888888888888,
              "#fdca26"
             ],
             [
              1,
              "#f0f921"
             ]
            ],
            "type": "histogram2dcontour"
           }
          ],
          "mesh3d": [
           {
            "colorbar": {
             "outlinewidth": 0,
             "ticks": ""
            },
            "type": "mesh3d"
           }
          ],
          "parcoords": [
           {
            "line": {
             "colorbar": {
              "outlinewidth": 0,
              "ticks": ""
             }
            },
            "type": "parcoords"
           }
          ],
          "pie": [
           {
            "automargin": true,
            "type": "pie"
           }
          ],
          "scatter": [
           {
            "fillpattern": {
             "fillmode": "overlay",
             "size": 10,
             "solidity": 0.2
            },
            "type": "scatter"
           }
          ],
          "scatter3d": [
           {
            "line": {
             "colorbar": {
              "outlinewidth": 0,
              "ticks": ""
             }
            },
            "marker": {
             "colorbar": {
              "outlinewidth": 0,
              "ticks": ""
             }
            },
            "type": "scatter3d"
           }
          ],
          "scattercarpet": [
           {
            "marker": {
             "colorbar": {
              "outlinewidth": 0,
              "ticks": ""
             }
            },
            "type": "scattercarpet"
           }
          ],
          "scattergeo": [
           {
            "marker": {
             "colorbar": {
              "outlinewidth": 0,
              "ticks": ""
             }
            },
            "type": "scattergeo"
           }
          ],
          "scattergl": [
           {
            "marker": {
             "colorbar": {
              "outlinewidth": 0,
              "ticks": ""
             }
            },
            "type": "scattergl"
           }
          ],
          "scattermapbox": [
           {
            "marker": {
             "colorbar": {
              "outlinewidth": 0,
              "ticks": ""
             }
            },
            "type": "scattermapbox"
           }
          ],
          "scatterpolar": [
           {
            "marker": {
             "colorbar": {
              "outlinewidth": 0,
              "ticks": ""
             }
            },
            "type": "scatterpolar"
           }
          ],
          "scatterpolargl": [
           {
            "marker": {
             "colorbar": {
              "outlinewidth": 0,
              "ticks": ""
             }
            },
            "type": "scatterpolargl"
           }
          ],
          "scatterternary": [
           {
            "marker": {
             "colorbar": {
              "outlinewidth": 0,
              "ticks": ""
             }
            },
            "type": "scatterternary"
           }
          ],
          "surface": [
           {
            "colorbar": {
             "outlinewidth": 0,
             "ticks": ""
            },
            "colorscale": [
             [
              0,
              "#0d0887"
             ],
             [
              0.1111111111111111,
              "#46039f"
             ],
             [
              0.2222222222222222,
              "#7201a8"
             ],
             [
              0.3333333333333333,
              "#9c179e"
             ],
             [
              0.4444444444444444,
              "#bd3786"
             ],
             [
              0.5555555555555556,
              "#d8576b"
             ],
             [
              0.6666666666666666,
              "#ed7953"
             ],
             [
              0.7777777777777778,
              "#fb9f3a"
             ],
             [
              0.8888888888888888,
              "#fdca26"
             ],
             [
              1,
              "#f0f921"
             ]
            ],
            "type": "surface"
           }
          ],
          "table": [
           {
            "cells": {
             "fill": {
              "color": "#EBF0F8"
             },
             "line": {
              "color": "white"
             }
            },
            "header": {
             "fill": {
              "color": "#C8D4E3"
             },
             "line": {
              "color": "white"
             }
            },
            "type": "table"
           }
          ]
         },
         "layout": {
          "annotationdefaults": {
           "arrowcolor": "#2a3f5f",
           "arrowhead": 0,
           "arrowwidth": 1
          },
          "autotypenumbers": "strict",
          "coloraxis": {
           "colorbar": {
            "outlinewidth": 0,
            "ticks": ""
           }
          },
          "colorscale": {
           "diverging": [
            [
             0,
             "#8e0152"
            ],
            [
             0.1,
             "#c51b7d"
            ],
            [
             0.2,
             "#de77ae"
            ],
            [
             0.3,
             "#f1b6da"
            ],
            [
             0.4,
             "#fde0ef"
            ],
            [
             0.5,
             "#f7f7f7"
            ],
            [
             0.6,
             "#e6f5d0"
            ],
            [
             0.7,
             "#b8e186"
            ],
            [
             0.8,
             "#7fbc41"
            ],
            [
             0.9,
             "#4d9221"
            ],
            [
             1,
             "#276419"
            ]
           ],
           "sequential": [
            [
             0,
             "#0d0887"
            ],
            [
             0.1111111111111111,
             "#46039f"
            ],
            [
             0.2222222222222222,
             "#7201a8"
            ],
            [
             0.3333333333333333,
             "#9c179e"
            ],
            [
             0.4444444444444444,
             "#bd3786"
            ],
            [
             0.5555555555555556,
             "#d8576b"
            ],
            [
             0.6666666666666666,
             "#ed7953"
            ],
            [
             0.7777777777777778,
             "#fb9f3a"
            ],
            [
             0.8888888888888888,
             "#fdca26"
            ],
            [
             1,
             "#f0f921"
            ]
           ],
           "sequentialminus": [
            [
             0,
             "#0d0887"
            ],
            [
             0.1111111111111111,
             "#46039f"
            ],
            [
             0.2222222222222222,
             "#7201a8"
            ],
            [
             0.3333333333333333,
             "#9c179e"
            ],
            [
             0.4444444444444444,
             "#bd3786"
            ],
            [
             0.5555555555555556,
             "#d8576b"
            ],
            [
             0.6666666666666666,
             "#ed7953"
            ],
            [
             0.7777777777777778,
             "#fb9f3a"
            ],
            [
             0.8888888888888888,
             "#fdca26"
            ],
            [
             1,
             "#f0f921"
            ]
           ]
          },
          "colorway": [
           "#636efa",
           "#EF553B",
           "#00cc96",
           "#ab63fa",
           "#FFA15A",
           "#19d3f3",
           "#FF6692",
           "#B6E880",
           "#FF97FF",
           "#FECB52"
          ],
          "font": {
           "color": "#2a3f5f"
          },
          "geo": {
           "bgcolor": "white",
           "lakecolor": "white",
           "landcolor": "#E5ECF6",
           "showlakes": true,
           "showland": true,
           "subunitcolor": "white"
          },
          "hoverlabel": {
           "align": "left"
          },
          "hovermode": "closest",
          "mapbox": {
           "style": "light"
          },
          "paper_bgcolor": "white",
          "plot_bgcolor": "#E5ECF6",
          "polar": {
           "angularaxis": {
            "gridcolor": "white",
            "linecolor": "white",
            "ticks": ""
           },
           "bgcolor": "#E5ECF6",
           "radialaxis": {
            "gridcolor": "white",
            "linecolor": "white",
            "ticks": ""
           }
          },
          "scene": {
           "xaxis": {
            "backgroundcolor": "#E5ECF6",
            "gridcolor": "white",
            "gridwidth": 2,
            "linecolor": "white",
            "showbackground": true,
            "ticks": "",
            "zerolinecolor": "white"
           },
           "yaxis": {
            "backgroundcolor": "#E5ECF6",
            "gridcolor": "white",
            "gridwidth": 2,
            "linecolor": "white",
            "showbackground": true,
            "ticks": "",
            "zerolinecolor": "white"
           },
           "zaxis": {
            "backgroundcolor": "#E5ECF6",
            "gridcolor": "white",
            "gridwidth": 2,
            "linecolor": "white",
            "showbackground": true,
            "ticks": "",
            "zerolinecolor": "white"
           }
          },
          "shapedefaults": {
           "line": {
            "color": "#2a3f5f"
           }
          },
          "ternary": {
           "aaxis": {
            "gridcolor": "white",
            "linecolor": "white",
            "ticks": ""
           },
           "baxis": {
            "gridcolor": "white",
            "linecolor": "white",
            "ticks": ""
           },
           "bgcolor": "#E5ECF6",
           "caxis": {
            "gridcolor": "white",
            "linecolor": "white",
            "ticks": ""
           }
          },
          "title": {
           "x": 0.05
          },
          "xaxis": {
           "automargin": true,
           "gridcolor": "white",
           "linecolor": "white",
           "ticks": "",
           "title": {
            "standoff": 15
           },
           "zerolinecolor": "white",
           "zerolinewidth": 2
          },
          "yaxis": {
           "automargin": true,
           "gridcolor": "white",
           "linecolor": "white",
           "ticks": "",
           "title": {
            "standoff": 15
           },
           "zerolinecolor": "white",
           "zerolinewidth": 2
          }
         }
        },
        "title": {
         "font": {
          "color": "#4D5663"
         },
         "text": "Steps Over Time"
        },
        "xaxis": {
         "autorange": false,
         "gridcolor": "#E1E5ED",
         "range": [
          0.28,
          12.721062732397744
         ],
         "showgrid": true,
         "tickfont": {
          "color": "#4D5663"
         },
         "title": {
          "font": {
           "color": "#4D5663"
          },
          "text": "Data"
         },
         "type": "linear",
         "zerolinecolor": "#E1E5ED"
        },
        "yaxis": {
         "autorange": true,
         "gridcolor": "#E1E5ED",
         "range": [
          -2213.622448979592,
          22218.622448979593
         ],
         "showgrid": true,
         "tickfont": {
          "color": "#4D5663"
         },
         "title": {
          "font": {
           "color": "#4D5663"
          },
          "text": "Steps"
         },
         "type": "linear",
         "zerolinecolor": "#E1E5ED"
        }
       }
      },
      "image/png": "[encoded data removed]",
      "text/html": [
       "<div>                            <div id=\"25e155f2-04d8-40e8-99a0-2006a10fa0de\" class=\"plotly-graph-div\" style=\"height:525px; width:100%;\"></div>            <script type=\"text/javascript\">                require([\"plotly\"], function(Plotly) {                    window.PLOTLYENV=window.PLOTLYENV || {};                                    if (document.getElementById(\"25e155f2-04d8-40e8-99a0-2006a10fa0de\")) {                    Plotly.newPlot(                        \"25e155f2-04d8-40e8-99a0-2006a10fa0de\",                        [{\"line\":{\"color\":\"rgba(255, 153, 51, 1.0)\",\"dash\":\"solid\",\"shape\":\"linear\",\"width\":1.3},\"marker\":{\"size\":12,\"symbol\":\"circle\"},\"mode\":\"lines+markers\",\"name\":\"steps\",\"text\":\"\",\"x\":[10,6,1,3,5,12,7,7,6,6,1,6,10,8,7,9,7,4,1,1,7,2,8,10,3,5,5,5,6,7,2,1,5,3,8,9,8,7,7,1,8,3,4,12,3,5,1,3,8,11,2,1,4,3,4,7,1,2,6,11,3,6,7,2,4,5,9,6,9,1,12,3,10,1,11,10,4,6,4,10,4,7,11,1,5,12,8,4,3,6,8,2,7,12,9,6,12,3,11,12,2,5,12,10,5,12,12,3,9,3,10,1,5,4,12,1,12,7,1,8,6,5,7,8,3,1,8,10,9,12,7,1,1,8,1,3,7,11,11,9,4,12,11,8,8,12,9,10,6,12,12,9,12,9,11,1,6,10,8,7,6,6,3,6,8,6,10,8,8,12,7,2,12,12,7,3,9,3,6,3,12,10,10,3,2,3,10,1,4,8,7,9,2,12,3,7,6,8,6,5,11,10,3,4,4,12,12,4,5,6,12,12,6,4,2,9,1,5,10,1,9,9,1,8,1,4,5,8,5,7,12,5,10,10,6,11,5,7,12,2,4,10,1,7,10,10,5,5,12,11,11,3,2,4,1,7,5,5,11,8,7,3,1,1,2,9,12,6,9,9,11,5,9,6,9,3,8,9,9,2,8,1,12,10,9,7,10,6,5,6,1,3,11,10,11,4,10,11,6,9,3,11,4,10,7,4,1,11,10,8,1,5,1,12,6,11,1,8,8,3,8,2,3,2,8,2,11,12,5,6,2,2,12,3,8,11,8,2,2,10,3,7,4,4,6,6,7,1,12,7,11,10,9,3,2,11,12,10,11,5,11,2,8,6,12,10,4,3,8,6,10,9,12,1,3,2,7,9,6,5,10,11,5,11,11,4,12,4,7,6,3,3,3,2,9,12,8,5,5,1,5,11,5,12,3,1,6,9,11,10,6,7,6,2,7,7,4,12,1,9,6,7,4,1,4,6,9,9,4,10,3,12,9,1,4,10,6,6,6,6,2,3,2,8,4,11,3,6,4,7,9,4,10,8,1,7,8,9,12,2,10,6,9,4,9,10,6,3,3,12,5,10,8,5,10,7,5,6,7,10,12,2,12,9,3,3,5,12,2,12,6,5,1,6,5,5,4,1,3,8],\"y\":[4147,323,6622,11136,2718,4972,15271,17290,1042,6818,13141,5046,11615,4301,8655,14113,15435,18451,11850,1075,5340,13972,17002,7786,10776,15203,2644,1905,7467,15005,1811,17812,1193,14118,17536,8159,16123,5606,6292,7740,8678,5861,10948,11079,14928,19940,10598,17134,3276,17751,6679,8929,329,17094,1964,19702,13813,6169,11000,6683,843,5397,12976,2169,7287,10720,765,18989,3105,7445,15063,1505,18313,13681,17964,8497,17993,19143,19529,1683,14008,10941,6220,19260,4237,16177,5179,17215,15893,8761,14137,19389,12523,2005,18641,15534,11182,5966,16126,7321,15413,19181,1462,8899,2576,5636,12806,4016,3969,524,2119,10678,4053,3187,19309,10368,8613,10193,5357,2382,6208,10549,816,18194,8905,18329,7115,4029,16227,7714,2080,11990,15730,8853,15433,17380,470,6791,15059,13822,7398,11801,4896,14635,630,4804,18922,3859,14219,11151,6482,1349,5071,817,4797,4487,976,10183,16103,11848,10499,12612,12150,16810,12721,6565,9184,3394,3476,5950,5333,16308,12335,7684,13272,7289,2646,521,232,6205,7532,7855,17138,7286,11806,3117,8040,7129,12807,19162,13069,14360,18702,12122,7827,13114,7883,13923,19120,793,18102,18871,14426,6793,18189,10936,7469,5498,15316,7440,4861,2494,493,12956,14418,7258,17418,3869,18691,783,12555,5121,9706,18841,15995,9767,11481,12667,18165,3232,7774,19292,16195,13617,15572,17150,26,18671,10944,2464,9972,8087,2432,7115,17953,19949,15786,15322,15592,5045,8185,18655,5195,12084,19979,12431,4017,3490,5849,14242,18018,11804,2658,12210,11362,16404,163,2258,14914,2440,6159,18432,19969,19915,16857,18571,14952,2012,13059,18684,1067,3946,1342,11461,8548,160,16191,18407,2898,13411,6433,17380,1972,6779,5637,15793,8552,10243,7169,1205,15006,13091,1485,4180,1021,5153,13067,14657,574,13393,12472,6941,17999,13106,11670,15023,11435,1406,3234,14731,2493,11862,11258,18581,19683,11675,16966,13790,13855,18869,5703,14365,15017,17390,12536,13046,14379,13295,10450,11774,11671,11984,18899,6519,3732,6832,5823,6218,16387,16702,8188,3943,8272,560,7754,15725,7493,4242,11504,11824,9377,7106,8191,15818,4356,7915,16316,1376,1171,6989,6128,17183,4557,11722,4480,8798,6479,6070,17957,4070,18052,6941,5480,3328,12335,12049,19651,2702,7973,18045,2769,17762,18693,2323,18027,19327,10012,19113,411,57,11795,13696,7493,10748,19336,16810,910,3210,16172,5756,19860,8367,1393,4770,14782,15792,19543,14136,2458,14194,8033,18361,14937,11458,9795,10048,16895,8655,14176,5759,16031,14360,16562,4010,16099,18061,15558,16481,18653,13572,2259,8290,2275,11627,4099,1554,10293,18442,2797,9935,18276,6585,4477,13507,2100,15149,13226,11041,11041,11390,8403,15842,18668,12441,16245,10570,10859,2390,11381,15294,18728,10965,125,8721,5084,7573,6259,9488,5920,8688,16348,14058,19287,16796,13030,10010,14891,3269,13973,3240,3236,19451,16168,4004,19679,17376,6917,12247,8295,5254],\"type\":\"scatter\"}],                        {\"legend\":{\"bgcolor\":\"#F5F6F9\",\"font\":{\"color\":\"#4D5663\"}},\"paper_bgcolor\":\"#F5F6F9\",\"plot_bgcolor\":\"#F5F6F9\",\"title\":{\"text\":\"Steps Over Time\",\"font\":{\"color\":\"#4D5663\"}},\"xaxis\":{\"gridcolor\":\"#E1E5ED\",\"showgrid\":true,\"tickfont\":{\"color\":\"#4D5663\"},\"title\":{\"text\":\"Data\",\"font\":{\"color\":\"#4D5663\"}},\"zerolinecolor\":\"#E1E5ED\"},\"yaxis\":{\"gridcolor\":\"#E1E5ED\",\"showgrid\":true,\"tickfont\":{\"color\":\"#4D5663\"},\"title\":{\"text\":\"Steps\",\"font\":{\"color\":\"#4D5663\"}},\"zerolinecolor\":\"#E1E5ED\"},\"template\":{\"data\":{\"histogram2dcontour\":[{\"type\":\"histogram2dcontour\",\"colorbar\":{\"outlinewidth\":0,\"ticks\":\"\"},\"colorscale\":[[0.0,\"#0d0887\"],[0.1111111111111111,\"#46039f\"],[0.2222222222222222,\"#7201a8\"],[0.3333333333333333,\"#9c179e\"],[0.4444444444444444,\"#bd3786\"],[0.5555555555555556,\"#d8576b\"],[0.6666666666666666,\"#ed7953\"],[0.7777777777777778,\"#fb9f3a\"],[0.8888888888888888,\"#fdca26\"],[1.0,\"#f0f921\"]]}],\"choropleth\":[{\"type\":\"choropleth\",\"colorbar\":{\"outlinewidth\":0,\"ticks\":\"\"}}],\"histogram2d\":[{\"type\":\"histogram2d\",\"colorbar\":{\"outlinewidth\":0,\"ticks\":\"\"},\"colorscale\":[[0.0,\"#0d0887\"],[0.1111111111111111,\"#46039f\"],[0.2222222222222222,\"#7201a8\"],[0.3333333333333333,\"#9c179e\"],[0.4444444444444444,\"#bd3786\"],[0.5555555555555556,\"#d8576b\"],[0.6666666666666666,\"#ed7953\"],[0.7777777777777778,\"#fb9f3a\"],[0.8888888888888888,\"#fdca26\"],[1.0,\"#f0f921\"]]}],\"heatmap\":[{\"type\":\"heatmap\",\"colorbar\":{\"outlinewidth\":0,\"ticks\":\"\"},\"colorscale\":[[0.0,\"#0d0887\"],[0.1111111111111111,\"#46039f\"],[0.2222222222222222,\"#7201a8\"],[0.3333333333333333,\"#9c179e\"],[0.4444444444444444,\"#bd3786\"],[0.5555555555555556,\"#d8576b\"],[0.6666666666666666,\"#ed7953\"],[0.7777777777777778,\"#fb9f3a\"],[0.8888888888888888,\"#fdca26\"],[1.0,\"#f0f921\"]]}],\"heatmapgl\":[{\"type\":\"heatmapgl\",\"colorbar\":{\"outlinewidth\":0,\"ticks\":\"\"},\"colorscale\":[[0.0,\"#0d0887\"],[0.1111111111111111,\"#46039f\"],[0.2222222222222222,\"#7201a8\"],[0.3333333333333333,\"#9c179e\"],[0.4444444444444444,\"#bd3786\"],[0.5555555555555556,\"#d8576b\"],[0.6666666666666666,\"#ed7953\"],[0.7777777777777778,\"#fb9f3a\"],[0.8888888888888888,\"#fdca26\"],[1.0,\"#f0f921\"]]}],\"contourcarpet\":[{\"type\":\"contourcarpet\",\"colorbar\":{\"outlinewidth\":0,\"ticks\":\"\"}}],\"contour\":[{\"type\":\"contour\",\"colorbar\":{\"outlinewidth\":0,\"ticks\":\"\"},\"colorscale\":[[0.0,\"#0d0887\"],[0.1111111111111111,\"#46039f\"],[0.2222222222222222,\"#7201a8\"],[0.3333333333333333,\"#9c179e\"],[0.4444444444444444,\"#bd3786\"],[0.5555555555555556,\"#d8576b\"],[0.6666666666666666,\"#ed7953\"],[0.7777777777777778,\"#fb9f3a\"],[0.8888888888888888,\"#fdca26\"],[1.0,\"#f0f921\"]]}],\"surface\":[{\"type\":\"surface\",\"colorbar\":{\"outlinewidth\":0,\"ticks\":\"\"},\"colorscale\":[[0.0,\"#0d0887\"],[0.1111111111111111,\"#46039f\"],[0.2222222222222222,\"#7201a8\"],[0.3333333333333333,\"#9c179e\"],[0.4444444444444444,\"#bd3786\"],[0.5555555555555556,\"#d8576b\"],[0.6666666666666666,\"#ed7953\"],[0.7777777777777778,\"#fb9f3a\"],[0.8888888888888888,\"#fdca26\"],[1.0,\"#f0f921\"]]}],\"mesh3d\":[{\"type\":\"mesh3d\",\"colorbar\":{\"outlinewidth\":0,\"ticks\":\"\"}}],\"scatter\":[{\"fillpattern\":{\"fillmode\":\"overlay\",\"size\":10,\"solidity\":0.2},\"type\":\"scatter\"}],\"parcoords\":[{\"type\":\"parcoords\",\"line\":{\"colorbar\":{\"outlinewidth\":0,\"ticks\":\"\"}}}],\"scatterpolargl\":[{\"type\":\"scatterpolargl\",\"marker\":{\"colorbar\":{\"outlinewidth\":0,\"ticks\":\"\"}}}],\"bar\":[{\"error_x\":{\"color\":\"#2a3f5f\"},\"error_y\":{\"color\":\"#2a3f5f\"},\"marker\":{\"line\":{\"color\":\"#E5ECF6\",\"width\":0.5},\"pattern\":{\"fillmode\":\"overlay\",\"size\":10,\"solidity\":0.2}},\"type\":\"bar\"}],\"scattergeo\":[{\"type\":\"scattergeo\",\"marker\":{\"colorbar\":{\"outlinewidth\":0,\"ticks\":\"\"}}}],\"scatterpolar\":[{\"type\":\"scatterpolar\",\"marker\":{\"colorbar\":{\"outlinewidth\":0,\"ticks\":\"\"}}}],\"histogram\":[{\"marker\":{\"pattern\":{\"fillmode\":\"overlay\",\"size\":10,\"solidity\":0.2}},\"type\":\"histogram\"}],\"scattergl\":[{\"type\":\"scattergl\",\"marker\":{\"colorbar\":{\"outlinewidth\":0,\"ticks\":\"\"}}}],\"scatter3d\":[{\"type\":\"scatter3d\",\"line\":{\"colorbar\":{\"outlinewidth\":0,\"ticks\":\"\"}},\"marker\":{\"colorbar\":{\"outlinewidth\":0,\"ticks\":\"\"}}}],\"scattermapbox\":[{\"type\":\"scattermapbox\",\"marker\":{\"colorbar\":{\"outlinewidth\":0,\"ticks\":\"\"}}}],\"scatterternary\":[{\"type\":\"scatterternary\",\"marker\":{\"colorbar\":{\"outlinewidth\":0,\"ticks\":\"\"}}}],\"scattercarpet\":[{\"type\":\"scattercarpet\",\"marker\":{\"colorbar\":{\"outlinewidth\":0,\"ticks\":\"\"}}}],\"carpet\":[{\"aaxis\":{\"endlinecolor\":\"#2a3f5f\",\"gridcolor\":\"white\",\"linecolor\":\"white\",\"minorgridcolor\":\"white\",\"startlinecolor\":\"#2a3f5f\"},\"baxis\":{\"endlinecolor\":\"#2a3f5f\",\"gridcolor\":\"white\",\"linecolor\":\"white\",\"minorgridcolor\":\"white\",\"startlinecolor\":\"#2a3f5f\"},\"type\":\"carpet\"}],\"table\":[{\"cells\":{\"fill\":{\"color\":\"#EBF0F8\"},\"line\":{\"color\":\"white\"}},\"header\":{\"fill\":{\"color\":\"#C8D4E3\"},\"line\":{\"color\":\"white\"}},\"type\":\"table\"}],\"barpolar\":[{\"marker\":{\"line\":{\"color\":\"#E5ECF6\",\"width\":0.5},\"pattern\":{\"fillmode\":\"overlay\",\"size\":10,\"solidity\":0.2}},\"type\":\"barpolar\"}],\"pie\":[{\"automargin\":true,\"type\":\"pie\"}]},\"layout\":{\"autotypenumbers\":\"strict\",\"colorway\":[\"#636efa\",\"#EF553B\",\"#00cc96\",\"#ab63fa\",\"#FFA15A\",\"#19d3f3\",\"#FF6692\",\"#B6E880\",\"#FF97FF\",\"#FECB52\"],\"font\":{\"color\":\"#2a3f5f\"},\"hovermode\":\"closest\",\"hoverlabel\":{\"align\":\"left\"},\"paper_bgcolor\":\"white\",\"plot_bgcolor\":\"#E5ECF6\",\"polar\":{\"bgcolor\":\"#E5ECF6\",\"angularaxis\":{\"gridcolor\":\"white\",\"linecolor\":\"white\",\"ticks\":\"\"},\"radialaxis\":{\"gridcolor\":\"white\",\"linecolor\":\"white\",\"ticks\":\"\"}},\"ternary\":{\"bgcolor\":\"#E5ECF6\",\"aaxis\":{\"gridcolor\":\"white\",\"linecolor\":\"white\",\"ticks\":\"\"},\"baxis\":{\"gridcolor\":\"white\",\"linecolor\":\"white\",\"ticks\":\"\"},\"caxis\":{\"gridcolor\":\"white\",\"linecolor\":\"white\",\"ticks\":\"\"}},\"coloraxis\":{\"colorbar\":{\"outlinewidth\":0,\"ticks\":\"\"}},\"colorscale\":{\"sequential\":[[0.0,\"#0d0887\"],[0.1111111111111111,\"#46039f\"],[0.2222222222222222,\"#7201a8\"],[0.3333333333333333,\"#9c179e\"],[0.4444444444444444,\"#bd3786\"],[0.5555555555555556,\"#d8576b\"],[0.6666666666666666,\"#ed7953\"],[0.7777777777777778,\"#fb9f3a\"],[0.8888888888888888,\"#fdca26\"],[1.0,\"#f0f921\"]],\"sequentialminus\":[[0.0,\"#0d0887\"],[0.1111111111111111,\"#46039f\"],[0.2222222222222222,\"#7201a8\"],[0.3333333333333333,\"#9c179e\"],[0.4444444444444444,\"#bd3786\"],[0.5555555555555556,\"#d8576b\"],[0.6666666666666666,\"#ed7953\"],[0.7777777777777778,\"#fb9f3a\"],[0.8888888888888888,\"#fdca26\"],[1.0,\"#f0f921\"]],\"diverging\":[[0,\"#8e0152\"],[0.1,\"#c51b7d\"],[0.2,\"#de77ae\"],[0.3,\"#f1b6da\"],[0.4,\"#fde0ef\"],[0.5,\"#f7f7f7\"],[0.6,\"#e6f5d0\"],[0.7,\"#b8e186\"],[0.8,\"#7fbc41\"],[0.9,\"#4d9221\"],[1,\"#276419\"]]},\"xaxis\":{\"gridcolor\":\"white\",\"linecolor\":\"white\",\"ticks\":\"\",\"title\":{\"standoff\":15},\"zerolinecolor\":\"white\",\"automargin\":true,\"zerolinewidth\":2},\"yaxis\":{\"gridcolor\":\"white\",\"linecolor\":\"white\",\"ticks\":\"\",\"title\":{\"standoff\":15},\"zerolinecolor\":\"white\",\"automargin\":true,\"zerolinewidth\":2},\"scene\":{\"xaxis\":{\"backgroundcolor\":\"#E5ECF6\",\"gridcolor\":\"white\",\"linecolor\":\"white\",\"showbackground\":true,\"ticks\":\"\",\"zerolinecolor\":\"white\",\"gridwidth\":2},\"yaxis\":{\"backgroundcolor\":\"#E5ECF6\",\"gridcolor\":\"white\",\"linecolor\":\"white\",\"showbackground\":true,\"ticks\":\"\",\"zerolinecolor\":\"white\",\"gridwidth\":2},\"zaxis\":{\"backgroundcolor\":\"#E5ECF6\",\"gridcolor\":\"white\",\"linecolor\":\"white\",\"showbackground\":true,\"ticks\":\"\",\"zerolinecolor\":\"white\",\"gridwidth\":2}},\"shapedefaults\":{\"line\":{\"color\":\"#2a3f5f\"}},\"annotationdefaults\":{\"arrowcolor\":\"#2a3f5f\",\"arrowhead\":0,\"arrowwidth\":1},\"geo\":{\"bgcolor\":\"white\",\"landcolor\":\"#E5ECF6\",\"subunitcolor\":\"white\",\"showland\":true,\"showlakes\":true,\"lakecolor\":\"white\"},\"title\":{\"x\":0.05},\"mapbox\":{\"style\":\"light\"}}}},                        {\"responsive\": true}                    ).then(function(){\n",
       "                            \n",
       "var gd = document.getElementById('25e155f2-04d8-40e8-99a0-2006a10fa0de');\n",
       "var x = new MutationObserver(function (mutations, observer) {{\n",
       "        var display = window.getComputedStyle(gd).display;\n",
       "        if (!display || display === 'none') {{\n",
       "            console.log([gd, 'removed!']);\n",
       "            Plotly.purge(gd);\n",
       "            observer.disconnect();\n",
       "        }}\n",
       "}});\n",
       "\n",
       "// Listen for the removal of the full notebook cells\n",
       "var notebookContainer = gd.closest('#notebook-container');\n",
       "if (notebookContainer) {{\n",
       "    x.observe(notebookContainer, {childList: true});\n",
       "}}\n",
       "\n",
       "// Listen for the clearing of the current output cell\n",
       "var outputEl = gd.closest('.output');\n",
       "if (outputEl) {{\n",
       "    x.observe(outputEl, {childList: true});\n",
       "}}\n",
       "\n",
       "                        })                };                });            </script>        </div>"
      ]
     },
     "metadata": {},
     "output_type": "display_data"
    }
   ],
   "source": [
    "df.iplot(x='date',y='steps',title='Steps Over Time',xTitle='Data',yTitle='Steps',mode='lines+markers',asFigure=True)"
   ]
  },
  {
   "cell_type": "markdown",
   "id": "e0b5cf5d-d1e8-4c99-9b0d-8cf8cd4d6917",
   "metadata": {},
   "source": [
    "##  Mood  Distribution (Bar chart)"
   ]
  },
  {
   "cell_type": "code",
   "execution_count": 86,
   "id": "66f0a024-ff5c-4cc6-af08-6055585bbb48",
   "metadata": {},
   "outputs": [
    {
     "data": {
      "application/vnd.plotly.v1+json": {
       "config": {
        "plotlyServerURL": "https://plot.ly"
       },
       "data": [
        {
         "marker": {
          "color": "rgba(255, 153, 51, 0.6)",
          "line": {
           "color": "rgba(255, 153, 51, 1.0)",
           "width": 1
          }
         },
         "name": "count",
         "orientation": "v",
         "text": "",
         "type": "bar",
         "x": [
          "happy",
          "stressed",
          "sad",
          "energetic",
          "tired"
         ],
         "y": [
          110,
          106,
          97,
          97,
          90
         ]
        }
       ],
       "layout": {
        "autosize": true,
        "legend": {
         "bgcolor": "#F5F6F9",
         "font": {
          "color": "#4D5663"
         }
        },
        "paper_bgcolor": "#F5F6F9",
        "plot_bgcolor": "#F5F6F9",
        "template": {
         "data": {
          "bar": [
           {
            "error_x": {
             "color": "#2a3f5f"
            },
            "error_y": {
             "color": "#2a3f5f"
            },
            "marker": {
             "line": {
              "color": "#E5ECF6",
              "width": 0.5
             },
             "pattern": {
              "fillmode": "overlay",
              "size": 10,
              "solidity": 0.2
             }
            },
            "type": "bar"
           }
          ],
          "barpolar": [
           {
            "marker": {
             "line": {
              "color": "#E5ECF6",
              "width": 0.5
             },
             "pattern": {
              "fillmode": "overlay",
              "size": 10,
              "solidity": 0.2
             }
            },
            "type": "barpolar"
           }
          ],
          "carpet": [
           {
            "aaxis": {
             "endlinecolor": "#2a3f5f",
             "gridcolor": "white",
             "linecolor": "white",
             "minorgridcolor": "white",
             "startlinecolor": "#2a3f5f"
            },
            "baxis": {
             "endlinecolor": "#2a3f5f",
             "gridcolor": "white",
             "linecolor": "white",
             "minorgridcolor": "white",
             "startlinecolor": "#2a3f5f"
            },
            "type": "carpet"
           }
          ],
          "choropleth": [
           {
            "colorbar": {
             "outlinewidth": 0,
             "ticks": ""
            },
            "type": "choropleth"
           }
          ],
          "contour": [
           {
            "colorbar": {
             "outlinewidth": 0,
             "ticks": ""
            },
            "colorscale": [
             [
              0,
              "#0d0887"
             ],
             [
              0.1111111111111111,
              "#46039f"
             ],
             [
              0.2222222222222222,
              "#7201a8"
             ],
             [
              0.3333333333333333,
              "#9c179e"
             ],
             [
              0.4444444444444444,
              "#bd3786"
             ],
             [
              0.5555555555555556,
              "#d8576b"
             ],
             [
              0.6666666666666666,
              "#ed7953"
             ],
             [
              0.7777777777777778,
              "#fb9f3a"
             ],
             [
              0.8888888888888888,
              "#fdca26"
             ],
             [
              1,
              "#f0f921"
             ]
            ],
            "type": "contour"
           }
          ],
          "contourcarpet": [
           {
            "colorbar": {
             "outlinewidth": 0,
             "ticks": ""
            },
            "type": "contourcarpet"
           }
          ],
          "heatmap": [
           {
            "colorbar": {
             "outlinewidth": 0,
             "ticks": ""
            },
            "colorscale": [
             [
              0,
              "#0d0887"
             ],
             [
              0.1111111111111111,
              "#46039f"
             ],
             [
              0.2222222222222222,
              "#7201a8"
             ],
             [
              0.3333333333333333,
              "#9c179e"
             ],
             [
              0.4444444444444444,
              "#bd3786"
             ],
             [
              0.5555555555555556,
              "#d8576b"
             ],
             [
              0.6666666666666666,
              "#ed7953"
             ],
             [
              0.7777777777777778,
              "#fb9f3a"
             ],
             [
              0.8888888888888888,
              "#fdca26"
             ],
             [
              1,
              "#f0f921"
             ]
            ],
            "type": "heatmap"
           }
          ],
          "heatmapgl": [
           {
            "colorbar": {
             "outlinewidth": 0,
             "ticks": ""
            },
            "colorscale": [
             [
              0,
              "#0d0887"
             ],
             [
              0.1111111111111111,
              "#46039f"
             ],
             [
              0.2222222222222222,
              "#7201a8"
             ],
             [
              0.3333333333333333,
              "#9c179e"
             ],
             [
              0.4444444444444444,
              "#bd3786"
             ],
             [
              0.5555555555555556,
              "#d8576b"
             ],
             [
              0.6666666666666666,
              "#ed7953"
             ],
             [
              0.7777777777777778,
              "#fb9f3a"
             ],
             [
              0.8888888888888888,
              "#fdca26"
             ],
             [
              1,
              "#f0f921"
             ]
            ],
            "type": "heatmapgl"
           }
          ],
          "histogram": [
           {
            "marker": {
             "pattern": {
              "fillmode": "overlay",
              "size": 10,
              "solidity": 0.2
             }
            },
            "type": "histogram"
           }
          ],
          "histogram2d": [
           {
            "colorbar": {
             "outlinewidth": 0,
             "ticks": ""
            },
            "colorscale": [
             [
              0,
              "#0d0887"
             ],
             [
              0.1111111111111111,
              "#46039f"
             ],
             [
              0.2222222222222222,
              "#7201a8"
             ],
             [
              0.3333333333333333,
              "#9c179e"
             ],
             [
              0.4444444444444444,
              "#bd3786"
             ],
             [
              0.5555555555555556,
              "#d8576b"
             ],
             [
              0.6666666666666666,
              "#ed7953"
             ],
             [
              0.7777777777777778,
              "#fb9f3a"
             ],
             [
              0.8888888888888888,
              "#fdca26"
             ],
             [
              1,
              "#f0f921"
             ]
            ],
            "type": "histogram2d"
           }
          ],
          "histogram2dcontour": [
           {
            "colorbar": {
             "outlinewidth": 0,
             "ticks": ""
            },
            "colorscale": [
             [
              0,
              "#0d0887"
             ],
             [
              0.1111111111111111,
              "#46039f"
             ],
             [
              0.2222222222222222,
              "#7201a8"
             ],
             [
              0.3333333333333333,
              "#9c179e"
             ],
             [
              0.4444444444444444,
              "#bd3786"
             ],
             [
              0.5555555555555556,
              "#d8576b"
             ],
             [
              0.6666666666666666,
              "#ed7953"
             ],
             [
              0.7777777777777778,
              "#fb9f3a"
             ],
             [
              0.8888888888888888,
              "#fdca26"
             ],
             [
              1,
              "#f0f921"
             ]
            ],
            "type": "histogram2dcontour"
           }
          ],
          "mesh3d": [
           {
            "colorbar": {
             "outlinewidth": 0,
             "ticks": ""
            },
            "type": "mesh3d"
           }
          ],
          "parcoords": [
           {
            "line": {
             "colorbar": {
              "outlinewidth": 0,
              "ticks": ""
             }
            },
            "type": "parcoords"
           }
          ],
          "pie": [
           {
            "automargin": true,
            "type": "pie"
           }
          ],
          "scatter": [
           {
            "fillpattern": {
             "fillmode": "overlay",
             "size": 10,
             "solidity": 0.2
            },
            "type": "scatter"
           }
          ],
          "scatter3d": [
           {
            "line": {
             "colorbar": {
              "outlinewidth": 0,
              "ticks": ""
             }
            },
            "marker": {
             "colorbar": {
              "outlinewidth": 0,
              "ticks": ""
             }
            },
            "type": "scatter3d"
           }
          ],
          "scattercarpet": [
           {
            "marker": {
             "colorbar": {
              "outlinewidth": 0,
              "ticks": ""
             }
            },
            "type": "scattercarpet"
           }
          ],
          "scattergeo": [
           {
            "marker": {
             "colorbar": {
              "outlinewidth": 0,
              "ticks": ""
             }
            },
            "type": "scattergeo"
           }
          ],
          "scattergl": [
           {
            "marker": {
             "colorbar": {
              "outlinewidth": 0,
              "ticks": ""
             }
            },
            "type": "scattergl"
           }
          ],
          "scattermapbox": [
           {
            "marker": {
             "colorbar": {
              "outlinewidth": 0,
              "ticks": ""
             }
            },
            "type": "scattermapbox"
           }
          ],
          "scatterpolar": [
           {
            "marker": {
             "colorbar": {
              "outlinewidth": 0,
              "ticks": ""
             }
            },
            "type": "scatterpolar"
           }
          ],
          "scatterpolargl": [
           {
            "marker": {
             "colorbar": {
              "outlinewidth": 0,
              "ticks": ""
             }
            },
            "type": "scatterpolargl"
           }
          ],
          "scatterternary": [
           {
            "marker": {
             "colorbar": {
              "outlinewidth": 0,
              "ticks": ""
             }
            },
            "type": "scatterternary"
           }
          ],
          "surface": [
           {
            "colorbar": {
             "outlinewidth": 0,
             "ticks": ""
            },
            "colorscale": [
             [
              0,
              "#0d0887"
             ],
             [
              0.1111111111111111,
              "#46039f"
             ],
             [
              0.2222222222222222,
              "#7201a8"
             ],
             [
              0.3333333333333333,
              "#9c179e"
             ],
             [
              0.4444444444444444,
              "#bd3786"
             ],
             [
              0.5555555555555556,
              "#d8576b"
             ],
             [
              0.6666666666666666,
              "#ed7953"
             ],
             [
              0.7777777777777778,
              "#fb9f3a"
             ],
             [
              0.8888888888888888,
              "#fdca26"
             ],
             [
              1,
              "#f0f921"
             ]
            ],
            "type": "surface"
           }
          ],
          "table": [
           {
            "cells": {
             "fill": {
              "color": "#EBF0F8"
             },
             "line": {
              "color": "white"
             }
            },
            "header": {
             "fill": {
              "color": "#C8D4E3"
             },
             "line": {
              "color": "white"
             }
            },
            "type": "table"
           }
          ]
         },
         "layout": {
          "annotationdefaults": {
           "arrowcolor": "#2a3f5f",
           "arrowhead": 0,
           "arrowwidth": 1
          },
          "autotypenumbers": "strict",
          "coloraxis": {
           "colorbar": {
            "outlinewidth": 0,
            "ticks": ""
           }
          },
          "colorscale": {
           "diverging": [
            [
             0,
             "#8e0152"
            ],
            [
             0.1,
             "#c51b7d"
            ],
            [
             0.2,
             "#de77ae"
            ],
            [
             0.3,
             "#f1b6da"
            ],
            [
             0.4,
             "#fde0ef"
            ],
            [
             0.5,
             "#f7f7f7"
            ],
            [
             0.6,
             "#e6f5d0"
            ],
            [
             0.7,
             "#b8e186"
            ],
            [
             0.8,
             "#7fbc41"
            ],
            [
             0.9,
             "#4d9221"
            ],
            [
             1,
             "#276419"
            ]
           ],
           "sequential": [
            [
             0,
             "#0d0887"
            ],
            [
             0.1111111111111111,
             "#46039f"
            ],
            [
             0.2222222222222222,
             "#7201a8"
            ],
            [
             0.3333333333333333,
             "#9c179e"
            ],
            [
             0.4444444444444444,
             "#bd3786"
            ],
            [
             0.5555555555555556,
             "#d8576b"
            ],
            [
             0.6666666666666666,
             "#ed7953"
            ],
            [
             0.7777777777777778,
             "#fb9f3a"
            ],
            [
             0.8888888888888888,
             "#fdca26"
            ],
            [
             1,
             "#f0f921"
            ]
           ],
           "sequentialminus": [
            [
             0,
             "#0d0887"
            ],
            [
             0.1111111111111111,
             "#46039f"
            ],
            [
             0.2222222222222222,
             "#7201a8"
            ],
            [
             0.3333333333333333,
             "#9c179e"
            ],
            [
             0.4444444444444444,
             "#bd3786"
            ],
            [
             0.5555555555555556,
             "#d8576b"
            ],
            [
             0.6666666666666666,
             "#ed7953"
            ],
            [
             0.7777777777777778,
             "#fb9f3a"
            ],
            [
             0.8888888888888888,
             "#fdca26"
            ],
            [
             1,
             "#f0f921"
            ]
           ]
          },
          "colorway": [
           "#636efa",
           "#EF553B",
           "#00cc96",
           "#ab63fa",
           "#FFA15A",
           "#19d3f3",
           "#FF6692",
           "#B6E880",
           "#FF97FF",
           "#FECB52"
          ],
          "font": {
           "color": "#2a3f5f"
          },
          "geo": {
           "bgcolor": "white",
           "lakecolor": "white",
           "landcolor": "#E5ECF6",
           "showlakes": true,
           "showland": true,
           "subunitcolor": "white"
          },
          "hoverlabel": {
           "align": "left"
          },
          "hovermode": "closest",
          "mapbox": {
           "style": "light"
          },
          "paper_bgcolor": "white",
          "plot_bgcolor": "#E5ECF6",
          "polar": {
           "angularaxis": {
            "gridcolor": "white",
            "linecolor": "white",
            "ticks": ""
           },
           "bgcolor": "#E5ECF6",
           "radialaxis": {
            "gridcolor": "white",
            "linecolor": "white",
            "ticks": ""
           }
          },
          "scene": {
           "xaxis": {
            "backgroundcolor": "#E5ECF6",
            "gridcolor": "white",
            "gridwidth": 2,
            "linecolor": "white",
            "showbackground": true,
            "ticks": "",
            "zerolinecolor": "white"
           },
           "yaxis": {
            "backgroundcolor": "#E5ECF6",
            "gridcolor": "white",
            "gridwidth": 2,
            "linecolor": "white",
            "showbackground": true,
            "ticks": "",
            "zerolinecolor": "white"
           },
           "zaxis": {
            "backgroundcolor": "#E5ECF6",
            "gridcolor": "white",
            "gridwidth": 2,
            "linecolor": "white",
            "showbackground": true,
            "ticks": "",
            "zerolinecolor": "white"
           }
          },
          "shapedefaults": {
           "line": {
            "color": "#2a3f5f"
           }
          },
          "ternary": {
           "aaxis": {
            "gridcolor": "white",
            "linecolor": "white",
            "ticks": ""
           },
           "baxis": {
            "gridcolor": "white",
            "linecolor": "white",
            "ticks": ""
           },
           "bgcolor": "#E5ECF6",
           "caxis": {
            "gridcolor": "white",
            "linecolor": "white",
            "ticks": ""
           }
          },
          "title": {
           "x": 0.05
          },
          "xaxis": {
           "automargin": true,
           "gridcolor": "white",
           "linecolor": "white",
           "ticks": "",
           "title": {
            "standoff": 15
           },
           "zerolinecolor": "white",
           "zerolinewidth": 2
          },
          "yaxis": {
           "automargin": true,
           "gridcolor": "white",
           "linecolor": "white",
           "ticks": "",
           "title": {
            "standoff": 15
           },
           "zerolinecolor": "white",
           "zerolinewidth": 2
          }
         }
        },
        "title": {
         "font": {
          "color": "#4D5663"
         },
         "text": "Mood Distribution"
        },
        "xaxis": {
         "autorange": true,
         "gridcolor": "#E1E5ED",
         "range": [
          -0.5,
          4.5
         ],
         "showgrid": true,
         "tickfont": {
          "color": "#4D5663"
         },
         "title": {
          "font": {
           "color": "#4D5663"
          },
          "text": "Mood"
         },
         "type": "category",
         "zerolinecolor": "#E1E5ED"
        },
        "yaxis": {
         "autorange": true,
         "gridcolor": "#E1E5ED",
         "range": [
          0,
          115.78947368421052
         ],
         "showgrid": true,
         "tickfont": {
          "color": "#4D5663"
         },
         "title": {
          "font": {
           "color": "#4D5663"
          },
          "text": "Frequency"
         },
         "type": "linear",
         "zerolinecolor": "#E1E5ED"
        }
       }
      },
      "image/png": "[encoded data removed]",
      "text/html": [
       "<div>                            <div id=\"4ad7a836-228e-4ea5-9746-429319fb7e6c\" class=\"plotly-graph-div\" style=\"height:525px; width:100%;\"></div>            <script type=\"text/javascript\">                require([\"plotly\"], function(Plotly) {                    window.PLOTLYENV=window.PLOTLYENV || {};                                    if (document.getElementById(\"4ad7a836-228e-4ea5-9746-429319fb7e6c\")) {                    Plotly.newPlot(                        \"4ad7a836-228e-4ea5-9746-429319fb7e6c\",                        [{\"marker\":{\"color\":\"rgba(255, 153, 51, 0.6)\",\"line\":{\"color\":\"rgba(255, 153, 51, 1.0)\",\"width\":1}},\"name\":\"count\",\"orientation\":\"v\",\"text\":\"\",\"x\":[\"happy\",\"stressed\",\"sad\",\"energetic\",\"tired\"],\"y\":[110,106,97,97,90],\"type\":\"bar\"}],                        {\"legend\":{\"bgcolor\":\"#F5F6F9\",\"font\":{\"color\":\"#4D5663\"}},\"paper_bgcolor\":\"#F5F6F9\",\"plot_bgcolor\":\"#F5F6F9\",\"title\":{\"text\":\"Mood Distribution\",\"font\":{\"color\":\"#4D5663\"}},\"xaxis\":{\"gridcolor\":\"#E1E5ED\",\"showgrid\":true,\"tickfont\":{\"color\":\"#4D5663\"},\"title\":{\"text\":\"Mood\",\"font\":{\"color\":\"#4D5663\"}},\"zerolinecolor\":\"#E1E5ED\"},\"yaxis\":{\"gridcolor\":\"#E1E5ED\",\"showgrid\":true,\"tickfont\":{\"color\":\"#4D5663\"},\"title\":{\"text\":\"Frequency\",\"font\":{\"color\":\"#4D5663\"}},\"zerolinecolor\":\"#E1E5ED\"},\"template\":{\"data\":{\"histogram2dcontour\":[{\"type\":\"histogram2dcontour\",\"colorbar\":{\"outlinewidth\":0,\"ticks\":\"\"},\"colorscale\":[[0.0,\"#0d0887\"],[0.1111111111111111,\"#46039f\"],[0.2222222222222222,\"#7201a8\"],[0.3333333333333333,\"#9c179e\"],[0.4444444444444444,\"#bd3786\"],[0.5555555555555556,\"#d8576b\"],[0.6666666666666666,\"#ed7953\"],[0.7777777777777778,\"#fb9f3a\"],[0.8888888888888888,\"#fdca26\"],[1.0,\"#f0f921\"]]}],\"choropleth\":[{\"type\":\"choropleth\",\"colorbar\":{\"outlinewidth\":0,\"ticks\":\"\"}}],\"histogram2d\":[{\"type\":\"histogram2d\",\"colorbar\":{\"outlinewidth\":0,\"ticks\":\"\"},\"colorscale\":[[0.0,\"#0d0887\"],[0.1111111111111111,\"#46039f\"],[0.2222222222222222,\"#7201a8\"],[0.3333333333333333,\"#9c179e\"],[0.4444444444444444,\"#bd3786\"],[0.5555555555555556,\"#d8576b\"],[0.6666666666666666,\"#ed7953\"],[0.7777777777777778,\"#fb9f3a\"],[0.8888888888888888,\"#fdca26\"],[1.0,\"#f0f921\"]]}],\"heatmap\":[{\"type\":\"heatmap\",\"colorbar\":{\"outlinewidth\":0,\"ticks\":\"\"},\"colorscale\":[[0.0,\"#0d0887\"],[0.1111111111111111,\"#46039f\"],[0.2222222222222222,\"#7201a8\"],[0.3333333333333333,\"#9c179e\"],[0.4444444444444444,\"#bd3786\"],[0.5555555555555556,\"#d8576b\"],[0.6666666666666666,\"#ed7953\"],[0.7777777777777778,\"#fb9f3a\"],[0.8888888888888888,\"#fdca26\"],[1.0,\"#f0f921\"]]}],\"heatmapgl\":[{\"type\":\"heatmapgl\",\"colorbar\":{\"outlinewidth\":0,\"ticks\":\"\"},\"colorscale\":[[0.0,\"#0d0887\"],[0.1111111111111111,\"#46039f\"],[0.2222222222222222,\"#7201a8\"],[0.3333333333333333,\"#9c179e\"],[0.4444444444444444,\"#bd3786\"],[0.5555555555555556,\"#d8576b\"],[0.6666666666666666,\"#ed7953\"],[0.7777777777777778,\"#fb9f3a\"],[0.8888888888888888,\"#fdca26\"],[1.0,\"#f0f921\"]]}],\"contourcarpet\":[{\"type\":\"contourcarpet\",\"colorbar\":{\"outlinewidth\":0,\"ticks\":\"\"}}],\"contour\":[{\"type\":\"contour\",\"colorbar\":{\"outlinewidth\":0,\"ticks\":\"\"},\"colorscale\":[[0.0,\"#0d0887\"],[0.1111111111111111,\"#46039f\"],[0.2222222222222222,\"#7201a8\"],[0.3333333333333333,\"#9c179e\"],[0.4444444444444444,\"#bd3786\"],[0.5555555555555556,\"#d8576b\"],[0.6666666666666666,\"#ed7953\"],[0.7777777777777778,\"#fb9f3a\"],[0.8888888888888888,\"#fdca26\"],[1.0,\"#f0f921\"]]}],\"surface\":[{\"type\":\"surface\",\"colorbar\":{\"outlinewidth\":0,\"ticks\":\"\"},\"colorscale\":[[0.0,\"#0d0887\"],[0.1111111111111111,\"#46039f\"],[0.2222222222222222,\"#7201a8\"],[0.3333333333333333,\"#9c179e\"],[0.4444444444444444,\"#bd3786\"],[0.5555555555555556,\"#d8576b\"],[0.6666666666666666,\"#ed7953\"],[0.7777777777777778,\"#fb9f3a\"],[0.8888888888888888,\"#fdca26\"],[1.0,\"#f0f921\"]]}],\"mesh3d\":[{\"type\":\"mesh3d\",\"colorbar\":{\"outlinewidth\":0,\"ticks\":\"\"}}],\"scatter\":[{\"fillpattern\":{\"fillmode\":\"overlay\",\"size\":10,\"solidity\":0.2},\"type\":\"scatter\"}],\"parcoords\":[{\"type\":\"parcoords\",\"line\":{\"colorbar\":{\"outlinewidth\":0,\"ticks\":\"\"}}}],\"scatterpolargl\":[{\"type\":\"scatterpolargl\",\"marker\":{\"colorbar\":{\"outlinewidth\":0,\"ticks\":\"\"}}}],\"bar\":[{\"error_x\":{\"color\":\"#2a3f5f\"},\"error_y\":{\"color\":\"#2a3f5f\"},\"marker\":{\"line\":{\"color\":\"#E5ECF6\",\"width\":0.5},\"pattern\":{\"fillmode\":\"overlay\",\"size\":10,\"solidity\":0.2}},\"type\":\"bar\"}],\"scattergeo\":[{\"type\":\"scattergeo\",\"marker\":{\"colorbar\":{\"outlinewidth\":0,\"ticks\":\"\"}}}],\"scatterpolar\":[{\"type\":\"scatterpolar\",\"marker\":{\"colorbar\":{\"outlinewidth\":0,\"ticks\":\"\"}}}],\"histogram\":[{\"marker\":{\"pattern\":{\"fillmode\":\"overlay\",\"size\":10,\"solidity\":0.2}},\"type\":\"histogram\"}],\"scattergl\":[{\"type\":\"scattergl\",\"marker\":{\"colorbar\":{\"outlinewidth\":0,\"ticks\":\"\"}}}],\"scatter3d\":[{\"type\":\"scatter3d\",\"line\":{\"colorbar\":{\"outlinewidth\":0,\"ticks\":\"\"}},\"marker\":{\"colorbar\":{\"outlinewidth\":0,\"ticks\":\"\"}}}],\"scattermapbox\":[{\"type\":\"scattermapbox\",\"marker\":{\"colorbar\":{\"outlinewidth\":0,\"ticks\":\"\"}}}],\"scatterternary\":[{\"type\":\"scatterternary\",\"marker\":{\"colorbar\":{\"outlinewidth\":0,\"ticks\":\"\"}}}],\"scattercarpet\":[{\"type\":\"scattercarpet\",\"marker\":{\"colorbar\":{\"outlinewidth\":0,\"ticks\":\"\"}}}],\"carpet\":[{\"aaxis\":{\"endlinecolor\":\"#2a3f5f\",\"gridcolor\":\"white\",\"linecolor\":\"white\",\"minorgridcolor\":\"white\",\"startlinecolor\":\"#2a3f5f\"},\"baxis\":{\"endlinecolor\":\"#2a3f5f\",\"gridcolor\":\"white\",\"linecolor\":\"white\",\"minorgridcolor\":\"white\",\"startlinecolor\":\"#2a3f5f\"},\"type\":\"carpet\"}],\"table\":[{\"cells\":{\"fill\":{\"color\":\"#EBF0F8\"},\"line\":{\"color\":\"white\"}},\"header\":{\"fill\":{\"color\":\"#C8D4E3\"},\"line\":{\"color\":\"white\"}},\"type\":\"table\"}],\"barpolar\":[{\"marker\":{\"line\":{\"color\":\"#E5ECF6\",\"width\":0.5},\"pattern\":{\"fillmode\":\"overlay\",\"size\":10,\"solidity\":0.2}},\"type\":\"barpolar\"}],\"pie\":[{\"automargin\":true,\"type\":\"pie\"}]},\"layout\":{\"autotypenumbers\":\"strict\",\"colorway\":[\"#636efa\",\"#EF553B\",\"#00cc96\",\"#ab63fa\",\"#FFA15A\",\"#19d3f3\",\"#FF6692\",\"#B6E880\",\"#FF97FF\",\"#FECB52\"],\"font\":{\"color\":\"#2a3f5f\"},\"hovermode\":\"closest\",\"hoverlabel\":{\"align\":\"left\"},\"paper_bgcolor\":\"white\",\"plot_bgcolor\":\"#E5ECF6\",\"polar\":{\"bgcolor\":\"#E5ECF6\",\"angularaxis\":{\"gridcolor\":\"white\",\"linecolor\":\"white\",\"ticks\":\"\"},\"radialaxis\":{\"gridcolor\":\"white\",\"linecolor\":\"white\",\"ticks\":\"\"}},\"ternary\":{\"bgcolor\":\"#E5ECF6\",\"aaxis\":{\"gridcolor\":\"white\",\"linecolor\":\"white\",\"ticks\":\"\"},\"baxis\":{\"gridcolor\":\"white\",\"linecolor\":\"white\",\"ticks\":\"\"},\"caxis\":{\"gridcolor\":\"white\",\"linecolor\":\"white\",\"ticks\":\"\"}},\"coloraxis\":{\"colorbar\":{\"outlinewidth\":0,\"ticks\":\"\"}},\"colorscale\":{\"sequential\":[[0.0,\"#0d0887\"],[0.1111111111111111,\"#46039f\"],[0.2222222222222222,\"#7201a8\"],[0.3333333333333333,\"#9c179e\"],[0.4444444444444444,\"#bd3786\"],[0.5555555555555556,\"#d8576b\"],[0.6666666666666666,\"#ed7953\"],[0.7777777777777778,\"#fb9f3a\"],[0.8888888888888888,\"#fdca26\"],[1.0,\"#f0f921\"]],\"sequentialminus\":[[0.0,\"#0d0887\"],[0.1111111111111111,\"#46039f\"],[0.2222222222222222,\"#7201a8\"],[0.3333333333333333,\"#9c179e\"],[0.4444444444444444,\"#bd3786\"],[0.5555555555555556,\"#d8576b\"],[0.6666666666666666,\"#ed7953\"],[0.7777777777777778,\"#fb9f3a\"],[0.8888888888888888,\"#fdca26\"],[1.0,\"#f0f921\"]],\"diverging\":[[0,\"#8e0152\"],[0.1,\"#c51b7d\"],[0.2,\"#de77ae\"],[0.3,\"#f1b6da\"],[0.4,\"#fde0ef\"],[0.5,\"#f7f7f7\"],[0.6,\"#e6f5d0\"],[0.7,\"#b8e186\"],[0.8,\"#7fbc41\"],[0.9,\"#4d9221\"],[1,\"#276419\"]]},\"xaxis\":{\"gridcolor\":\"white\",\"linecolor\":\"white\",\"ticks\":\"\",\"title\":{\"standoff\":15},\"zerolinecolor\":\"white\",\"automargin\":true,\"zerolinewidth\":2},\"yaxis\":{\"gridcolor\":\"white\",\"linecolor\":\"white\",\"ticks\":\"\",\"title\":{\"standoff\":15},\"zerolinecolor\":\"white\",\"automargin\":true,\"zerolinewidth\":2},\"scene\":{\"xaxis\":{\"backgroundcolor\":\"#E5ECF6\",\"gridcolor\":\"white\",\"linecolor\":\"white\",\"showbackground\":true,\"ticks\":\"\",\"zerolinecolor\":\"white\",\"gridwidth\":2},\"yaxis\":{\"backgroundcolor\":\"#E5ECF6\",\"gridcolor\":\"white\",\"linecolor\":\"white\",\"showbackground\":true,\"ticks\":\"\",\"zerolinecolor\":\"white\",\"gridwidth\":2},\"zaxis\":{\"backgroundcolor\":\"#E5ECF6\",\"gridcolor\":\"white\",\"linecolor\":\"white\",\"showbackground\":true,\"ticks\":\"\",\"zerolinecolor\":\"white\",\"gridwidth\":2}},\"shapedefaults\":{\"line\":{\"color\":\"#2a3f5f\"}},\"annotationdefaults\":{\"arrowcolor\":\"#2a3f5f\",\"arrowhead\":0,\"arrowwidth\":1},\"geo\":{\"bgcolor\":\"white\",\"landcolor\":\"#E5ECF6\",\"subunitcolor\":\"white\",\"showland\":true,\"showlakes\":true,\"lakecolor\":\"white\"},\"title\":{\"x\":0.05},\"mapbox\":{\"style\":\"light\"}}}},                        {\"responsive\": true}                    ).then(function(){\n",
       "                            \n",
       "var gd = document.getElementById('4ad7a836-228e-4ea5-9746-429319fb7e6c');\n",
       "var x = new MutationObserver(function (mutations, observer) {{\n",
       "        var display = window.getComputedStyle(gd).display;\n",
       "        if (!display || display === 'none') {{\n",
       "            console.log([gd, 'removed!']);\n",
       "            Plotly.purge(gd);\n",
       "            observer.disconnect();\n",
       "        }}\n",
       "}});\n",
       "\n",
       "// Listen for the removal of the full notebook cells\n",
       "var notebookContainer = gd.closest('#notebook-container');\n",
       "if (notebookContainer) {{\n",
       "    x.observe(notebookContainer, {childList: true});\n",
       "}}\n",
       "\n",
       "// Listen for the clearing of the current output cell\n",
       "var outputEl = gd.closest('.output');\n",
       "if (outputEl) {{\n",
       "    x.observe(outputEl, {childList: true});\n",
       "}}\n",
       "\n",
       "                        })                };                });            </script>        </div>"
      ]
     },
     "metadata": {},
     "output_type": "display_data"
    }
   ],
   "source": [
    "df['mood'].value_counts().iplot(kind='bar',title='Mood Distribution',xTitle='Mood',yTitle='Frequency',asFigure=True)"
   ]
  },
  {
   "cell_type": "markdown",
   "id": "0ac7802d-05e0-4ca4-a502-439b13889420",
   "metadata": {},
   "source": [
    "## Scatter Plot (Steps vs. Calories Burned)"
   ]
  },
  {
   "cell_type": "code",
   "execution_count": 89,
   "id": "cf85ef76-9ac1-4780-ad6c-d92c496e611f",
   "metadata": {},
   "outputs": [
    {
     "data": {
      "application/vnd.plotly.v1+json": {
       "config": {
        "plotlyServerURL": "https://plot.ly"
       },
       "data": [
        {
         "line": {
          "color": "rgba(255, 153, 51, 1.0)",
          "dash": "solid",
          "shape": "linear",
          "width": 1.3
         },
         "marker": {
          "size": 12,
          "symbol": "circle"
         },
         "mode": "markers",
         "name": "calories_burned",
         "text": "",
         "type": "scatter",
         "x": [
          4147,
          323,
          6622,
          11136,
          2718,
          4972,
          15271,
          17290,
          1042,
          6818,
          13141,
          5046,
          11615,
          4301,
          8655,
          14113,
          15435,
          18451,
          11850,
          1075,
          5340,
          13972,
          17002,
          7786,
          10776,
          15203,
          2644,
          1905,
          7467,
          15005,
          1811,
          17812,
          1193,
          14118,
          17536,
          8159,
          16123,
          5606,
          6292,
          7740,
          8678,
          5861,
          10948,
          11079,
          14928,
          19940,
          10598,
          17134,
          3276,
          17751,
          6679,
          8929,
          329,
          17094,
          1964,
          19702,
          13813,
          6169,
          11000,
          6683,
          843,
          5397,
          12976,
          2169,
          7287,
          10720,
          765,
          18989,
          3105,
          7445,
          15063,
          1505,
          18313,
          13681,
          17964,
          8497,
          17993,
          19143,
          19529,
          1683,
          14008,
          10941,
          6220,
          19260,
          4237,
          16177,
          5179,
          17215,
          15893,
          8761,
          14137,
          19389,
          12523,
          2005,
          18641,
          15534,
          11182,
          5966,
          16126,
          7321,
          15413,
          19181,
          1462,
          8899,
          2576,
          5636,
          12806,
          4016,
          3969,
          524,
          2119,
          10678,
          4053,
          3187,
          19309,
          10368,
          8613,
          10193,
          5357,
          2382,
          6208,
          10549,
          816,
          18194,
          8905,
          18329,
          7115,
          4029,
          16227,
          7714,
          2080,
          11990,
          15730,
          8853,
          15433,
          17380,
          470,
          6791,
          15059,
          13822,
          7398,
          11801,
          4896,
          14635,
          630,
          4804,
          18922,
          3859,
          14219,
          11151,
          6482,
          1349,
          5071,
          817,
          4797,
          4487,
          976,
          10183,
          16103,
          11848,
          10499,
          12612,
          12150,
          16810,
          12721,
          6565,
          9184,
          3394,
          3476,
          5950,
          5333,
          16308,
          12335,
          7684,
          13272,
          7289,
          2646,
          521,
          232,
          6205,
          7532,
          7855,
          17138,
          7286,
          11806,
          3117,
          8040,
          7129,
          12807,
          19162,
          13069,
          14360,
          18702,
          12122,
          7827,
          13114,
          7883,
          13923,
          19120,
          793,
          18102,
          18871,
          14426,
          6793,
          18189,
          10936,
          7469,
          5498,
          15316,
          7440,
          4861,
          2494,
          493,
          12956,
          14418,
          7258,
          17418,
          3869,
          18691,
          783,
          12555,
          5121,
          9706,
          18841,
          15995,
          9767,
          11481,
          12667,
          18165,
          3232,
          7774,
          19292,
          16195,
          13617,
          15572,
          17150,
          26,
          18671,
          10944,
          2464,
          9972,
          8087,
          2432,
          7115,
          17953,
          19949,
          15786,
          15322,
          15592,
          5045,
          8185,
          18655,
          5195,
          12084,
          19979,
          12431,
          4017,
          3490,
          5849,
          14242,
          18018,
          11804,
          2658,
          12210,
          11362,
          16404,
          163,
          2258,
          14914,
          2440,
          6159,
          18432,
          19969,
          19915,
          16857,
          18571,
          14952,
          2012,
          13059,
          18684,
          1067,
          3946,
          1342,
          11461,
          8548,
          160,
          16191,
          18407,
          2898,
          13411,
          6433,
          17380,
          1972,
          6779,
          5637,
          15793,
          8552,
          10243,
          7169,
          1205,
          15006,
          13091,
          1485,
          4180,
          1021,
          5153,
          13067,
          14657,
          574,
          13393,
          12472,
          6941,
          17999,
          13106,
          11670,
          15023,
          11435,
          1406,
          3234,
          14731,
          2493,
          11862,
          11258,
          18581,
          19683,
          11675,
          16966,
          13790,
          13855,
          18869,
          5703,
          14365,
          15017,
          17390,
          12536,
          13046,
          14379,
          13295,
          10450,
          11774,
          11671,
          11984,
          18899,
          6519,
          3732,
          6832,
          5823,
          6218,
          16387,
          16702,
          8188,
          3943,
          8272,
          560,
          7754,
          15725,
          7493,
          4242,
          11504,
          11824,
          9377,
          7106,
          8191,
          15818,
          4356,
          7915,
          16316,
          1376,
          1171,
          6989,
          6128,
          17183,
          4557,
          11722,
          4480,
          8798,
          6479,
          6070,
          17957,
          4070,
          18052,
          6941,
          5480,
          3328,
          12335,
          12049,
          19651,
          2702,
          7973,
          18045,
          2769,
          17762,
          18693,
          2323,
          18027,
          19327,
          10012,
          19113,
          411,
          57,
          11795,
          13696,
          7493,
          10748,
          19336,
          16810,
          910,
          3210,
          16172,
          5756,
          19860,
          8367,
          1393,
          4770,
          14782,
          15792,
          19543,
          14136,
          2458,
          14194,
          8033,
          18361,
          14937,
          11458,
          9795,
          10048,
          16895,
          8655,
          14176,
          5759,
          16031,
          14360,
          16562,
          4010,
          16099,
          18061,
          15558,
          16481,
          18653,
          13572,
          2259,
          8290,
          2275,
          11627,
          4099,
          1554,
          10293,
          18442,
          2797,
          9935,
          18276,
          6585,
          4477,
          13507,
          2100,
          15149,
          13226,
          11041,
          11041,
          11390,
          8403,
          15842,
          18668,
          12441,
          16245,
          10570,
          10859,
          2390,
          11381,
          15294,
          18728,
          10965,
          125,
          8721,
          5084,
          7573,
          6259,
          9488,
          5920,
          8688,
          16348,
          14058,
          19287,
          16796,
          13030,
          10010,
          14891,
          3269,
          13973,
          3240,
          3236,
          19451,
          16168,
          4004,
          19679,
          17376,
          6917,
          12247,
          8295,
          5254
         ],
         "y": [
          124.41,
          9.69,
          198.66,
          334.08,
          81.54,
          149.16,
          458.13,
          518.7,
          31.26,
          204.54,
          394.23,
          151.38,
          348.45,
          129.03,
          259.65,
          423.39,
          463.05,
          553.53,
          355.5,
          32.25,
          160.2,
          419.16,
          510.06,
          233.58,
          323.28,
          456.09,
          79.32,
          57.15,
          224.01,
          450.15,
          54.33,
          534.36,
          35.79,
          423.54,
          526.08,
          244.77,
          483.69,
          168.18,
          188.76,
          232.2,
          260.34,
          175.83,
          328.44,
          332.37,
          447.84,
          598.2,
          317.94,
          514.02,
          98.28,
          532.53,
          200.37,
          267.87,
          9.87,
          512.82,
          58.92,
          591.06,
          414.39,
          185.07,
          330,
          200.49,
          25.29,
          161.91,
          389.28,
          65.07,
          218.61,
          321.6,
          22.95,
          569.67,
          93.15,
          223.35,
          451.89,
          45.15,
          549.39,
          410.43,
          538.92,
          254.91,
          539.79,
          574.29,
          585.87,
          50.49,
          420.24,
          328.23,
          186.6,
          577.8,
          127.11,
          485.31,
          155.37,
          516.45,
          476.79,
          262.83,
          424.11,
          581.67,
          375.69,
          60.15,
          559.23,
          466.02,
          335.46,
          178.98,
          483.78,
          219.63,
          462.39,
          575.43,
          43.86,
          266.97,
          77.28,
          169.08,
          384.18,
          120.48,
          119.07,
          15.72,
          63.57,
          320.34,
          121.59,
          95.61,
          579.27,
          311.04,
          258.39,
          305.79,
          160.71,
          71.46,
          186.24,
          316.47,
          24.48,
          545.82,
          267.15,
          549.87,
          213.45,
          120.87,
          486.81,
          231.42,
          62.4,
          359.7,
          471.9,
          265.59,
          462.99,
          521.4,
          14.1,
          203.73,
          451.77,
          414.66,
          221.94,
          354.03,
          146.88,
          439.05,
          18.9,
          144.12,
          567.66,
          115.77,
          426.57,
          334.53,
          194.46,
          40.47,
          152.13,
          24.51,
          143.91,
          134.61,
          29.28,
          305.49,
          483.09,
          355.44,
          314.97,
          378.36,
          364.5,
          504.3,
          381.63,
          196.95,
          275.52,
          101.82,
          104.28,
          178.5,
          159.99,
          489.24,
          370.05,
          230.52,
          398.16,
          218.67,
          79.38,
          15.63,
          6.96,
          186.15,
          225.96,
          235.65,
          514.14,
          218.58,
          354.18,
          93.51,
          241.2,
          213.87,
          384.21,
          574.86,
          392.07,
          430.8,
          561.06,
          363.66,
          234.81,
          393.42,
          236.49,
          417.69,
          573.6,
          23.79,
          543.06,
          566.13,
          432.78,
          203.79,
          545.67,
          328.08,
          224.07,
          164.94,
          459.48,
          223.2,
          145.83,
          74.82,
          14.79,
          388.68,
          432.54,
          217.74,
          522.54,
          116.07,
          560.73,
          23.49,
          376.65,
          153.63,
          291.18,
          565.23,
          479.85,
          293.01,
          344.43,
          380.01,
          544.95,
          96.96,
          233.22,
          578.76,
          485.85,
          408.51,
          467.16,
          514.5,
          0.78,
          560.13,
          328.32,
          73.92,
          299.16,
          242.61,
          72.96,
          213.45,
          538.59,
          598.47,
          473.58,
          459.66,
          467.76,
          151.35,
          245.55,
          559.65,
          155.85,
          362.52,
          599.37,
          372.93,
          120.51,
          104.7,
          175.47,
          427.26,
          540.54,
          354.12,
          79.74,
          366.3,
          340.86,
          492.12,
          4.89,
          67.74,
          447.42,
          73.2,
          184.77,
          552.96,
          599.07,
          597.45,
          505.71,
          557.13,
          448.56,
          60.36,
          391.77,
          560.52,
          32.01,
          118.38,
          40.26,
          343.83,
          256.44,
          4.8,
          485.73,
          552.21,
          86.94,
          402.33,
          192.99,
          521.4,
          59.16,
          203.37,
          169.11,
          473.79,
          256.56,
          307.29,
          215.07,
          36.15,
          450.18,
          392.73,
          44.55,
          125.4,
          30.63,
          154.59,
          392.01,
          439.71,
          17.22,
          401.79,
          374.16,
          208.23,
          539.97,
          393.18,
          350.1,
          450.69,
          343.05,
          42.18,
          97.02,
          441.93,
          74.79,
          355.86,
          337.74,
          557.43,
          590.49,
          350.25,
          508.98,
          413.7,
          415.65,
          566.07,
          171.09,
          430.95,
          450.51,
          521.7,
          376.08,
          391.38,
          431.37,
          398.85,
          313.5,
          353.22,
          350.13,
          359.52,
          566.97,
          195.57,
          111.96,
          204.96,
          174.69,
          186.54,
          491.61,
          501.06,
          245.64,
          118.29,
          248.16,
          16.8,
          232.62,
          471.75,
          224.79,
          127.26,
          345.12,
          354.72,
          281.31,
          213.18,
          245.73,
          474.54,
          130.68,
          237.45,
          489.48,
          41.28,
          35.13,
          209.67,
          183.84,
          515.49,
          136.71,
          351.66,
          134.4,
          263.94,
          194.37,
          182.1,
          538.71,
          122.1,
          541.56,
          208.23,
          164.4,
          99.84,
          370.05,
          361.47,
          589.53,
          81.06,
          239.19,
          541.35,
          83.07,
          532.86,
          560.79,
          69.69,
          540.81,
          579.81,
          300.36,
          573.39,
          12.33,
          1.71,
          353.85,
          410.88,
          224.79,
          322.44,
          580.08,
          504.3,
          27.3,
          96.3,
          485.16,
          172.68,
          595.8,
          251.01,
          41.79,
          143.1,
          443.46,
          473.76,
          586.29,
          424.08,
          73.74,
          425.82,
          240.99,
          550.83,
          448.11,
          343.74,
          293.85,
          301.44,
          506.85,
          259.65,
          425.28,
          172.77,
          480.93,
          430.8,
          496.86,
          120.3,
          482.97,
          541.83,
          466.74,
          494.43,
          559.59,
          407.16,
          67.77,
          248.7,
          68.25,
          348.81,
          122.97,
          46.62,
          308.79,
          553.26,
          83.91,
          298.05,
          548.28,
          197.55,
          134.31,
          405.21,
          63,
          454.47,
          396.78,
          331.23,
          331.23,
          341.7,
          252.09,
          475.26,
          560.04,
          373.23,
          487.35,
          317.1,
          325.77,
          71.7,
          341.43,
          458.82,
          561.84,
          328.95,
          3.75,
          261.63,
          152.52,
          227.19,
          187.77,
          284.64,
          177.6,
          260.64,
          490.44,
          421.74,
          578.61,
          503.88,
          390.9,
          300.3,
          446.73,
          98.07,
          419.19,
          97.2,
          97.08,
          583.53,
          485.04,
          120.12,
          590.37,
          521.28,
          207.51,
          367.41,
          248.85,
          157.62
         ]
        }
       ],
       "layout": {
        "autosize": true,
        "legend": {
         "bgcolor": "#F5F6F9",
         "font": {
          "color": "#4D5663"
         }
        },
        "paper_bgcolor": "#F5F6F9",
        "plot_bgcolor": "#F5F6F9",
        "template": {
         "data": {
          "bar": [
           {
            "error_x": {
             "color": "#2a3f5f"
            },
            "error_y": {
             "color": "#2a3f5f"
            },
            "marker": {
             "line": {
              "color": "#E5ECF6",
              "width": 0.5
             },
             "pattern": {
              "fillmode": "overlay",
              "size": 10,
              "solidity": 0.2
             }
            },
            "type": "bar"
           }
          ],
          "barpolar": [
           {
            "marker": {
             "line": {
              "color": "#E5ECF6",
              "width": 0.5
             },
             "pattern": {
              "fillmode": "overlay",
              "size": 10,
              "solidity": 0.2
             }
            },
            "type": "barpolar"
           }
          ],
          "carpet": [
           {
            "aaxis": {
             "endlinecolor": "#2a3f5f",
             "gridcolor": "white",
             "linecolor": "white",
             "minorgridcolor": "white",
             "startlinecolor": "#2a3f5f"
            },
            "baxis": {
             "endlinecolor": "#2a3f5f",
             "gridcolor": "white",
             "linecolor": "white",
             "minorgridcolor": "white",
             "startlinecolor": "#2a3f5f"
            },
            "type": "carpet"
           }
          ],
          "choropleth": [
           {
            "colorbar": {
             "outlinewidth": 0,
             "ticks": ""
            },
            "type": "choropleth"
           }
          ],
          "contour": [
           {
            "colorbar": {
             "outlinewidth": 0,
             "ticks": ""
            },
            "colorscale": [
             [
              0,
              "#0d0887"
             ],
             [
              0.1111111111111111,
              "#46039f"
             ],
             [
              0.2222222222222222,
              "#7201a8"
             ],
             [
              0.3333333333333333,
              "#9c179e"
             ],
             [
              0.4444444444444444,
              "#bd3786"
             ],
             [
              0.5555555555555556,
              "#d8576b"
             ],
             [
              0.6666666666666666,
              "#ed7953"
             ],
             [
              0.7777777777777778,
              "#fb9f3a"
             ],
             [
              0.8888888888888888,
              "#fdca26"
             ],
             [
              1,
              "#f0f921"
             ]
            ],
            "type": "contour"
           }
          ],
          "contourcarpet": [
           {
            "colorbar": {
             "outlinewidth": 0,
             "ticks": ""
            },
            "type": "contourcarpet"
           }
          ],
          "heatmap": [
           {
            "colorbar": {
             "outlinewidth": 0,
             "ticks": ""
            },
            "colorscale": [
             [
              0,
              "#0d0887"
             ],
             [
              0.1111111111111111,
              "#46039f"
             ],
             [
              0.2222222222222222,
              "#7201a8"
             ],
             [
              0.3333333333333333,
              "#9c179e"
             ],
             [
              0.4444444444444444,
              "#bd3786"
             ],
             [
              0.5555555555555556,
              "#d8576b"
             ],
             [
              0.6666666666666666,
              "#ed7953"
             ],
             [
              0.7777777777777778,
              "#fb9f3a"
             ],
             [
              0.8888888888888888,
              "#fdca26"
             ],
             [
              1,
              "#f0f921"
             ]
            ],
            "type": "heatmap"
           }
          ],
          "heatmapgl": [
           {
            "colorbar": {
             "outlinewidth": 0,
             "ticks": ""
            },
            "colorscale": [
             [
              0,
              "#0d0887"
             ],
             [
              0.1111111111111111,
              "#46039f"
             ],
             [
              0.2222222222222222,
              "#7201a8"
             ],
             [
              0.3333333333333333,
              "#9c179e"
             ],
             [
              0.4444444444444444,
              "#bd3786"
             ],
             [
              0.5555555555555556,
              "#d8576b"
             ],
             [
              0.6666666666666666,
              "#ed7953"
             ],
             [
              0.7777777777777778,
              "#fb9f3a"
             ],
             [
              0.8888888888888888,
              "#fdca26"
             ],
             [
              1,
              "#f0f921"
             ]
            ],
            "type": "heatmapgl"
           }
          ],
          "histogram": [
           {
            "marker": {
             "pattern": {
              "fillmode": "overlay",
              "size": 10,
              "solidity": 0.2
             }
            },
            "type": "histogram"
           }
          ],
          "histogram2d": [
           {
            "colorbar": {
             "outlinewidth": 0,
             "ticks": ""
            },
            "colorscale": [
             [
              0,
              "#0d0887"
             ],
             [
              0.1111111111111111,
              "#46039f"
             ],
             [
              0.2222222222222222,
              "#7201a8"
             ],
             [
              0.3333333333333333,
              "#9c179e"
             ],
             [
              0.4444444444444444,
              "#bd3786"
             ],
             [
              0.5555555555555556,
              "#d8576b"
             ],
             [
              0.6666666666666666,
              "#ed7953"
             ],
             [
              0.7777777777777778,
              "#fb9f3a"
             ],
             [
              0.8888888888888888,
              "#fdca26"
             ],
             [
              1,
              "#f0f921"
             ]
            ],
            "type": "histogram2d"
           }
          ],
          "histogram2dcontour": [
           {
            "colorbar": {
             "outlinewidth": 0,
             "ticks": ""
            },
            "colorscale": [
             [
              0,
              "#0d0887"
             ],
             [
              0.1111111111111111,
              "#46039f"
             ],
             [
              0.2222222222222222,
              "#7201a8"
             ],
             [
              0.3333333333333333,
              "#9c179e"
             ],
             [
              0.4444444444444444,
              "#bd3786"
             ],
             [
              0.5555555555555556,
              "#d8576b"
             ],
             [
              0.6666666666666666,
              "#ed7953"
             ],
             [
              0.7777777777777778,
              "#fb9f3a"
             ],
             [
              0.8888888888888888,
              "#fdca26"
             ],
             [
              1,
              "#f0f921"
             ]
            ],
            "type": "histogram2dcontour"
           }
          ],
          "mesh3d": [
           {
            "colorbar": {
             "outlinewidth": 0,
             "ticks": ""
            },
            "type": "mesh3d"
           }
          ],
          "parcoords": [
           {
            "line": {
             "colorbar": {
              "outlinewidth": 0,
              "ticks": ""
             }
            },
            "type": "parcoords"
           }
          ],
          "pie": [
           {
            "automargin": true,
            "type": "pie"
           }
          ],
          "scatter": [
           {
            "fillpattern": {
             "fillmode": "overlay",
             "size": 10,
             "solidity": 0.2
            },
            "type": "scatter"
           }
          ],
          "scatter3d": [
           {
            "line": {
             "colorbar": {
              "outlinewidth": 0,
              "ticks": ""
             }
            },
            "marker": {
             "colorbar": {
              "outlinewidth": 0,
              "ticks": ""
             }
            },
            "type": "scatter3d"
           }
          ],
          "scattercarpet": [
           {
            "marker": {
             "colorbar": {
              "outlinewidth": 0,
              "ticks": ""
             }
            },
            "type": "scattercarpet"
           }
          ],
          "scattergeo": [
           {
            "marker": {
             "colorbar": {
              "outlinewidth": 0,
              "ticks": ""
             }
            },
            "type": "scattergeo"
           }
          ],
          "scattergl": [
           {
            "marker": {
             "colorbar": {
              "outlinewidth": 0,
              "ticks": ""
             }
            },
            "type": "scattergl"
           }
          ],
          "scattermapbox": [
           {
            "marker": {
             "colorbar": {
              "outlinewidth": 0,
              "ticks": ""
             }
            },
            "type": "scattermapbox"
           }
          ],
          "scatterpolar": [
           {
            "marker": {
             "colorbar": {
              "outlinewidth": 0,
              "ticks": ""
             }
            },
            "type": "scatterpolar"
           }
          ],
          "scatterpolargl": [
           {
            "marker": {
             "colorbar": {
              "outlinewidth": 0,
              "ticks": ""
             }
            },
            "type": "scatterpolargl"
           }
          ],
          "scatterternary": [
           {
            "marker": {
             "colorbar": {
              "outlinewidth": 0,
              "ticks": ""
             }
            },
            "type": "scatterternary"
           }
          ],
          "surface": [
           {
            "colorbar": {
             "outlinewidth": 0,
             "ticks": ""
            },
            "colorscale": [
             [
              0,
              "#0d0887"
             ],
             [
              0.1111111111111111,
              "#46039f"
             ],
             [
              0.2222222222222222,
              "#7201a8"
             ],
             [
              0.3333333333333333,
              "#9c179e"
             ],
             [
              0.4444444444444444,
              "#bd3786"
             ],
             [
              0.5555555555555556,
              "#d8576b"
             ],
             [
              0.6666666666666666,
              "#ed7953"
             ],
             [
              0.7777777777777778,
              "#fb9f3a"
             ],
             [
              0.8888888888888888,
              "#fdca26"
             ],
             [
              1,
              "#f0f921"
             ]
            ],
            "type": "surface"
           }
          ],
          "table": [
           {
            "cells": {
             "fill": {
              "color": "#EBF0F8"
             },
             "line": {
              "color": "white"
             }
            },
            "header": {
             "fill": {
              "color": "#C8D4E3"
             },
             "line": {
              "color": "white"
             }
            },
            "type": "table"
           }
          ]
         },
         "layout": {
          "annotationdefaults": {
           "arrowcolor": "#2a3f5f",
           "arrowhead": 0,
           "arrowwidth": 1
          },
          "autotypenumbers": "strict",
          "coloraxis": {
           "colorbar": {
            "outlinewidth": 0,
            "ticks": ""
           }
          },
          "colorscale": {
           "diverging": [
            [
             0,
             "#8e0152"
            ],
            [
             0.1,
             "#c51b7d"
            ],
            [
             0.2,
             "#de77ae"
            ],
            [
             0.3,
             "#f1b6da"
            ],
            [
             0.4,
             "#fde0ef"
            ],
            [
             0.5,
             "#f7f7f7"
            ],
            [
             0.6,
             "#e6f5d0"
            ],
            [
             0.7,
             "#b8e186"
            ],
            [
             0.8,
             "#7fbc41"
            ],
            [
             0.9,
             "#4d9221"
            ],
            [
             1,
             "#276419"
            ]
           ],
           "sequential": [
            [
             0,
             "#0d0887"
            ],
            [
             0.1111111111111111,
             "#46039f"
            ],
            [
             0.2222222222222222,
             "#7201a8"
            ],
            [
             0.3333333333333333,
             "#9c179e"
            ],
            [
             0.4444444444444444,
             "#bd3786"
            ],
            [
             0.5555555555555556,
             "#d8576b"
            ],
            [
             0.6666666666666666,
             "#ed7953"
            ],
            [
             0.7777777777777778,
             "#fb9f3a"
            ],
            [
             0.8888888888888888,
             "#fdca26"
            ],
            [
             1,
             "#f0f921"
            ]
           ],
           "sequentialminus": [
            [
             0,
             "#0d0887"
            ],
            [
             0.1111111111111111,
             "#46039f"
            ],
            [
             0.2222222222222222,
             "#7201a8"
            ],
            [
             0.3333333333333333,
             "#9c179e"
            ],
            [
             0.4444444444444444,
             "#bd3786"
            ],
            [
             0.5555555555555556,
             "#d8576b"
            ],
            [
             0.6666666666666666,
             "#ed7953"
            ],
            [
             0.7777777777777778,
             "#fb9f3a"
            ],
            [
             0.8888888888888888,
             "#fdca26"
            ],
            [
             1,
             "#f0f921"
            ]
           ]
          },
          "colorway": [
           "#636efa",
           "#EF553B",
           "#00cc96",
           "#ab63fa",
           "#FFA15A",
           "#19d3f3",
           "#FF6692",
           "#B6E880",
           "#FF97FF",
           "#FECB52"
          ],
          "font": {
           "color": "#2a3f5f"
          },
          "geo": {
           "bgcolor": "white",
           "lakecolor": "white",
           "landcolor": "#E5ECF6",
           "showlakes": true,
           "showland": true,
           "subunitcolor": "white"
          },
          "hoverlabel": {
           "align": "left"
          },
          "hovermode": "closest",
          "mapbox": {
           "style": "light"
          },
          "paper_bgcolor": "white",
          "plot_bgcolor": "#E5ECF6",
          "polar": {
           "angularaxis": {
            "gridcolor": "white",
            "linecolor": "white",
            "ticks": ""
           },
           "bgcolor": "#E5ECF6",
           "radialaxis": {
            "gridcolor": "white",
            "linecolor": "white",
            "ticks": ""
           }
          },
          "scene": {
           "xaxis": {
            "backgroundcolor": "#E5ECF6",
            "gridcolor": "white",
            "gridwidth": 2,
            "linecolor": "white",
            "showbackground": true,
            "ticks": "",
            "zerolinecolor": "white"
           },
           "yaxis": {
            "backgroundcolor": "#E5ECF6",
            "gridcolor": "white",
            "gridwidth": 2,
            "linecolor": "white",
            "showbackground": true,
            "ticks": "",
            "zerolinecolor": "white"
           },
           "zaxis": {
            "backgroundcolor": "#E5ECF6",
            "gridcolor": "white",
            "gridwidth": 2,
            "linecolor": "white",
            "showbackground": true,
            "ticks": "",
            "zerolinecolor": "white"
           }
          },
          "shapedefaults": {
           "line": {
            "color": "#2a3f5f"
           }
          },
          "ternary": {
           "aaxis": {
            "gridcolor": "white",
            "linecolor": "white",
            "ticks": ""
           },
           "baxis": {
            "gridcolor": "white",
            "linecolor": "white",
            "ticks": ""
           },
           "bgcolor": "#E5ECF6",
           "caxis": {
            "gridcolor": "white",
            "linecolor": "white",
            "ticks": ""
           }
          },
          "title": {
           "x": 0.05
          },
          "xaxis": {
           "automargin": true,
           "gridcolor": "white",
           "linecolor": "white",
           "ticks": "",
           "title": {
            "standoff": 15
           },
           "zerolinecolor": "white",
           "zerolinewidth": 2
          },
          "yaxis": {
           "automargin": true,
           "gridcolor": "white",
           "linecolor": "white",
           "ticks": "",
           "title": {
            "standoff": 15
           },
           "zerolinecolor": "white",
           "zerolinewidth": 2
          }
         }
        },
        "title": {
         "font": {
          "color": "#4D5663"
         },
         "text": "Steps vs Calories Burned"
        },
        "xaxis": {
         "autorange": true,
         "gridcolor": "#E1E5ED",
         "range": [
          -1281.9422454120188,
          21286.942245412018
         ],
         "showgrid": true,
         "tickfont": {
          "color": "#4D5663"
         },
         "title": {
          "font": {
           "color": "#4D5663"
          },
          "text": "Steps"
         },
         "type": "linear",
         "zerolinecolor": "#E1E5ED"
        },
        "yaxis": {
         "autorange": true,
         "gridcolor": "#E1E5ED",
         "range": [
          -66.40867346938776,
          666.5586734693877
         ],
         "showgrid": true,
         "tickfont": {
          "color": "#4D5663"
         },
         "title": {
          "font": {
           "color": "#4D5663"
          },
          "text": "Calories Burned"
         },
         "type": "linear",
         "zerolinecolor": "#E1E5ED"
        }
       }
      },
      "image/png": "[encoded data removed]",
      "text/html": [
       "<div>                            <div id=\"d34dde7b-9781-471f-858a-6af53b2bca11\" class=\"plotly-graph-div\" style=\"height:525px; width:100%;\"></div>            <script type=\"text/javascript\">                require([\"plotly\"], function(Plotly) {                    window.PLOTLYENV=window.PLOTLYENV || {};                                    if (document.getElementById(\"d34dde7b-9781-471f-858a-6af53b2bca11\")) {                    Plotly.newPlot(                        \"d34dde7b-9781-471f-858a-6af53b2bca11\",                        [{\"line\":{\"color\":\"rgba(255, 153, 51, 1.0)\",\"dash\":\"solid\",\"shape\":\"linear\",\"width\":1.3},\"marker\":{\"size\":12,\"symbol\":\"circle\"},\"mode\":\"markers\",\"name\":\"calories_burned\",\"text\":\"\",\"x\":[4147,323,6622,11136,2718,4972,15271,17290,1042,6818,13141,5046,11615,4301,8655,14113,15435,18451,11850,1075,5340,13972,17002,7786,10776,15203,2644,1905,7467,15005,1811,17812,1193,14118,17536,8159,16123,5606,6292,7740,8678,5861,10948,11079,14928,19940,10598,17134,3276,17751,6679,8929,329,17094,1964,19702,13813,6169,11000,6683,843,5397,12976,2169,7287,10720,765,18989,3105,7445,15063,1505,18313,13681,17964,8497,17993,19143,19529,1683,14008,10941,6220,19260,4237,16177,5179,17215,15893,8761,14137,19389,12523,2005,18641,15534,11182,5966,16126,7321,15413,19181,1462,8899,2576,5636,12806,4016,3969,524,2119,10678,4053,3187,19309,10368,8613,10193,5357,2382,6208,10549,816,18194,8905,18329,7115,4029,16227,7714,2080,11990,15730,8853,15433,17380,470,6791,15059,13822,7398,11801,4896,14635,630,4804,18922,3859,14219,11151,6482,1349,5071,817,4797,4487,976,10183,16103,11848,10499,12612,12150,16810,12721,6565,9184,3394,3476,5950,5333,16308,12335,7684,13272,7289,2646,521,232,6205,7532,7855,17138,7286,11806,3117,8040,7129,12807,19162,13069,14360,18702,12122,7827,13114,7883,13923,19120,793,18102,18871,14426,6793,18189,10936,7469,5498,15316,7440,4861,2494,493,12956,14418,7258,17418,3869,18691,783,12555,5121,9706,18841,15995,9767,11481,12667,18165,3232,7774,19292,16195,13617,15572,17150,26,18671,10944,2464,9972,8087,2432,7115,17953,19949,15786,15322,15592,5045,8185,18655,5195,12084,19979,12431,4017,3490,5849,14242,18018,11804,2658,12210,11362,16404,163,2258,14914,2440,6159,18432,19969,19915,16857,18571,14952,2012,13059,18684,1067,3946,1342,11461,8548,160,16191,18407,2898,13411,6433,17380,1972,6779,5637,15793,8552,10243,7169,1205,15006,13091,1485,4180,1021,5153,13067,14657,574,13393,12472,6941,17999,13106,11670,15023,11435,1406,3234,14731,2493,11862,11258,18581,19683,11675,16966,13790,13855,18869,5703,14365,15017,17390,12536,13046,14379,13295,10450,11774,11671,11984,18899,6519,3732,6832,5823,6218,16387,16702,8188,3943,8272,560,7754,15725,7493,4242,11504,11824,9377,7106,8191,15818,4356,7915,16316,1376,1171,6989,6128,17183,4557,11722,4480,8798,6479,6070,17957,4070,18052,6941,5480,3328,12335,12049,19651,2702,7973,18045,2769,17762,18693,2323,18027,19327,10012,19113,411,57,11795,13696,7493,10748,19336,16810,910,3210,16172,5756,19860,8367,1393,4770,14782,15792,19543,14136,2458,14194,8033,18361,14937,11458,9795,10048,16895,8655,14176,5759,16031,14360,16562,4010,16099,18061,15558,16481,18653,13572,2259,8290,2275,11627,4099,1554,10293,18442,2797,9935,18276,6585,4477,13507,2100,15149,13226,11041,11041,11390,8403,15842,18668,12441,16245,10570,10859,2390,11381,15294,18728,10965,125,8721,5084,7573,6259,9488,5920,8688,16348,14058,19287,16796,13030,10010,14891,3269,13973,3240,3236,19451,16168,4004,19679,17376,6917,12247,8295,5254],\"y\":[124.41,9.69,198.66,334.08,81.54,149.16,458.13,518.7,31.26,204.54,394.23,151.38,348.45,129.03,259.65,423.39,463.05,553.53,355.5,32.25,160.2,419.16,510.06,233.58,323.28,456.09,79.32,57.15,224.01,450.15,54.33,534.36,35.79,423.54,526.08,244.77,483.69,168.18,188.76,232.2,260.34,175.83,328.44,332.37,447.84,598.2,317.94,514.02,98.28,532.53,200.37,267.87,9.87,512.82,58.92,591.06,414.39,185.07,330.0,200.49,25.29,161.91,389.28,65.07,218.61,321.6,22.95,569.67,93.15,223.35,451.89,45.15,549.39,410.43,538.92,254.91,539.79,574.29,585.87,50.49,420.24,328.23,186.6,577.8,127.11,485.31,155.37,516.45,476.79,262.83,424.11,581.67,375.69,60.15,559.23,466.02,335.46,178.98,483.78,219.63,462.39,575.43,43.86,266.97,77.28,169.08,384.18,120.48,119.07,15.72,63.57,320.34,121.59,95.61,579.27,311.04,258.39,305.79,160.71,71.46,186.24,316.47,24.48,545.82,267.15,549.87,213.45,120.87,486.81,231.42,62.4,359.7,471.9,265.59,462.99,521.4,14.1,203.73,451.77,414.66,221.94,354.03,146.88,439.05,18.9,144.12,567.66,115.77,426.57,334.53,194.46,40.47,152.13,24.51,143.91,134.61,29.28,305.49,483.09,355.44,314.97,378.36,364.5,504.3,381.63,196.95,275.52,101.82,104.28,178.5,159.99,489.24,370.05,230.52,398.16,218.67,79.38,15.63,6.96,186.15,225.96,235.65,514.14,218.58,354.18,93.51,241.2,213.87,384.21,574.86,392.07,430.8,561.06,363.66,234.81,393.42,236.49,417.69,573.6,23.79,543.06,566.13,432.78,203.79,545.67,328.08,224.07,164.94,459.48,223.2,145.83,74.82,14.79,388.68,432.54,217.74,522.54,116.07,560.73,23.49,376.65,153.63,291.18,565.23,479.85,293.01,344.43,380.01,544.95,96.96,233.22,578.76,485.85,408.51,467.16,514.5,0.78,560.13,328.32,73.92,299.16,242.61,72.96,213.45,538.59,598.47,473.58,459.66,467.76,151.35,245.55,559.65,155.85,362.52,599.37,372.93,120.51,104.7,175.47,427.26,540.54,354.12,79.74,366.3,340.86,492.12,4.89,67.74,447.42,73.2,184.77,552.96,599.07,597.45,505.71,557.13,448.56,60.36,391.77,560.52,32.01,118.38,40.26,343.83,256.44,4.8,485.73,552.21,86.94,402.33,192.99,521.4,59.16,203.37,169.11,473.79,256.56,307.29,215.07,36.15,450.18,392.73,44.55,125.4,30.63,154.59,392.01,439.71,17.22,401.79,374.16,208.23,539.97,393.18,350.1,450.69,343.05,42.18,97.02,441.93,74.79,355.86,337.74,557.43,590.49,350.25,508.98,413.7,415.65,566.07,171.09,430.95,450.51,521.7,376.08,391.38,431.37,398.85,313.5,353.22,350.13,359.52,566.97,195.57,111.96,204.96,174.69,186.54,491.61,501.06,245.64,118.29,248.16,16.8,232.62,471.75,224.79,127.26,345.12,354.72,281.31,213.18,245.73,474.54,130.68,237.45,489.48,41.28,35.13,209.67,183.84,515.49,136.71,351.66,134.4,263.94,194.37,182.1,538.71,122.1,541.56,208.23,164.4,99.84,370.05,361.47,589.53,81.06,239.19,541.35,83.07,532.86,560.79,69.69,540.81,579.81,300.36,573.39,12.33,1.71,353.85,410.88,224.79,322.44,580.08,504.3,27.3,96.3,485.16,172.68,595.8,251.01,41.79,143.1,443.46,473.76,586.29,424.08,73.74,425.82,240.99,550.83,448.11,343.74,293.85,301.44,506.85,259.65,425.28,172.77,480.93,430.8,496.86,120.3,482.97,541.83,466.74,494.43,559.59,407.16,67.77,248.7,68.25,348.81,122.97,46.62,308.79,553.26,83.91,298.05,548.28,197.55,134.31,405.21,63.0,454.47,396.78,331.23,331.23,341.7,252.09,475.26,560.04,373.23,487.35,317.1,325.77,71.7,341.43,458.82,561.84,328.95,3.75,261.63,152.52,227.19,187.77,284.64,177.6,260.64,490.44,421.74,578.61,503.88,390.9,300.3,446.73,98.07,419.19,97.2,97.08,583.53,485.04,120.12,590.37,521.28,207.51,367.41,248.85,157.62],\"type\":\"scatter\"}],                        {\"legend\":{\"bgcolor\":\"#F5F6F9\",\"font\":{\"color\":\"#4D5663\"}},\"paper_bgcolor\":\"#F5F6F9\",\"plot_bgcolor\":\"#F5F6F9\",\"title\":{\"text\":\"Steps vs Calories Burned\",\"font\":{\"color\":\"#4D5663\"}},\"xaxis\":{\"gridcolor\":\"#E1E5ED\",\"showgrid\":true,\"tickfont\":{\"color\":\"#4D5663\"},\"title\":{\"text\":\"Steps\",\"font\":{\"color\":\"#4D5663\"}},\"zerolinecolor\":\"#E1E5ED\"},\"yaxis\":{\"gridcolor\":\"#E1E5ED\",\"showgrid\":true,\"tickfont\":{\"color\":\"#4D5663\"},\"title\":{\"text\":\"Calories Burned\",\"font\":{\"color\":\"#4D5663\"}},\"zerolinecolor\":\"#E1E5ED\"},\"template\":{\"data\":{\"histogram2dcontour\":[{\"type\":\"histogram2dcontour\",\"colorbar\":{\"outlinewidth\":0,\"ticks\":\"\"},\"colorscale\":[[0.0,\"#0d0887\"],[0.1111111111111111,\"#46039f\"],[0.2222222222222222,\"#7201a8\"],[0.3333333333333333,\"#9c179e\"],[0.4444444444444444,\"#bd3786\"],[0.5555555555555556,\"#d8576b\"],[0.6666666666666666,\"#ed7953\"],[0.7777777777777778,\"#fb9f3a\"],[0.8888888888888888,\"#fdca26\"],[1.0,\"#f0f921\"]]}],\"choropleth\":[{\"type\":\"choropleth\",\"colorbar\":{\"outlinewidth\":0,\"ticks\":\"\"}}],\"histogram2d\":[{\"type\":\"histogram2d\",\"colorbar\":{\"outlinewidth\":0,\"ticks\":\"\"},\"colorscale\":[[0.0,\"#0d0887\"],[0.1111111111111111,\"#46039f\"],[0.2222222222222222,\"#7201a8\"],[0.3333333333333333,\"#9c179e\"],[0.4444444444444444,\"#bd3786\"],[0.5555555555555556,\"#d8576b\"],[0.6666666666666666,\"#ed7953\"],[0.7777777777777778,\"#fb9f3a\"],[0.8888888888888888,\"#fdca26\"],[1.0,\"#f0f921\"]]}],\"heatmap\":[{\"type\":\"heatmap\",\"colorbar\":{\"outlinewidth\":0,\"ticks\":\"\"},\"colorscale\":[[0.0,\"#0d0887\"],[0.1111111111111111,\"#46039f\"],[0.2222222222222222,\"#7201a8\"],[0.3333333333333333,\"#9c179e\"],[0.4444444444444444,\"#bd3786\"],[0.5555555555555556,\"#d8576b\"],[0.6666666666666666,\"#ed7953\"],[0.7777777777777778,\"#fb9f3a\"],[0.8888888888888888,\"#fdca26\"],[1.0,\"#f0f921\"]]}],\"heatmapgl\":[{\"type\":\"heatmapgl\",\"colorbar\":{\"outlinewidth\":0,\"ticks\":\"\"},\"colorscale\":[[0.0,\"#0d0887\"],[0.1111111111111111,\"#46039f\"],[0.2222222222222222,\"#7201a8\"],[0.3333333333333333,\"#9c179e\"],[0.4444444444444444,\"#bd3786\"],[0.5555555555555556,\"#d8576b\"],[0.6666666666666666,\"#ed7953\"],[0.7777777777777778,\"#fb9f3a\"],[0.8888888888888888,\"#fdca26\"],[1.0,\"#f0f921\"]]}],\"contourcarpet\":[{\"type\":\"contourcarpet\",\"colorbar\":{\"outlinewidth\":0,\"ticks\":\"\"}}],\"contour\":[{\"type\":\"contour\",\"colorbar\":{\"outlinewidth\":0,\"ticks\":\"\"},\"colorscale\":[[0.0,\"#0d0887\"],[0.1111111111111111,\"#46039f\"],[0.2222222222222222,\"#7201a8\"],[0.3333333333333333,\"#9c179e\"],[0.4444444444444444,\"#bd3786\"],[0.5555555555555556,\"#d8576b\"],[0.6666666666666666,\"#ed7953\"],[0.7777777777777778,\"#fb9f3a\"],[0.8888888888888888,\"#fdca26\"],[1.0,\"#f0f921\"]]}],\"surface\":[{\"type\":\"surface\",\"colorbar\":{\"outlinewidth\":0,\"ticks\":\"\"},\"colorscale\":[[0.0,\"#0d0887\"],[0.1111111111111111,\"#46039f\"],[0.2222222222222222,\"#7201a8\"],[0.3333333333333333,\"#9c179e\"],[0.4444444444444444,\"#bd3786\"],[0.5555555555555556,\"#d8576b\"],[0.6666666666666666,\"#ed7953\"],[0.7777777777777778,\"#fb9f3a\"],[0.8888888888888888,\"#fdca26\"],[1.0,\"#f0f921\"]]}],\"mesh3d\":[{\"type\":\"mesh3d\",\"colorbar\":{\"outlinewidth\":0,\"ticks\":\"\"}}],\"scatter\":[{\"fillpattern\":{\"fillmode\":\"overlay\",\"size\":10,\"solidity\":0.2},\"type\":\"scatter\"}],\"parcoords\":[{\"type\":\"parcoords\",\"line\":{\"colorbar\":{\"outlinewidth\":0,\"ticks\":\"\"}}}],\"scatterpolargl\":[{\"type\":\"scatterpolargl\",\"marker\":{\"colorbar\":{\"outlinewidth\":0,\"ticks\":\"\"}}}],\"bar\":[{\"error_x\":{\"color\":\"#2a3f5f\"},\"error_y\":{\"color\":\"#2a3f5f\"},\"marker\":{\"line\":{\"color\":\"#E5ECF6\",\"width\":0.5},\"pattern\":{\"fillmode\":\"overlay\",\"size\":10,\"solidity\":0.2}},\"type\":\"bar\"}],\"scattergeo\":[{\"type\":\"scattergeo\",\"marker\":{\"colorbar\":{\"outlinewidth\":0,\"ticks\":\"\"}}}],\"scatterpolar\":[{\"type\":\"scatterpolar\",\"marker\":{\"colorbar\":{\"outlinewidth\":0,\"ticks\":\"\"}}}],\"histogram\":[{\"marker\":{\"pattern\":{\"fillmode\":\"overlay\",\"size\":10,\"solidity\":0.2}},\"type\":\"histogram\"}],\"scattergl\":[{\"type\":\"scattergl\",\"marker\":{\"colorbar\":{\"outlinewidth\":0,\"ticks\":\"\"}}}],\"scatter3d\":[{\"type\":\"scatter3d\",\"line\":{\"colorbar\":{\"outlinewidth\":0,\"ticks\":\"\"}},\"marker\":{\"colorbar\":{\"outlinewidth\":0,\"ticks\":\"\"}}}],\"scattermapbox\":[{\"type\":\"scattermapbox\",\"marker\":{\"colorbar\":{\"outlinewidth\":0,\"ticks\":\"\"}}}],\"scatterternary\":[{\"type\":\"scatterternary\",\"marker\":{\"colorbar\":{\"outlinewidth\":0,\"ticks\":\"\"}}}],\"scattercarpet\":[{\"type\":\"scattercarpet\",\"marker\":{\"colorbar\":{\"outlinewidth\":0,\"ticks\":\"\"}}}],\"carpet\":[{\"aaxis\":{\"endlinecolor\":\"#2a3f5f\",\"gridcolor\":\"white\",\"linecolor\":\"white\",\"minorgridcolor\":\"white\",\"startlinecolor\":\"#2a3f5f\"},\"baxis\":{\"endlinecolor\":\"#2a3f5f\",\"gridcolor\":\"white\",\"linecolor\":\"white\",\"minorgridcolor\":\"white\",\"startlinecolor\":\"#2a3f5f\"},\"type\":\"carpet\"}],\"table\":[{\"cells\":{\"fill\":{\"color\":\"#EBF0F8\"},\"line\":{\"color\":\"white\"}},\"header\":{\"fill\":{\"color\":\"#C8D4E3\"},\"line\":{\"color\":\"white\"}},\"type\":\"table\"}],\"barpolar\":[{\"marker\":{\"line\":{\"color\":\"#E5ECF6\",\"width\":0.5},\"pattern\":{\"fillmode\":\"overlay\",\"size\":10,\"solidity\":0.2}},\"type\":\"barpolar\"}],\"pie\":[{\"automargin\":true,\"type\":\"pie\"}]},\"layout\":{\"autotypenumbers\":\"strict\",\"colorway\":[\"#636efa\",\"#EF553B\",\"#00cc96\",\"#ab63fa\",\"#FFA15A\",\"#19d3f3\",\"#FF6692\",\"#B6E880\",\"#FF97FF\",\"#FECB52\"],\"font\":{\"color\":\"#2a3f5f\"},\"hovermode\":\"closest\",\"hoverlabel\":{\"align\":\"left\"},\"paper_bgcolor\":\"white\",\"plot_bgcolor\":\"#E5ECF6\",\"polar\":{\"bgcolor\":\"#E5ECF6\",\"angularaxis\":{\"gridcolor\":\"white\",\"linecolor\":\"white\",\"ticks\":\"\"},\"radialaxis\":{\"gridcolor\":\"white\",\"linecolor\":\"white\",\"ticks\":\"\"}},\"ternary\":{\"bgcolor\":\"#E5ECF6\",\"aaxis\":{\"gridcolor\":\"white\",\"linecolor\":\"white\",\"ticks\":\"\"},\"baxis\":{\"gridcolor\":\"white\",\"linecolor\":\"white\",\"ticks\":\"\"},\"caxis\":{\"gridcolor\":\"white\",\"linecolor\":\"white\",\"ticks\":\"\"}},\"coloraxis\":{\"colorbar\":{\"outlinewidth\":0,\"ticks\":\"\"}},\"colorscale\":{\"sequential\":[[0.0,\"#0d0887\"],[0.1111111111111111,\"#46039f\"],[0.2222222222222222,\"#7201a8\"],[0.3333333333333333,\"#9c179e\"],[0.4444444444444444,\"#bd3786\"],[0.5555555555555556,\"#d8576b\"],[0.6666666666666666,\"#ed7953\"],[0.7777777777777778,\"#fb9f3a\"],[0.8888888888888888,\"#fdca26\"],[1.0,\"#f0f921\"]],\"sequentialminus\":[[0.0,\"#0d0887\"],[0.1111111111111111,\"#46039f\"],[0.2222222222222222,\"#7201a8\"],[0.3333333333333333,\"#9c179e\"],[0.4444444444444444,\"#bd3786\"],[0.5555555555555556,\"#d8576b\"],[0.6666666666666666,\"#ed7953\"],[0.7777777777777778,\"#fb9f3a\"],[0.8888888888888888,\"#fdca26\"],[1.0,\"#f0f921\"]],\"diverging\":[[0,\"#8e0152\"],[0.1,\"#c51b7d\"],[0.2,\"#de77ae\"],[0.3,\"#f1b6da\"],[0.4,\"#fde0ef\"],[0.5,\"#f7f7f7\"],[0.6,\"#e6f5d0\"],[0.7,\"#b8e186\"],[0.8,\"#7fbc41\"],[0.9,\"#4d9221\"],[1,\"#276419\"]]},\"xaxis\":{\"gridcolor\":\"white\",\"linecolor\":\"white\",\"ticks\":\"\",\"title\":{\"standoff\":15},\"zerolinecolor\":\"white\",\"automargin\":true,\"zerolinewidth\":2},\"yaxis\":{\"gridcolor\":\"white\",\"linecolor\":\"white\",\"ticks\":\"\",\"title\":{\"standoff\":15},\"zerolinecolor\":\"white\",\"automargin\":true,\"zerolinewidth\":2},\"scene\":{\"xaxis\":{\"backgroundcolor\":\"#E5ECF6\",\"gridcolor\":\"white\",\"linecolor\":\"white\",\"showbackground\":true,\"ticks\":\"\",\"zerolinecolor\":\"white\",\"gridwidth\":2},\"yaxis\":{\"backgroundcolor\":\"#E5ECF6\",\"gridcolor\":\"white\",\"linecolor\":\"white\",\"showbackground\":true,\"ticks\":\"\",\"zerolinecolor\":\"white\",\"gridwidth\":2},\"zaxis\":{\"backgroundcolor\":\"#E5ECF6\",\"gridcolor\":\"white\",\"linecolor\":\"white\",\"showbackground\":true,\"ticks\":\"\",\"zerolinecolor\":\"white\",\"gridwidth\":2}},\"shapedefaults\":{\"line\":{\"color\":\"#2a3f5f\"}},\"annotationdefaults\":{\"arrowcolor\":\"#2a3f5f\",\"arrowhead\":0,\"arrowwidth\":1},\"geo\":{\"bgcolor\":\"white\",\"landcolor\":\"#E5ECF6\",\"subunitcolor\":\"white\",\"showland\":true,\"showlakes\":true,\"lakecolor\":\"white\"},\"title\":{\"x\":0.05},\"mapbox\":{\"style\":\"light\"}}}},                        {\"responsive\": true}                    ).then(function(){\n",
       "                            \n",
       "var gd = document.getElementById('d34dde7b-9781-471f-858a-6af53b2bca11');\n",
       "var x = new MutationObserver(function (mutations, observer) {{\n",
       "        var display = window.getComputedStyle(gd).display;\n",
       "        if (!display || display === 'none') {{\n",
       "            console.log([gd, 'removed!']);\n",
       "            Plotly.purge(gd);\n",
       "            observer.disconnect();\n",
       "        }}\n",
       "}});\n",
       "\n",
       "// Listen for the removal of the full notebook cells\n",
       "var notebookContainer = gd.closest('#notebook-container');\n",
       "if (notebookContainer) {{\n",
       "    x.observe(notebookContainer, {childList: true});\n",
       "}}\n",
       "\n",
       "// Listen for the clearing of the current output cell\n",
       "var outputEl = gd.closest('.output');\n",
       "if (outputEl) {{\n",
       "    x.observe(outputEl, {childList: true});\n",
       "}}\n",
       "\n",
       "                        })                };                });            </script>        </div>"
      ]
     },
     "metadata": {},
     "output_type": "display_data"
    }
   ],
   "source": [
    "df.iplot(kind='scatter',x='steps',y='calories_burned',mode='markers',title='Steps vs Calories Burned',xTitle='Steps',yTitle='Calories Burned',asFigure=True)"
   ]
  },
  {
   "cell_type": "markdown",
   "id": "4ca4add8-591d-4d1e-9b48-e1526ca0e180",
   "metadata": {},
   "source": [
    "## Heatmap (Correlation Matrix)"
   ]
  },
  {
   "cell_type": "code",
   "execution_count": 92,
   "id": "bbcc5898-feff-4187-b7f7-44b54541cf8d",
   "metadata": {},
   "outputs": [
    {
     "data": {
      "text/html": [
       "<div>\n",
       "<style scoped>\n",
       "    .dataframe tbody tr th:only-of-type {\n",
       "        vertical-align: middle;\n",
       "    }\n",
       "\n",
       "    .dataframe tbody tr th {\n",
       "        vertical-align: top;\n",
       "    }\n",
       "\n",
       "    .dataframe thead th {\n",
       "        text-align: right;\n",
       "    }\n",
       "</style>\n",
       "<table border=\"1\" class=\"dataframe\">\n",
       "  <thead>\n",
       "    <tr style=\"text-align: right;\">\n",
       "      <th></th>\n",
       "      <th>date</th>\n",
       "      <th>steps</th>\n",
       "      <th>distance_km</th>\n",
       "      <th>calories_burned</th>\n",
       "      <th>active_minutes</th>\n",
       "      <th>sleep_hours</th>\n",
       "      <th>water_intake_liters</th>\n",
       "      <th>mood</th>\n",
       "    </tr>\n",
       "  </thead>\n",
       "  <tbody>\n",
       "    <tr>\n",
       "      <th>0</th>\n",
       "      <td>10</td>\n",
       "      <td>4147</td>\n",
       "      <td>3.11</td>\n",
       "      <td>124.41</td>\n",
       "      <td>41</td>\n",
       "      <td>10.5</td>\n",
       "      <td>3.77</td>\n",
       "      <td>stressed</td>\n",
       "    </tr>\n",
       "    <tr>\n",
       "      <th>1</th>\n",
       "      <td>6</td>\n",
       "      <td>323</td>\n",
       "      <td>0.24</td>\n",
       "      <td>9.69</td>\n",
       "      <td>3</td>\n",
       "      <td>6.0</td>\n",
       "      <td>1.90</td>\n",
       "      <td>sad</td>\n",
       "    </tr>\n",
       "    <tr>\n",
       "      <th>2</th>\n",
       "      <td>1</td>\n",
       "      <td>6622</td>\n",
       "      <td>4.97</td>\n",
       "      <td>198.66</td>\n",
       "      <td>66</td>\n",
       "      <td>6.0</td>\n",
       "      <td>4.48</td>\n",
       "      <td>sad</td>\n",
       "    </tr>\n",
       "    <tr>\n",
       "      <th>3</th>\n",
       "      <td>3</td>\n",
       "      <td>11136</td>\n",
       "      <td>8.35</td>\n",
       "      <td>334.08</td>\n",
       "      <td>111</td>\n",
       "      <td>8.0</td>\n",
       "      <td>1.08</td>\n",
       "      <td>tired</td>\n",
       "    </tr>\n",
       "    <tr>\n",
       "      <th>4</th>\n",
       "      <td>5</td>\n",
       "      <td>2718</td>\n",
       "      <td>2.04</td>\n",
       "      <td>81.54</td>\n",
       "      <td>27</td>\n",
       "      <td>4.9</td>\n",
       "      <td>1.00</td>\n",
       "      <td>tired</td>\n",
       "    </tr>\n",
       "  </tbody>\n",
       "</table>\n",
       "</div>"
      ],
      "text/plain": [
       "   date  steps  distance_km  calories_burned  active_minutes  sleep_hours  \\\n",
       "0    10   4147         3.11           124.41              41         10.5   \n",
       "1     6    323         0.24             9.69               3          6.0   \n",
       "2     1   6622         4.97           198.66              66          6.0   \n",
       "3     3  11136         8.35           334.08             111          8.0   \n",
       "4     5   2718         2.04            81.54              27          4.9   \n",
       "\n",
       "   water_intake_liters      mood  \n",
       "0                 3.77  stressed  \n",
       "1                 1.90       sad  \n",
       "2                 4.48       sad  \n",
       "3                 1.08     tired  \n",
       "4                 1.00     tired  "
      ]
     },
     "execution_count": 92,
     "metadata": {},
     "output_type": "execute_result"
    }
   ],
   "source": [
    "df.head()"
   ]
  },
  {
   "cell_type": "code",
   "execution_count": 96,
   "id": "45b67fa5-b243-4848-958f-064b5901f2f6",
   "metadata": {},
   "outputs": [
    {
     "data": {
      "text/html": [
       "<div>\n",
       "<style scoped>\n",
       "    .dataframe tbody tr th:only-of-type {\n",
       "        vertical-align: middle;\n",
       "    }\n",
       "\n",
       "    .dataframe tbody tr th {\n",
       "        vertical-align: top;\n",
       "    }\n",
       "\n",
       "    .dataframe thead th {\n",
       "        text-align: right;\n",
       "    }\n",
       "</style>\n",
       "<table border=\"1\" class=\"dataframe\">\n",
       "  <thead>\n",
       "    <tr style=\"text-align: right;\">\n",
       "      <th></th>\n",
       "      <th>steps</th>\n",
       "      <th>distance_km</th>\n",
       "      <th>calories_burned</th>\n",
       "      <th>active_minutes</th>\n",
       "      <th>sleep_hours</th>\n",
       "      <th>water_intake_liters</th>\n",
       "    </tr>\n",
       "  </thead>\n",
       "  <tbody>\n",
       "    <tr>\n",
       "      <th>steps</th>\n",
       "      <td>1.000000</td>\n",
       "      <td>1.000000</td>\n",
       "      <td>1.000000</td>\n",
       "      <td>0.999988</td>\n",
       "      <td>-0.032682</td>\n",
       "      <td>0.047146</td>\n",
       "    </tr>\n",
       "    <tr>\n",
       "      <th>distance_km</th>\n",
       "      <td>1.000000</td>\n",
       "      <td>1.000000</td>\n",
       "      <td>1.000000</td>\n",
       "      <td>0.999988</td>\n",
       "      <td>-0.032672</td>\n",
       "      <td>0.047102</td>\n",
       "    </tr>\n",
       "    <tr>\n",
       "      <th>calories_burned</th>\n",
       "      <td>1.000000</td>\n",
       "      <td>1.000000</td>\n",
       "      <td>1.000000</td>\n",
       "      <td>0.999988</td>\n",
       "      <td>-0.032682</td>\n",
       "      <td>0.047146</td>\n",
       "    </tr>\n",
       "    <tr>\n",
       "      <th>active_minutes</th>\n",
       "      <td>0.999988</td>\n",
       "      <td>0.999988</td>\n",
       "      <td>0.999988</td>\n",
       "      <td>1.000000</td>\n",
       "      <td>-0.032870</td>\n",
       "      <td>0.047039</td>\n",
       "    </tr>\n",
       "    <tr>\n",
       "      <th>sleep_hours</th>\n",
       "      <td>-0.032682</td>\n",
       "      <td>-0.032672</td>\n",
       "      <td>-0.032682</td>\n",
       "      <td>-0.032870</td>\n",
       "      <td>1.000000</td>\n",
       "      <td>-0.019586</td>\n",
       "    </tr>\n",
       "    <tr>\n",
       "      <th>water_intake_liters</th>\n",
       "      <td>0.047146</td>\n",
       "      <td>0.047102</td>\n",
       "      <td>0.047146</td>\n",
       "      <td>0.047039</td>\n",
       "      <td>-0.019586</td>\n",
       "      <td>1.000000</td>\n",
       "    </tr>\n",
       "  </tbody>\n",
       "</table>\n",
       "</div>"
      ],
      "text/plain": [
       "                        steps  distance_km  calories_burned  active_minutes  \\\n",
       "steps                1.000000     1.000000         1.000000        0.999988   \n",
       "distance_km          1.000000     1.000000         1.000000        0.999988   \n",
       "calories_burned      1.000000     1.000000         1.000000        0.999988   \n",
       "active_minutes       0.999988     0.999988         0.999988        1.000000   \n",
       "sleep_hours         -0.032682    -0.032672        -0.032682       -0.032870   \n",
       "water_intake_liters  0.047146     0.047102         0.047146        0.047039   \n",
       "\n",
       "                     sleep_hours  water_intake_liters  \n",
       "steps                  -0.032682             0.047146  \n",
       "distance_km            -0.032672             0.047102  \n",
       "calories_burned        -0.032682             0.047146  \n",
       "active_minutes         -0.032870             0.047039  \n",
       "sleep_hours             1.000000            -0.019586  \n",
       "water_intake_liters    -0.019586             1.000000  "
      ]
     },
     "execution_count": 96,
     "metadata": {},
     "output_type": "execute_result"
    }
   ],
   "source": [
    "corr=df[['steps','distance_km','calories_burned','active_minutes','sleep_hours','water_intake_liters']].corr()\n",
    "corr"
   ]
  },
  {
   "cell_type": "code",
   "execution_count": 100,
   "id": "985786ee-9900-4628-a9d9-b3efb210965d",
   "metadata": {},
   "outputs": [
    {
     "data": {
      "application/vnd.plotly.v1+json": {
       "config": {
        "plotlyServerURL": "https://plot.ly"
       },
       "data": [
        {
         "colorscale": [
          [
           0,
           "rgb(255, 153, 51)"
          ],
          [
           0.1111111111111111,
           "rgb(55, 128, 191)"
          ],
          [
           0.2222222222222222,
           "rgb(50, 171, 96)"
          ],
          [
           0.3333333333333333,
           "rgb(128, 0, 128)"
          ],
          [
           0.4444444444444444,
           "rgb(219, 64, 82)"
          ],
          [
           0.5555555555555556,
           "rgb(0, 128, 128)"
          ],
          [
           0.6666666666666666,
           "rgb(255, 255, 51)"
          ],
          [
           0.7777777777777778,
           "rgb(128, 128, 0)"
          ],
          [
           0.8888888888888888,
           "rgb(251, 128, 114)"
          ],
          [
           1,
           "rgb(128, 177, 211)"
          ]
         ],
         "type": "heatmap",
         "x": [
          "steps",
          "distance_km",
          "calories_burned",
          "active_minutes",
          "sleep_hours",
          "water_intake_liters"
         ],
         "y": [
          "steps",
          "distance_km",
          "calories_burned",
          "active_minutes",
          "sleep_hours",
          "water_intake_liters"
         ],
         "z": [
          [
           1,
           0.9999997782543489,
           1.0000000000000007,
           0.9999880821793968,
           -0.03268232316214861,
           0.04714637392539199
          ],
          [
           0.9999997782543489,
           1,
           0.9999997782543508,
           0.9999877683150606,
           -0.032672193286831144,
           0.047101765781619245
          ],
          [
           1.0000000000000007,
           0.9999997782543508,
           1,
           0.9999880821793979,
           -0.03268232316214849,
           0.047146373925392025
          ],
          [
           0.9999880821793968,
           0.9999877683150606,
           0.9999880821793979,
           1,
           -0.03286978790695712,
           0.04703894819957166
          ],
          [
           -0.03268232316214861,
           -0.032672193286831144,
           -0.03268232316214849,
           -0.03286978790695712,
           1,
           -0.019586459075697015
          ],
          [
           0.04714637392539199,
           0.047101765781619245,
           0.047146373925392025,
           0.04703894819957166,
           -0.019586459075697015,
           1
          ]
         ],
         "zmax": 1.0000000000000007,
         "zmin": -0.03286978790695712
        }
       ],
       "layout": {
        "autosize": true,
        "legend": {
         "bgcolor": "#F5F6F9",
         "font": {
          "color": "#4D5663"
         }
        },
        "paper_bgcolor": "#F5F6F9",
        "plot_bgcolor": "#F5F6F9",
        "template": {
         "data": {
          "bar": [
           {
            "error_x": {
             "color": "#2a3f5f"
            },
            "error_y": {
             "color": "#2a3f5f"
            },
            "marker": {
             "line": {
              "color": "#E5ECF6",
              "width": 0.5
             },
             "pattern": {
              "fillmode": "overlay",
              "size": 10,
              "solidity": 0.2
             }
            },
            "type": "bar"
           }
          ],
          "barpolar": [
           {
            "marker": {
             "line": {
              "color": "#E5ECF6",
              "width": 0.5
             },
             "pattern": {
              "fillmode": "overlay",
              "size": 10,
              "solidity": 0.2
             }
            },
            "type": "barpolar"
           }
          ],
          "carpet": [
           {
            "aaxis": {
             "endlinecolor": "#2a3f5f",
             "gridcolor": "white",
             "linecolor": "white",
             "minorgridcolor": "white",
             "startlinecolor": "#2a3f5f"
            },
            "baxis": {
             "endlinecolor": "#2a3f5f",
             "gridcolor": "white",
             "linecolor": "white",
             "minorgridcolor": "white",
             "startlinecolor": "#2a3f5f"
            },
            "type": "carpet"
           }
          ],
          "choropleth": [
           {
            "colorbar": {
             "outlinewidth": 0,
             "ticks": ""
            },
            "type": "choropleth"
           }
          ],
          "contour": [
           {
            "colorbar": {
             "outlinewidth": 0,
             "ticks": ""
            },
            "colorscale": [
             [
              0,
              "#0d0887"
             ],
             [
              0.1111111111111111,
              "#46039f"
             ],
             [
              0.2222222222222222,
              "#7201a8"
             ],
             [
              0.3333333333333333,
              "#9c179e"
             ],
             [
              0.4444444444444444,
              "#bd3786"
             ],
             [
              0.5555555555555556,
              "#d8576b"
             ],
             [
              0.6666666666666666,
              "#ed7953"
             ],
             [
              0.7777777777777778,
              "#fb9f3a"
             ],
             [
              0.8888888888888888,
              "#fdca26"
             ],
             [
              1,
              "#f0f921"
             ]
            ],
            "type": "contour"
           }
          ],
          "contourcarpet": [
           {
            "colorbar": {
             "outlinewidth": 0,
             "ticks": ""
            },
            "type": "contourcarpet"
           }
          ],
          "heatmap": [
           {
            "colorbar": {
             "outlinewidth": 0,
             "ticks": ""
            },
            "colorscale": [
             [
              0,
              "#0d0887"
             ],
             [
              0.1111111111111111,
              "#46039f"
             ],
             [
              0.2222222222222222,
              "#7201a8"
             ],
             [
              0.3333333333333333,
              "#9c179e"
             ],
             [
              0.4444444444444444,
              "#bd3786"
             ],
             [
              0.5555555555555556,
              "#d8576b"
             ],
             [
              0.6666666666666666,
              "#ed7953"
             ],
             [
              0.7777777777777778,
              "#fb9f3a"
             ],
             [
              0.8888888888888888,
              "#fdca26"
             ],
             [
              1,
              "#f0f921"
             ]
            ],
            "type": "heatmap"
           }
          ],
          "heatmapgl": [
           {
            "colorbar": {
             "outlinewidth": 0,
             "ticks": ""
            },
            "colorscale": [
             [
              0,
              "#0d0887"
             ],
             [
              0.1111111111111111,
              "#46039f"
             ],
             [
              0.2222222222222222,
              "#7201a8"
             ],
             [
              0.3333333333333333,
              "#9c179e"
             ],
             [
              0.4444444444444444,
              "#bd3786"
             ],
             [
              0.5555555555555556,
              "#d8576b"
             ],
             [
              0.6666666666666666,
              "#ed7953"
             ],
             [
              0.7777777777777778,
              "#fb9f3a"
             ],
             [
              0.8888888888888888,
              "#fdca26"
             ],
             [
              1,
              "#f0f921"
             ]
            ],
            "type": "heatmapgl"
           }
          ],
          "histogram": [
           {
            "marker": {
             "pattern": {
              "fillmode": "overlay",
              "size": 10,
              "solidity": 0.2
             }
            },
            "type": "histogram"
           }
          ],
          "histogram2d": [
           {
            "colorbar": {
             "outlinewidth": 0,
             "ticks": ""
            },
            "colorscale": [
             [
              0,
              "#0d0887"
             ],
             [
              0.1111111111111111,
              "#46039f"
             ],
             [
              0.2222222222222222,
              "#7201a8"
             ],
             [
              0.3333333333333333,
              "#9c179e"
             ],
             [
              0.4444444444444444,
              "#bd3786"
             ],
             [
              0.5555555555555556,
              "#d8576b"
             ],
             [
              0.6666666666666666,
              "#ed7953"
             ],
             [
              0.7777777777777778,
              "#fb9f3a"
             ],
             [
              0.8888888888888888,
              "#fdca26"
             ],
             [
              1,
              "#f0f921"
             ]
            ],
            "type": "histogram2d"
           }
          ],
          "histogram2dcontour": [
           {
            "colorbar": {
             "outlinewidth": 0,
             "ticks": ""
            },
            "colorscale": [
             [
              0,
              "#0d0887"
             ],
             [
              0.1111111111111111,
              "#46039f"
             ],
             [
              0.2222222222222222,
              "#7201a8"
             ],
             [
              0.3333333333333333,
              "#9c179e"
             ],
             [
              0.4444444444444444,
              "#bd3786"
             ],
             [
              0.5555555555555556,
              "#d8576b"
             ],
             [
              0.6666666666666666,
              "#ed7953"
             ],
             [
              0.7777777777777778,
              "#fb9f3a"
             ],
             [
              0.8888888888888888,
              "#fdca26"
             ],
             [
              1,
              "#f0f921"
             ]
            ],
            "type": "histogram2dcontour"
           }
          ],
          "mesh3d": [
           {
            "colorbar": {
             "outlinewidth": 0,
             "ticks": ""
            },
            "type": "mesh3d"
           }
          ],
          "parcoords": [
           {
            "line": {
             "colorbar": {
              "outlinewidth": 0,
              "ticks": ""
             }
            },
            "type": "parcoords"
           }
          ],
          "pie": [
           {
            "automargin": true,
            "type": "pie"
           }
          ],
          "scatter": [
           {
            "fillpattern": {
             "fillmode": "overlay",
             "size": 10,
             "solidity": 0.2
            },
            "type": "scatter"
           }
          ],
          "scatter3d": [
           {
            "line": {
             "colorbar": {
              "outlinewidth": 0,
              "ticks": ""
             }
            },
            "marker": {
             "colorbar": {
              "outlinewidth": 0,
              "ticks": ""
             }
            },
            "type": "scatter3d"
           }
          ],
          "scattercarpet": [
           {
            "marker": {
             "colorbar": {
              "outlinewidth": 0,
              "ticks": ""
             }
            },
            "type": "scattercarpet"
           }
          ],
          "scattergeo": [
           {
            "marker": {
             "colorbar": {
              "outlinewidth": 0,
              "ticks": ""
             }
            },
            "type": "scattergeo"
           }
          ],
          "scattergl": [
           {
            "marker": {
             "colorbar": {
              "outlinewidth": 0,
              "ticks": ""
             }
            },
            "type": "scattergl"
           }
          ],
          "scattermapbox": [
           {
            "marker": {
             "colorbar": {
              "outlinewidth": 0,
              "ticks": ""
             }
            },
            "type": "scattermapbox"
           }
          ],
          "scatterpolar": [
           {
            "marker": {
             "colorbar": {
              "outlinewidth": 0,
              "ticks": ""
             }
            },
            "type": "scatterpolar"
           }
          ],
          "scatterpolargl": [
           {
            "marker": {
             "colorbar": {
              "outlinewidth": 0,
              "ticks": ""
             }
            },
            "type": "scatterpolargl"
           }
          ],
          "scatterternary": [
           {
            "marker": {
             "colorbar": {
              "outlinewidth": 0,
              "ticks": ""
             }
            },
            "type": "scatterternary"
           }
          ],
          "surface": [
           {
            "colorbar": {
             "outlinewidth": 0,
             "ticks": ""
            },
            "colorscale": [
             [
              0,
              "#0d0887"
             ],
             [
              0.1111111111111111,
              "#46039f"
             ],
             [
              0.2222222222222222,
              "#7201a8"
             ],
             [
              0.3333333333333333,
              "#9c179e"
             ],
             [
              0.4444444444444444,
              "#bd3786"
             ],
             [
              0.5555555555555556,
              "#d8576b"
             ],
             [
              0.6666666666666666,
              "#ed7953"
             ],
             [
              0.7777777777777778,
              "#fb9f3a"
             ],
             [
              0.8888888888888888,
              "#fdca26"
             ],
             [
              1,
              "#f0f921"
             ]
            ],
            "type": "surface"
           }
          ],
          "table": [
           {
            "cells": {
             "fill": {
              "color": "#EBF0F8"
             },
             "line": {
              "color": "white"
             }
            },
            "header": {
             "fill": {
              "color": "#C8D4E3"
             },
             "line": {
              "color": "white"
             }
            },
            "type": "table"
           }
          ]
         },
         "layout": {
          "annotationdefaults": {
           "arrowcolor": "#2a3f5f",
           "arrowhead": 0,
           "arrowwidth": 1
          },
          "autotypenumbers": "strict",
          "coloraxis": {
           "colorbar": {
            "outlinewidth": 0,
            "ticks": ""
           }
          },
          "colorscale": {
           "diverging": [
            [
             0,
             "#8e0152"
            ],
            [
             0.1,
             "#c51b7d"
            ],
            [
             0.2,
             "#de77ae"
            ],
            [
             0.3,
             "#f1b6da"
            ],
            [
             0.4,
             "#fde0ef"
            ],
            [
             0.5,
             "#f7f7f7"
            ],
            [
             0.6,
             "#e6f5d0"
            ],
            [
             0.7,
             "#b8e186"
            ],
            [
             0.8,
             "#7fbc41"
            ],
            [
             0.9,
             "#4d9221"
            ],
            [
             1,
             "#276419"
            ]
           ],
           "sequential": [
            [
             0,
             "#0d0887"
            ],
            [
             0.1111111111111111,
             "#46039f"
            ],
            [
             0.2222222222222222,
             "#7201a8"
            ],
            [
             0.3333333333333333,
             "#9c179e"
            ],
            [
             0.4444444444444444,
             "#bd3786"
            ],
            [
             0.5555555555555556,
             "#d8576b"
            ],
            [
             0.6666666666666666,
             "#ed7953"
            ],
            [
             0.7777777777777778,
             "#fb9f3a"
            ],
            [
             0.8888888888888888,
             "#fdca26"
            ],
            [
             1,
             "#f0f921"
            ]
           ],
           "sequentialminus": [
            [
             0,
             "#0d0887"
            ],
            [
             0.1111111111111111,
             "#46039f"
            ],
            [
             0.2222222222222222,
             "#7201a8"
            ],
            [
             0.3333333333333333,
             "#9c179e"
            ],
            [
             0.4444444444444444,
             "#bd3786"
            ],
            [
             0.5555555555555556,
             "#d8576b"
            ],
            [
             0.6666666666666666,
             "#ed7953"
            ],
            [
             0.7777777777777778,
             "#fb9f3a"
            ],
            [
             0.8888888888888888,
             "#fdca26"
            ],
            [
             1,
             "#f0f921"
            ]
           ]
          },
          "colorway": [
           "#636efa",
           "#EF553B",
           "#00cc96",
           "#ab63fa",
           "#FFA15A",
           "#19d3f3",
           "#FF6692",
           "#B6E880",
           "#FF97FF",
           "#FECB52"
          ],
          "font": {
           "color": "#2a3f5f"
          },
          "geo": {
           "bgcolor": "white",
           "lakecolor": "white",
           "landcolor": "#E5ECF6",
           "showlakes": true,
           "showland": true,
           "subunitcolor": "white"
          },
          "hoverlabel": {
           "align": "left"
          },
          "hovermode": "closest",
          "mapbox": {
           "style": "light"
          },
          "paper_bgcolor": "white",
          "plot_bgcolor": "#E5ECF6",
          "polar": {
           "angularaxis": {
            "gridcolor": "white",
            "linecolor": "white",
            "ticks": ""
           },
           "bgcolor": "#E5ECF6",
           "radialaxis": {
            "gridcolor": "white",
            "linecolor": "white",
            "ticks": ""
           }
          },
          "scene": {
           "xaxis": {
            "backgroundcolor": "#E5ECF6",
            "gridcolor": "white",
            "gridwidth": 2,
            "linecolor": "white",
            "showbackground": true,
            "ticks": "",
            "zerolinecolor": "white"
           },
           "yaxis": {
            "backgroundcolor": "#E5ECF6",
            "gridcolor": "white",
            "gridwidth": 2,
            "linecolor": "white",
            "showbackground": true,
            "ticks": "",
            "zerolinecolor": "white"
           },
           "zaxis": {
            "backgroundcolor": "#E5ECF6",
            "gridcolor": "white",
            "gridwidth": 2,
            "linecolor": "white",
            "showbackground": true,
            "ticks": "",
            "zerolinecolor": "white"
           }
          },
          "shapedefaults": {
           "line": {
            "color": "#2a3f5f"
           }
          },
          "ternary": {
           "aaxis": {
            "gridcolor": "white",
            "linecolor": "white",
            "ticks": ""
           },
           "baxis": {
            "gridcolor": "white",
            "linecolor": "white",
            "ticks": ""
           },
           "bgcolor": "#E5ECF6",
           "caxis": {
            "gridcolor": "white",
            "linecolor": "white",
            "ticks": ""
           }
          },
          "title": {
           "x": 0.05
          },
          "xaxis": {
           "automargin": true,
           "gridcolor": "white",
           "linecolor": "white",
           "ticks": "",
           "title": {
            "standoff": 15
           },
           "zerolinecolor": "white",
           "zerolinewidth": 2
          },
          "yaxis": {
           "automargin": true,
           "gridcolor": "white",
           "linecolor": "white",
           "ticks": "",
           "title": {
            "standoff": 15
           },
           "zerolinecolor": "white",
           "zerolinewidth": 2
          }
         }
        },
        "title": {
         "font": {
          "color": "#4D5663"
         },
         "text": "Correlation Headmap"
        },
        "xaxis": {
         "autorange": true,
         "gridcolor": "#E1E5ED",
         "range": [
          -0.5,
          5.5
         ],
         "showgrid": true,
         "tickfont": {
          "color": "#4D5663"
         },
         "title": {
          "font": {
           "color": "#4D5663"
          },
          "text": ""
         },
         "type": "category",
         "zerolinecolor": "#E1E5ED"
        },
        "yaxis": {
         "autorange": true,
         "gridcolor": "#E1E5ED",
         "range": [
          -0.5,
          5.5
         ],
         "showgrid": true,
         "tickfont": {
          "color": "#4D5663"
         },
         "title": {
          "font": {
           "color": "#4D5663"
          },
          "text": ""
         },
         "type": "category",
         "zerolinecolor": "#E1E5ED"
        }
       }
      },
      "image/png": "[encoded data removed]",
      "text/html": [
       "<div>                            <div id=\"44072724-dc55-4e81-8b15-724b5055b254\" class=\"plotly-graph-div\" style=\"height:525px; width:100%;\"></div>            <script type=\"text/javascript\">                require([\"plotly\"], function(Plotly) {                    window.PLOTLYENV=window.PLOTLYENV || {};                                    if (document.getElementById(\"44072724-dc55-4e81-8b15-724b5055b254\")) {                    Plotly.newPlot(                        \"44072724-dc55-4e81-8b15-724b5055b254\",                        [{\"colorscale\":[[0.0,\"rgb(255, 153, 51)\"],[0.1111111111111111,\"rgb(55, 128, 191)\"],[0.2222222222222222,\"rgb(50, 171, 96)\"],[0.3333333333333333,\"rgb(128, 0, 128)\"],[0.4444444444444444,\"rgb(219, 64, 82)\"],[0.5555555555555556,\"rgb(0, 128, 128)\"],[0.6666666666666666,\"rgb(255, 255, 51)\"],[0.7777777777777778,\"rgb(128, 128, 0)\"],[0.8888888888888888,\"rgb(251, 128, 114)\"],[1.0,\"rgb(128, 177, 211)\"]],\"x\":[\"steps\",\"distance_km\",\"calories_burned\",\"active_minutes\",\"sleep_hours\",\"water_intake_liters\"],\"y\":[\"steps\",\"distance_km\",\"calories_burned\",\"active_minutes\",\"sleep_hours\",\"water_intake_liters\"],\"z\":[[1.0,0.9999997782543489,1.0000000000000007,0.9999880821793968,-0.03268232316214861,0.04714637392539199],[0.9999997782543489,1.0,0.9999997782543508,0.9999877683150606,-0.032672193286831144,0.047101765781619245],[1.0000000000000007,0.9999997782543508,1.0,0.9999880821793979,-0.03268232316214849,0.047146373925392025],[0.9999880821793968,0.9999877683150606,0.9999880821793979,1.0,-0.03286978790695712,0.04703894819957166],[-0.03268232316214861,-0.032672193286831144,-0.03268232316214849,-0.03286978790695712,1.0,-0.019586459075697015],[0.04714637392539199,0.047101765781619245,0.047146373925392025,0.04703894819957166,-0.019586459075697015,1.0]],\"zmax\":1.0000000000000007,\"zmin\":-0.03286978790695712,\"type\":\"heatmap\"}],                        {\"legend\":{\"bgcolor\":\"#F5F6F9\",\"font\":{\"color\":\"#4D5663\"}},\"paper_bgcolor\":\"#F5F6F9\",\"plot_bgcolor\":\"#F5F6F9\",\"title\":{\"text\":\"Correlation Headmap\",\"font\":{\"color\":\"#4D5663\"}},\"xaxis\":{\"gridcolor\":\"#E1E5ED\",\"showgrid\":true,\"tickfont\":{\"color\":\"#4D5663\"},\"title\":{\"text\":\"\",\"font\":{\"color\":\"#4D5663\"}},\"zerolinecolor\":\"#E1E5ED\"},\"yaxis\":{\"gridcolor\":\"#E1E5ED\",\"showgrid\":true,\"tickfont\":{\"color\":\"#4D5663\"},\"title\":{\"text\":\"\",\"font\":{\"color\":\"#4D5663\"}},\"zerolinecolor\":\"#E1E5ED\"},\"template\":{\"data\":{\"histogram2dcontour\":[{\"type\":\"histogram2dcontour\",\"colorbar\":{\"outlinewidth\":0,\"ticks\":\"\"},\"colorscale\":[[0.0,\"#0d0887\"],[0.1111111111111111,\"#46039f\"],[0.2222222222222222,\"#7201a8\"],[0.3333333333333333,\"#9c179e\"],[0.4444444444444444,\"#bd3786\"],[0.5555555555555556,\"#d8576b\"],[0.6666666666666666,\"#ed7953\"],[0.7777777777777778,\"#fb9f3a\"],[0.8888888888888888,\"#fdca26\"],[1.0,\"#f0f921\"]]}],\"choropleth\":[{\"type\":\"choropleth\",\"colorbar\":{\"outlinewidth\":0,\"ticks\":\"\"}}],\"histogram2d\":[{\"type\":\"histogram2d\",\"colorbar\":{\"outlinewidth\":0,\"ticks\":\"\"},\"colorscale\":[[0.0,\"#0d0887\"],[0.1111111111111111,\"#46039f\"],[0.2222222222222222,\"#7201a8\"],[0.3333333333333333,\"#9c179e\"],[0.4444444444444444,\"#bd3786\"],[0.5555555555555556,\"#d8576b\"],[0.6666666666666666,\"#ed7953\"],[0.7777777777777778,\"#fb9f3a\"],[0.8888888888888888,\"#fdca26\"],[1.0,\"#f0f921\"]]}],\"heatmap\":[{\"type\":\"heatmap\",\"colorbar\":{\"outlinewidth\":0,\"ticks\":\"\"},\"colorscale\":[[0.0,\"#0d0887\"],[0.1111111111111111,\"#46039f\"],[0.2222222222222222,\"#7201a8\"],[0.3333333333333333,\"#9c179e\"],[0.4444444444444444,\"#bd3786\"],[0.5555555555555556,\"#d8576b\"],[0.6666666666666666,\"#ed7953\"],[0.7777777777777778,\"#fb9f3a\"],[0.8888888888888888,\"#fdca26\"],[1.0,\"#f0f921\"]]}],\"heatmapgl\":[{\"type\":\"heatmapgl\",\"colorbar\":{\"outlinewidth\":0,\"ticks\":\"\"},\"colorscale\":[[0.0,\"#0d0887\"],[0.1111111111111111,\"#46039f\"],[0.2222222222222222,\"#7201a8\"],[0.3333333333333333,\"#9c179e\"],[0.4444444444444444,\"#bd3786\"],[0.5555555555555556,\"#d8576b\"],[0.6666666666666666,\"#ed7953\"],[0.7777777777777778,\"#fb9f3a\"],[0.8888888888888888,\"#fdca26\"],[1.0,\"#f0f921\"]]}],\"contourcarpet\":[{\"type\":\"contourcarpet\",\"colorbar\":{\"outlinewidth\":0,\"ticks\":\"\"}}],\"contour\":[{\"type\":\"contour\",\"colorbar\":{\"outlinewidth\":0,\"ticks\":\"\"},\"colorscale\":[[0.0,\"#0d0887\"],[0.1111111111111111,\"#46039f\"],[0.2222222222222222,\"#7201a8\"],[0.3333333333333333,\"#9c179e\"],[0.4444444444444444,\"#bd3786\"],[0.5555555555555556,\"#d8576b\"],[0.6666666666666666,\"#ed7953\"],[0.7777777777777778,\"#fb9f3a\"],[0.8888888888888888,\"#fdca26\"],[1.0,\"#f0f921\"]]}],\"surface\":[{\"type\":\"surface\",\"colorbar\":{\"outlinewidth\":0,\"ticks\":\"\"},\"colorscale\":[[0.0,\"#0d0887\"],[0.1111111111111111,\"#46039f\"],[0.2222222222222222,\"#7201a8\"],[0.3333333333333333,\"#9c179e\"],[0.4444444444444444,\"#bd3786\"],[0.5555555555555556,\"#d8576b\"],[0.6666666666666666,\"#ed7953\"],[0.7777777777777778,\"#fb9f3a\"],[0.8888888888888888,\"#fdca26\"],[1.0,\"#f0f921\"]]}],\"mesh3d\":[{\"type\":\"mesh3d\",\"colorbar\":{\"outlinewidth\":0,\"ticks\":\"\"}}],\"scatter\":[{\"fillpattern\":{\"fillmode\":\"overlay\",\"size\":10,\"solidity\":0.2},\"type\":\"scatter\"}],\"parcoords\":[{\"type\":\"parcoords\",\"line\":{\"colorbar\":{\"outlinewidth\":0,\"ticks\":\"\"}}}],\"scatterpolargl\":[{\"type\":\"scatterpolargl\",\"marker\":{\"colorbar\":{\"outlinewidth\":0,\"ticks\":\"\"}}}],\"bar\":[{\"error_x\":{\"color\":\"#2a3f5f\"},\"error_y\":{\"color\":\"#2a3f5f\"},\"marker\":{\"line\":{\"color\":\"#E5ECF6\",\"width\":0.5},\"pattern\":{\"fillmode\":\"overlay\",\"size\":10,\"solidity\":0.2}},\"type\":\"bar\"}],\"scattergeo\":[{\"type\":\"scattergeo\",\"marker\":{\"colorbar\":{\"outlinewidth\":0,\"ticks\":\"\"}}}],\"scatterpolar\":[{\"type\":\"scatterpolar\",\"marker\":{\"colorbar\":{\"outlinewidth\":0,\"ticks\":\"\"}}}],\"histogram\":[{\"marker\":{\"pattern\":{\"fillmode\":\"overlay\",\"size\":10,\"solidity\":0.2}},\"type\":\"histogram\"}],\"scattergl\":[{\"type\":\"scattergl\",\"marker\":{\"colorbar\":{\"outlinewidth\":0,\"ticks\":\"\"}}}],\"scatter3d\":[{\"type\":\"scatter3d\",\"line\":{\"colorbar\":{\"outlinewidth\":0,\"ticks\":\"\"}},\"marker\":{\"colorbar\":{\"outlinewidth\":0,\"ticks\":\"\"}}}],\"scattermapbox\":[{\"type\":\"scattermapbox\",\"marker\":{\"colorbar\":{\"outlinewidth\":0,\"ticks\":\"\"}}}],\"scatterternary\":[{\"type\":\"scatterternary\",\"marker\":{\"colorbar\":{\"outlinewidth\":0,\"ticks\":\"\"}}}],\"scattercarpet\":[{\"type\":\"scattercarpet\",\"marker\":{\"colorbar\":{\"outlinewidth\":0,\"ticks\":\"\"}}}],\"carpet\":[{\"aaxis\":{\"endlinecolor\":\"#2a3f5f\",\"gridcolor\":\"white\",\"linecolor\":\"white\",\"minorgridcolor\":\"white\",\"startlinecolor\":\"#2a3f5f\"},\"baxis\":{\"endlinecolor\":\"#2a3f5f\",\"gridcolor\":\"white\",\"linecolor\":\"white\",\"minorgridcolor\":\"white\",\"startlinecolor\":\"#2a3f5f\"},\"type\":\"carpet\"}],\"table\":[{\"cells\":{\"fill\":{\"color\":\"#EBF0F8\"},\"line\":{\"color\":\"white\"}},\"header\":{\"fill\":{\"color\":\"#C8D4E3\"},\"line\":{\"color\":\"white\"}},\"type\":\"table\"}],\"barpolar\":[{\"marker\":{\"line\":{\"color\":\"#E5ECF6\",\"width\":0.5},\"pattern\":{\"fillmode\":\"overlay\",\"size\":10,\"solidity\":0.2}},\"type\":\"barpolar\"}],\"pie\":[{\"automargin\":true,\"type\":\"pie\"}]},\"layout\":{\"autotypenumbers\":\"strict\",\"colorway\":[\"#636efa\",\"#EF553B\",\"#00cc96\",\"#ab63fa\",\"#FFA15A\",\"#19d3f3\",\"#FF6692\",\"#B6E880\",\"#FF97FF\",\"#FECB52\"],\"font\":{\"color\":\"#2a3f5f\"},\"hovermode\":\"closest\",\"hoverlabel\":{\"align\":\"left\"},\"paper_bgcolor\":\"white\",\"plot_bgcolor\":\"#E5ECF6\",\"polar\":{\"bgcolor\":\"#E5ECF6\",\"angularaxis\":{\"gridcolor\":\"white\",\"linecolor\":\"white\",\"ticks\":\"\"},\"radialaxis\":{\"gridcolor\":\"white\",\"linecolor\":\"white\",\"ticks\":\"\"}},\"ternary\":{\"bgcolor\":\"#E5ECF6\",\"aaxis\":{\"gridcolor\":\"white\",\"linecolor\":\"white\",\"ticks\":\"\"},\"baxis\":{\"gridcolor\":\"white\",\"linecolor\":\"white\",\"ticks\":\"\"},\"caxis\":{\"gridcolor\":\"white\",\"linecolor\":\"white\",\"ticks\":\"\"}},\"coloraxis\":{\"colorbar\":{\"outlinewidth\":0,\"ticks\":\"\"}},\"colorscale\":{\"sequential\":[[0.0,\"#0d0887\"],[0.1111111111111111,\"#46039f\"],[0.2222222222222222,\"#7201a8\"],[0.3333333333333333,\"#9c179e\"],[0.4444444444444444,\"#bd3786\"],[0.5555555555555556,\"#d8576b\"],[0.6666666666666666,\"#ed7953\"],[0.7777777777777778,\"#fb9f3a\"],[0.8888888888888888,\"#fdca26\"],[1.0,\"#f0f921\"]],\"sequentialminus\":[[0.0,\"#0d0887\"],[0.1111111111111111,\"#46039f\"],[0.2222222222222222,\"#7201a8\"],[0.3333333333333333,\"#9c179e\"],[0.4444444444444444,\"#bd3786\"],[0.5555555555555556,\"#d8576b\"],[0.6666666666666666,\"#ed7953\"],[0.7777777777777778,\"#fb9f3a\"],[0.8888888888888888,\"#fdca26\"],[1.0,\"#f0f921\"]],\"diverging\":[[0,\"#8e0152\"],[0.1,\"#c51b7d\"],[0.2,\"#de77ae\"],[0.3,\"#f1b6da\"],[0.4,\"#fde0ef\"],[0.5,\"#f7f7f7\"],[0.6,\"#e6f5d0\"],[0.7,\"#b8e186\"],[0.8,\"#7fbc41\"],[0.9,\"#4d9221\"],[1,\"#276419\"]]},\"xaxis\":{\"gridcolor\":\"white\",\"linecolor\":\"white\",\"ticks\":\"\",\"title\":{\"standoff\":15},\"zerolinecolor\":\"white\",\"automargin\":true,\"zerolinewidth\":2},\"yaxis\":{\"gridcolor\":\"white\",\"linecolor\":\"white\",\"ticks\":\"\",\"title\":{\"standoff\":15},\"zerolinecolor\":\"white\",\"automargin\":true,\"zerolinewidth\":2},\"scene\":{\"xaxis\":{\"backgroundcolor\":\"#E5ECF6\",\"gridcolor\":\"white\",\"linecolor\":\"white\",\"showbackground\":true,\"ticks\":\"\",\"zerolinecolor\":\"white\",\"gridwidth\":2},\"yaxis\":{\"backgroundcolor\":\"#E5ECF6\",\"gridcolor\":\"white\",\"linecolor\":\"white\",\"showbackground\":true,\"ticks\":\"\",\"zerolinecolor\":\"white\",\"gridwidth\":2},\"zaxis\":{\"backgroundcolor\":\"#E5ECF6\",\"gridcolor\":\"white\",\"linecolor\":\"white\",\"showbackground\":true,\"ticks\":\"\",\"zerolinecolor\":\"white\",\"gridwidth\":2}},\"shapedefaults\":{\"line\":{\"color\":\"#2a3f5f\"}},\"annotationdefaults\":{\"arrowcolor\":\"#2a3f5f\",\"arrowhead\":0,\"arrowwidth\":1},\"geo\":{\"bgcolor\":\"white\",\"landcolor\":\"#E5ECF6\",\"subunitcolor\":\"white\",\"showland\":true,\"showlakes\":true,\"lakecolor\":\"white\"},\"title\":{\"x\":0.05},\"mapbox\":{\"style\":\"light\"}}}},                        {\"responsive\": true}                    ).then(function(){\n",
       "                            \n",
       "var gd = document.getElementById('44072724-dc55-4e81-8b15-724b5055b254');\n",
       "var x = new MutationObserver(function (mutations, observer) {{\n",
       "        var display = window.getComputedStyle(gd).display;\n",
       "        if (!display || display === 'none') {{\n",
       "            console.log([gd, 'removed!']);\n",
       "            Plotly.purge(gd);\n",
       "            observer.disconnect();\n",
       "        }}\n",
       "}});\n",
       "\n",
       "// Listen for the removal of the full notebook cells\n",
       "var notebookContainer = gd.closest('#notebook-container');\n",
       "if (notebookContainer) {{\n",
       "    x.observe(notebookContainer, {childList: true});\n",
       "}}\n",
       "\n",
       "// Listen for the clearing of the current output cell\n",
       "var outputEl = gd.closest('.output');\n",
       "if (outputEl) {{\n",
       "    x.observe(outputEl, {childList: true});\n",
       "}}\n",
       "\n",
       "                        })                };                });            </script>        </div>"
      ]
     },
     "metadata": {},
     "output_type": "display_data"
    }
   ],
   "source": [
    "corr.iplot(kind='heatmap',title='Correlation Headmap',asFigure=True)"
   ]
  },
  {
   "cell_type": "markdown",
   "id": "7d7f9013-7f16-4cda-98a8-bd47713056a5",
   "metadata": {},
   "source": [
    "## Average Steps by mood"
   ]
  },
  {
   "cell_type": "code",
   "execution_count": 22,
   "id": "d650b3b7-4828-4d07-861b-8725cbb2d14e",
   "metadata": {},
   "outputs": [
    {
     "data": {
      "application/vnd.plotly.v1+json": {
       "config": {
        "linkText": "Export to plot.ly",
        "plotlyServerURL": "https://plot.ly",
        "showLink": true
       },
       "data": [
        {
         "labels": [
          "stressed",
          "sad",
          "sad",
          "tired",
          "tired",
          "happy",
          "happy",
          "energetic",
          "happy",
          "stressed",
          "tired",
          "happy",
          "stressed",
          "happy",
          "happy",
          "stressed",
          "energetic",
          "sad",
          "stressed",
          "sad",
          "happy",
          "energetic",
          "tired",
          "stressed",
          "sad",
          "energetic",
          "sad",
          "stressed",
          "sad",
          "happy",
          "stressed",
          "stressed",
          "energetic",
          "stressed",
          "tired",
          "tired",
          "sad",
          "tired",
          "tired",
          "stressed",
          "stressed",
          "energetic",
          "energetic",
          "tired",
          "happy",
          "tired",
          "energetic",
          "stressed",
          "stressed",
          "happy",
          "stressed",
          "tired",
          "happy",
          "sad",
          "happy",
          "happy",
          "tired",
          "energetic",
          "energetic",
          "tired",
          "tired",
          "sad",
          "sad",
          "tired",
          "happy",
          "tired",
          "sad",
          "stressed",
          "happy",
          "tired",
          "energetic",
          "happy",
          "stressed",
          "tired",
          "sad",
          "happy",
          "stressed",
          "happy",
          "stressed",
          "stressed",
          "energetic",
          "happy",
          "tired",
          "stressed",
          "tired",
          "tired",
          "tired",
          "stressed",
          "tired",
          "sad",
          "sad",
          "sad",
          "energetic",
          "stressed",
          "tired",
          "happy",
          "happy",
          "tired",
          "happy",
          "stressed",
          "energetic",
          "sad",
          "stressed",
          "stressed",
          "sad",
          "stressed",
          "tired",
          "happy",
          "energetic",
          "sad",
          "energetic",
          "tired",
          "tired",
          "tired",
          "tired",
          "energetic",
          "happy",
          "energetic",
          "sad",
          "tired",
          "sad",
          "sad",
          "energetic",
          "stressed",
          "stressed",
          "energetic",
          "happy",
          "happy",
          "stressed",
          "sad",
          "sad",
          "happy",
          "energetic",
          "sad",
          "happy",
          "tired",
          "tired",
          "happy",
          "energetic",
          "sad",
          "happy",
          "sad",
          "happy",
          "stressed",
          "sad",
          "stressed",
          "energetic",
          "stressed",
          "energetic",
          "happy",
          "stressed",
          "happy",
          "tired",
          "energetic",
          "energetic",
          "happy",
          "happy",
          "tired",
          "sad",
          "stressed",
          "sad",
          "tired",
          "tired",
          "energetic",
          "energetic",
          "energetic",
          "tired",
          "stressed",
          "stressed",
          "stressed",
          "sad",
          "energetic",
          "sad",
          "stressed",
          "sad",
          "energetic",
          "happy",
          "energetic",
          "energetic",
          "energetic",
          "stressed",
          "happy",
          "energetic",
          "tired",
          "tired",
          "happy",
          "energetic",
          "tired",
          "happy",
          "stressed",
          "happy",
          "energetic",
          "happy",
          "sad",
          "happy",
          "tired",
          "energetic",
          "sad",
          "sad",
          "happy",
          "energetic",
          "sad",
          "sad",
          "energetic",
          "sad",
          "sad",
          "energetic",
          "stressed",
          "energetic",
          "happy",
          "stressed",
          "stressed",
          "happy",
          "stressed",
          "tired",
          "sad",
          "stressed",
          "energetic",
          "stressed",
          "happy",
          "happy",
          "sad",
          "happy",
          "stressed",
          "stressed",
          "energetic",
          "energetic",
          "stressed",
          "energetic",
          "stressed",
          "tired",
          "stressed",
          "stressed",
          "sad",
          "stressed",
          "sad",
          "stressed",
          "tired",
          "stressed",
          "stressed",
          "sad",
          "stressed",
          "energetic",
          "energetic",
          "energetic",
          "tired",
          "sad",
          "sad",
          "happy",
          "sad",
          "sad",
          "sad",
          "happy",
          "sad",
          "energetic",
          "energetic",
          "happy",
          "stressed",
          "happy",
          "happy",
          "sad",
          "happy",
          "happy",
          "stressed",
          "tired",
          "energetic",
          "sad",
          "energetic",
          "energetic",
          "tired",
          "sad",
          "stressed",
          "sad",
          "energetic",
          "tired",
          "stressed",
          "energetic",
          "stressed",
          "energetic",
          "sad",
          "tired",
          "happy",
          "energetic",
          "stressed",
          "energetic",
          "happy",
          "happy",
          "happy",
          "stressed",
          "tired",
          "tired",
          "happy",
          "tired",
          "sad",
          "sad",
          "happy",
          "tired",
          "tired",
          "energetic",
          "energetic",
          "happy",
          "energetic",
          "sad",
          "sad",
          "sad",
          "sad",
          "tired",
          "tired",
          "sad",
          "happy",
          "energetic",
          "tired",
          "energetic",
          "happy",
          "energetic",
          "energetic",
          "tired",
          "stressed",
          "happy",
          "tired",
          "energetic",
          "energetic",
          "tired",
          "tired",
          "happy",
          "sad",
          "stressed",
          "energetic",
          "happy",
          "stressed",
          "energetic",
          "happy",
          "stressed",
          "energetic",
          "sad",
          "stressed",
          "stressed",
          "happy",
          "stressed",
          "happy",
          "happy",
          "sad",
          "happy",
          "tired",
          "happy",
          "happy",
          "happy",
          "energetic",
          "happy",
          "stressed",
          "stressed",
          "stressed",
          "energetic",
          "sad",
          "sad",
          "happy",
          "happy",
          "energetic",
          "tired",
          "energetic",
          "sad",
          "happy",
          "stressed",
          "stressed",
          "sad",
          "tired",
          "happy",
          "tired",
          "tired",
          "stressed",
          "energetic",
          "tired",
          "energetic",
          "sad",
          "sad",
          "tired",
          "energetic",
          "tired",
          "stressed",
          "tired",
          "sad",
          "happy",
          "sad",
          "stressed",
          "happy",
          "sad",
          "tired",
          "stressed",
          "sad",
          "happy",
          "stressed",
          "stressed",
          "tired",
          "stressed",
          "energetic",
          "stressed",
          "stressed",
          "happy",
          "energetic",
          "stressed",
          "stressed",
          "tired",
          "happy",
          "tired",
          "happy",
          "stressed",
          "happy",
          "happy",
          "sad",
          "happy",
          "happy",
          "happy",
          "sad",
          "energetic",
          "energetic",
          "energetic",
          "happy",
          "happy",
          "stressed",
          "stressed",
          "happy",
          "tired",
          "stressed",
          "tired",
          "energetic",
          "happy",
          "stressed",
          "stressed",
          "stressed",
          "stressed",
          "happy",
          "happy",
          "stressed",
          "stressed",
          "energetic",
          "energetic",
          "sad",
          "happy",
          "tired",
          "stressed",
          "happy",
          "happy",
          "sad",
          "happy",
          "sad",
          "stressed",
          "sad",
          "energetic",
          "sad",
          "happy",
          "happy",
          "sad",
          "happy",
          "energetic",
          "energetic",
          "energetic",
          "sad",
          "tired",
          "happy",
          "happy",
          "sad",
          "tired",
          "tired",
          "energetic",
          "tired",
          "sad",
          "stressed",
          "tired",
          "stressed",
          "happy",
          "tired",
          "sad",
          "sad",
          "energetic",
          "happy",
          "sad",
          "sad",
          "tired",
          "happy",
          "sad",
          "tired",
          "sad",
          "energetic",
          "energetic",
          "stressed",
          "sad",
          "energetic",
          "tired",
          "energetic",
          "stressed",
          "tired",
          "tired",
          "stressed",
          "tired",
          "sad",
          "energetic",
          "sad",
          "happy",
          "stressed",
          "sad"
         ],
         "marker": {
          "colors": [
           "rgba(255, 153, 51, 1.0)",
           "rgba(55, 128, 191, 1.0)",
           "rgba(50, 171, 96, 1.0)",
           "rgba(128, 0, 128, 1.0)",
           "rgba(219, 64, 82, 1.0)",
           "rgba(0, 128, 128, 1.0)",
           "rgba(255, 255, 51, 1.0)",
           "rgba(128, 128, 0, 1.0)",
           "rgba(251, 128, 114, 1.0)",
           "rgba(128, 177, 211, 1.0)",
           "rgba(128, 177, 211, 0.984)",
           "rgba(255, 153, 51, 0.984)",
           "rgba(55, 128, 191, 0.984)",
           "rgba(50, 171, 96, 0.984)",
           "rgba(128, 0, 128, 0.984)",
           "rgba(219, 64, 82, 0.984)",
           "rgba(0, 128, 128, 0.984)",
           "rgba(255, 255, 51, 0.984)",
           "rgba(128, 128, 0, 0.984)",
           "rgba(251, 128, 114, 0.984)",
           "rgba(251, 128, 114, 0.968)",
           "rgba(128, 177, 211, 0.968)",
           "rgba(255, 153, 51, 0.968)",
           "rgba(55, 128, 191, 0.968)",
           "rgba(50, 171, 96, 0.968)",
           "rgba(128, 0, 128, 0.968)",
           "rgba(219, 64, 82, 0.968)",
           "rgba(0, 128, 128, 0.968)",
           "rgba(255, 255, 51, 0.968)",
           "rgba(128, 128, 0, 0.968)",
           "rgba(128, 128, 0, 0.952)",
           "rgba(251, 128, 114, 0.952)",
           "rgba(128, 177, 211, 0.952)",
           "rgba(255, 153, 51, 0.952)",
           "rgba(55, 128, 191, 0.952)",
           "rgba(50, 171, 96, 0.952)",
           "rgba(128, 0, 128, 0.952)",
           "rgba(219, 64, 82, 0.952)",
           "rgba(0, 128, 128, 0.952)",
           "rgba(255, 255, 51, 0.952)",
           "rgba(255, 255, 51, 0.9359999999999999)",
           "rgba(128, 128, 0, 0.9359999999999999)",
           "rgba(251, 128, 114, 0.9359999999999999)",
           "rgba(128, 177, 211, 0.9359999999999999)",
           "rgba(255, 153, 51, 0.9359999999999999)",
           "rgba(55, 128, 191, 0.9359999999999999)",
           "rgba(50, 171, 96, 0.9359999999999999)",
           "rgba(128, 0, 128, 0.9359999999999999)",
           "rgba(219, 64, 82, 0.9359999999999999)",
           "rgba(0, 128, 128, 0.9359999999999999)",
           "rgba(0, 128, 128, 0.9199999999999999)",
           "rgba(255, 255, 51, 0.9199999999999999)",
           "rgba(128, 128, 0, 0.9199999999999999)",
           "rgba(251, 128, 114, 0.9199999999999999)",
           "rgba(128, 177, 211, 0.9199999999999999)",
           "rgba(255, 153, 51, 0.9199999999999999)",
           "rgba(55, 128, 191, 0.9199999999999999)",
           "rgba(50, 171, 96, 0.9199999999999999)",
           "rgba(128, 0, 128, 0.9199999999999999)",
           "rgba(219, 64, 82, 0.9199999999999999)",
           "rgba(219, 64, 82, 0.9039999999999999)",
           "rgba(0, 128, 128, 0.9039999999999999)",
           "rgba(255, 255, 51, 0.9039999999999999)",
           "rgba(128, 128, 0, 0.9039999999999999)",
           "rgba(251, 128, 114, 0.9039999999999999)",
           "rgba(128, 177, 211, 0.9039999999999999)",
           "rgba(255, 153, 51, 0.9039999999999999)",
           "rgba(55, 128, 191, 0.9039999999999999)",
           "rgba(50, 171, 96, 0.9039999999999999)",
           "rgba(128, 0, 128, 0.9039999999999999)",
           "rgba(128, 0, 128, 0.8879999999999999)",
           "rgba(219, 64, 82, 0.8879999999999999)",
           "rgba(0, 128, 128, 0.8879999999999999)",
           "rgba(255, 255, 51, 0.8879999999999999)",
           "rgba(128, 128, 0, 0.8879999999999999)",
           "rgba(251, 128, 114, 0.8879999999999999)",
           "rgba(128, 177, 211, 0.8879999999999999)",
           "rgba(255, 153, 51, 0.8879999999999999)",
           "rgba(55, 128, 191, 0.8879999999999999)",
           "rgba(50, 171, 96, 0.8879999999999999)",
           "rgba(50, 171, 96, 0.8719999999999999)",
           "rgba(128, 0, 128, 0.8719999999999999)",
           "rgba(219, 64, 82, 0.8719999999999999)",
           "rgba(0, 128, 128, 0.8719999999999999)",
           "rgba(255, 255, 51, 0.8719999999999999)",
           "rgba(128, 128, 0, 0.8719999999999999)",
           "rgba(251, 128, 114, 0.8719999999999999)",
           "rgba(128, 177, 211, 0.8719999999999999)",
           "rgba(255, 153, 51, 0.8719999999999999)",
           "rgba(55, 128, 191, 0.8719999999999999)",
           "rgba(55, 128, 191, 0.8559999999999999)",
           "rgba(50, 171, 96, 0.8559999999999999)",
           "rgba(128, 0, 128, 0.8559999999999999)",
           "rgba(219, 64, 82, 0.8559999999999999)",
           "rgba(0, 128, 128, 0.8559999999999999)",
           "rgba(255, 255, 51, 0.8559999999999999)",
           "rgba(128, 128, 0, 0.8559999999999999)",
           "rgba(251, 128, 114, 0.8559999999999999)",
           "rgba(128, 177, 211, 0.8559999999999999)",
           "rgba(255, 153, 51, 0.8559999999999999)",
           "rgba(255, 153, 51, 0.8399999999999999)",
           "rgba(55, 128, 191, 0.8399999999999999)",
           "rgba(50, 171, 96, 0.8399999999999999)",
           "rgba(128, 0, 128, 0.8399999999999999)",
           "rgba(219, 64, 82, 0.8399999999999999)",
           "rgba(0, 128, 128, 0.8399999999999999)",
           "rgba(255, 255, 51, 0.8399999999999999)",
           "rgba(128, 128, 0, 0.8399999999999999)",
           "rgba(251, 128, 114, 0.8399999999999999)",
           "rgba(128, 177, 211, 0.8399999999999999)",
           "rgba(128, 177, 211, 0.8239999999999998)",
           "rgba(255, 153, 51, 0.8239999999999998)",
           "rgba(55, 128, 191, 0.8239999999999998)",
           "rgba(50, 171, 96, 0.8239999999999998)",
           "rgba(128, 0, 128, 0.8239999999999998)",
           "rgba(219, 64, 82, 0.8239999999999998)",
           "rgba(0, 128, 128, 0.8239999999999998)",
           "rgba(255, 255, 51, 0.8239999999999998)",
           "rgba(128, 128, 0, 0.8239999999999998)",
           "rgba(251, 128, 114, 0.8239999999999998)",
           "rgba(251, 128, 114, 0.8079999999999998)",
           "rgba(128, 177, 211, 0.8079999999999998)",
           "rgba(255, 153, 51, 0.8079999999999998)",
           "rgba(55, 128, 191, 0.8079999999999998)",
           "rgba(50, 171, 96, 0.8079999999999998)",
           "rgba(128, 0, 128, 0.8079999999999998)",
           "rgba(219, 64, 82, 0.8079999999999998)",
           "rgba(0, 128, 128, 0.8079999999999998)",
           "rgba(255, 255, 51, 0.8079999999999998)",
           "rgba(128, 128, 0, 0.8079999999999998)",
           "rgba(128, 128, 0, 0.7919999999999998)",
           "rgba(251, 128, 114, 0.7919999999999998)",
           "rgba(128, 177, 211, 0.7919999999999998)",
           "rgba(255, 153, 51, 0.7919999999999998)",
           "rgba(55, 128, 191, 0.7919999999999998)",
           "rgba(50, 171, 96, 0.7919999999999998)",
           "rgba(128, 0, 128, 0.7919999999999998)",
           "rgba(219, 64, 82, 0.7919999999999998)",
           "rgba(0, 128, 128, 0.7919999999999998)",
           "rgba(255, 255, 51, 0.7919999999999998)",
           "rgba(255, 255, 51, 0.7759999999999998)",
           "rgba(128, 128, 0, 0.7759999999999998)",
           "rgba(251, 128, 114, 0.7759999999999998)",
           "rgba(128, 177, 211, 0.7759999999999998)",
           "rgba(255, 153, 51, 0.7759999999999998)",
           "rgba(55, 128, 191, 0.7759999999999998)",
           "rgba(50, 171, 96, 0.7759999999999998)",
           "rgba(128, 0, 128, 0.7759999999999998)",
           "rgba(219, 64, 82, 0.7759999999999998)",
           "rgba(0, 128, 128, 0.7759999999999998)",
           "rgba(0, 128, 128, 0.7599999999999998)",
           "rgba(255, 255, 51, 0.7599999999999998)",
           "rgba(128, 128, 0, 0.7599999999999998)",
           "rgba(251, 128, 114, 0.7599999999999998)",
           "rgba(128, 177, 211, 0.7599999999999998)",
           "rgba(255, 153, 51, 0.7599999999999998)",
           "rgba(55, 128, 191, 0.7599999999999998)",
           "rgba(50, 171, 96, 0.7599999999999998)",
           "rgba(128, 0, 128, 0.7599999999999998)",
           "rgba(219, 64, 82, 0.7599999999999998)",
           "rgba(219, 64, 82, 0.7439999999999998)",
           "rgba(0, 128, 128, 0.7439999999999998)",
           "rgba(255, 255, 51, 0.7439999999999998)",
           "rgba(128, 128, 0, 0.7439999999999998)",
           "rgba(251, 128, 114, 0.7439999999999998)",
           "rgba(128, 177, 211, 0.7439999999999998)",
           "rgba(255, 153, 51, 0.7439999999999998)",
           "rgba(55, 128, 191, 0.7439999999999998)",
           "rgba(50, 171, 96, 0.7439999999999998)",
           "rgba(128, 0, 128, 0.7439999999999998)",
           "rgba(128, 0, 128, 0.7279999999999998)",
           "rgba(219, 64, 82, 0.7279999999999998)",
           "rgba(0, 128, 128, 0.7279999999999998)",
           "rgba(255, 255, 51, 0.7279999999999998)",
           "rgba(128, 128, 0, 0.7279999999999998)",
           "rgba(251, 128, 114, 0.7279999999999998)",
           "rgba(128, 177, 211, 0.7279999999999998)",
           "rgba(255, 153, 51, 0.7279999999999998)",
           "rgba(55, 128, 191, 0.7279999999999998)",
           "rgba(50, 171, 96, 0.7279999999999998)",
           "rgba(50, 171, 96, 0.7119999999999997)",
           "rgba(128, 0, 128, 0.7119999999999997)",
           "rgba(219, 64, 82, 0.7119999999999997)",
           "rgba(0, 128, 128, 0.7119999999999997)",
           "rgba(255, 255, 51, 0.7119999999999997)",
           "rgba(128, 128, 0, 0.7119999999999997)",
           "rgba(251, 128, 114, 0.7119999999999997)",
           "rgba(128, 177, 211, 0.7119999999999997)",
           "rgba(255, 153, 51, 0.7119999999999997)",
           "rgba(55, 128, 191, 0.7119999999999997)",
           "rgba(55, 128, 191, 0.6959999999999997)",
           "rgba(50, 171, 96, 0.6959999999999997)",
           "rgba(128, 0, 128, 0.6959999999999997)",
           "rgba(219, 64, 82, 0.6959999999999997)",
           "rgba(0, 128, 128, 0.6959999999999997)",
           "rgba(255, 255, 51, 0.6959999999999997)",
           "rgba(128, 128, 0, 0.6959999999999997)",
           "rgba(251, 128, 114, 0.6959999999999997)",
           "rgba(128, 177, 211, 0.6959999999999997)",
           "rgba(255, 153, 51, 0.6959999999999997)",
           "rgba(255, 153, 51, 0.6799999999999997)",
           "rgba(55, 128, 191, 0.6799999999999997)",
           "rgba(50, 171, 96, 0.6799999999999997)",
           "rgba(128, 0, 128, 0.6799999999999997)",
           "rgba(219, 64, 82, 0.6799999999999997)",
           "rgba(0, 128, 128, 0.6799999999999997)",
           "rgba(255, 255, 51, 0.6799999999999997)",
           "rgba(128, 128, 0, 0.6799999999999997)",
           "rgba(251, 128, 114, 0.6799999999999997)",
           "rgba(128, 177, 211, 0.6799999999999997)",
           "rgba(128, 177, 211, 0.6639999999999997)",
           "rgba(255, 153, 51, 0.6639999999999997)",
           "rgba(55, 128, 191, 0.6639999999999997)",
           "rgba(50, 171, 96, 0.6639999999999997)",
           "rgba(128, 0, 128, 0.6639999999999997)",
           "rgba(219, 64, 82, 0.6639999999999997)",
           "rgba(0, 128, 128, 0.6639999999999997)",
           "rgba(255, 255, 51, 0.6639999999999997)",
           "rgba(128, 128, 0, 0.6639999999999997)",
           "rgba(251, 128, 114, 0.6639999999999997)",
           "rgba(251, 128, 114, 0.6479999999999997)",
           "rgba(128, 177, 211, 0.6479999999999997)",
           "rgba(255, 153, 51, 0.6479999999999997)",
           "rgba(55, 128, 191, 0.6479999999999997)",
           "rgba(50, 171, 96, 0.6479999999999997)",
           "rgba(128, 0, 128, 0.6479999999999997)",
           "rgba(219, 64, 82, 0.6479999999999997)",
           "rgba(0, 128, 128, 0.6479999999999997)",
           "rgba(255, 255, 51, 0.6479999999999997)",
           "rgba(128, 128, 0, 0.6479999999999997)",
           "rgba(128, 128, 0, 0.6319999999999997)",
           "rgba(251, 128, 114, 0.6319999999999997)",
           "rgba(128, 177, 211, 0.6319999999999997)",
           "rgba(255, 153, 51, 0.6319999999999997)",
           "rgba(55, 128, 191, 0.6319999999999997)",
           "rgba(50, 171, 96, 0.6319999999999997)",
           "rgba(128, 0, 128, 0.6319999999999997)",
           "rgba(219, 64, 82, 0.6319999999999997)",
           "rgba(0, 128, 128, 0.6319999999999997)",
           "rgba(255, 255, 51, 0.6319999999999997)",
           "rgba(255, 255, 51, 0.6159999999999997)",
           "rgba(128, 128, 0, 0.6159999999999997)",
           "rgba(251, 128, 114, 0.6159999999999997)",
           "rgba(128, 177, 211, 0.6159999999999997)",
           "rgba(255, 153, 51, 0.6159999999999997)",
           "rgba(55, 128, 191, 0.6159999999999997)",
           "rgba(50, 171, 96, 0.6159999999999997)",
           "rgba(128, 0, 128, 0.6159999999999997)",
           "rgba(219, 64, 82, 0.6159999999999997)",
           "rgba(0, 128, 128, 0.6159999999999997)",
           "rgba(0, 128, 128, 0.5999999999999996)",
           "rgba(255, 255, 51, 0.5999999999999996)",
           "rgba(128, 128, 0, 0.5999999999999996)",
           "rgba(251, 128, 114, 0.5999999999999996)",
           "rgba(128, 177, 211, 0.5999999999999996)",
           "rgba(255, 153, 51, 0.5999999999999996)",
           "rgba(55, 128, 191, 0.5999999999999996)",
           "rgba(50, 171, 96, 0.5999999999999996)",
           "rgba(128, 0, 128, 0.5999999999999996)",
           "rgba(219, 64, 82, 0.5999999999999996)",
           "rgba(219, 64, 82, 0.5839999999999996)",
           "rgba(0, 128, 128, 0.5839999999999996)",
           "rgba(255, 255, 51, 0.5839999999999996)",
           "rgba(128, 128, 0, 0.5839999999999996)",
           "rgba(251, 128, 114, 0.5839999999999996)",
           "rgba(128, 177, 211, 0.5839999999999996)",
           "rgba(255, 153, 51, 0.5839999999999996)",
           "rgba(55, 128, 191, 0.5839999999999996)",
           "rgba(50, 171, 96, 0.5839999999999996)",
           "rgba(128, 0, 128, 0.5839999999999996)",
           "rgba(128, 0, 128, 0.5679999999999996)",
           "rgba(219, 64, 82, 0.5679999999999996)",
           "rgba(0, 128, 128, 0.5679999999999996)",
           "rgba(255, 255, 51, 0.5679999999999996)",
           "rgba(128, 128, 0, 0.5679999999999996)",
           "rgba(251, 128, 114, 0.5679999999999996)",
           "rgba(128, 177, 211, 0.5679999999999996)",
           "rgba(255, 153, 51, 0.5679999999999996)",
           "rgba(55, 128, 191, 0.5679999999999996)",
           "rgba(50, 171, 96, 0.5679999999999996)",
           "rgba(50, 171, 96, 0.5519999999999996)",
           "rgba(128, 0, 128, 0.5519999999999996)",
           "rgba(219, 64, 82, 0.5519999999999996)",
           "rgba(0, 128, 128, 0.5519999999999996)",
           "rgba(255, 255, 51, 0.5519999999999996)",
           "rgba(128, 128, 0, 0.5519999999999996)",
           "rgba(251, 128, 114, 0.5519999999999996)",
           "rgba(128, 177, 211, 0.5519999999999996)",
           "rgba(255, 153, 51, 0.5519999999999996)",
           "rgba(55, 128, 191, 0.5519999999999996)",
           "rgba(55, 128, 191, 0.5359999999999996)",
           "rgba(50, 171, 96, 0.5359999999999996)",
           "rgba(128, 0, 128, 0.5359999999999996)",
           "rgba(219, 64, 82, 0.5359999999999996)",
           "rgba(0, 128, 128, 0.5359999999999996)",
           "rgba(255, 255, 51, 0.5359999999999996)",
           "rgba(128, 128, 0, 0.5359999999999996)",
           "rgba(251, 128, 114, 0.5359999999999996)",
           "rgba(128, 177, 211, 0.5359999999999996)",
           "rgba(255, 153, 51, 0.5359999999999996)",
           "rgba(255, 153, 51, 0.5199999999999996)",
           "rgba(55, 128, 191, 0.5199999999999996)",
           "rgba(50, 171, 96, 0.5199999999999996)",
           "rgba(128, 0, 128, 0.5199999999999996)",
           "rgba(219, 64, 82, 0.5199999999999996)",
           "rgba(0, 128, 128, 0.5199999999999996)",
           "rgba(255, 255, 51, 0.5199999999999996)",
           "rgba(128, 128, 0, 0.5199999999999996)",
           "rgba(251, 128, 114, 0.5199999999999996)",
           "rgba(128, 177, 211, 0.5199999999999996)",
           "rgba(128, 177, 211, 0.5039999999999996)",
           "rgba(255, 153, 51, 0.5039999999999996)",
           "rgba(55, 128, 191, 0.5039999999999996)",
           "rgba(50, 171, 96, 0.5039999999999996)",
           "rgba(128, 0, 128, 0.5039999999999996)",
           "rgba(219, 64, 82, 0.5039999999999996)",
           "rgba(0, 128, 128, 0.5039999999999996)",
           "rgba(255, 255, 51, 0.5039999999999996)",
           "rgba(128, 128, 0, 0.5039999999999996)",
           "rgba(251, 128, 114, 0.5039999999999996)",
           "rgba(251, 128, 114, 0.4879999999999996)",
           "rgba(128, 177, 211, 0.4879999999999996)",
           "rgba(255, 153, 51, 0.4879999999999996)",
           "rgba(55, 128, 191, 0.4879999999999996)",
           "rgba(50, 171, 96, 0.4879999999999996)",
           "rgba(128, 0, 128, 0.4879999999999996)",
           "rgba(219, 64, 82, 0.4879999999999996)",
           "rgba(0, 128, 128, 0.4879999999999996)",
           "rgba(255, 255, 51, 0.4879999999999996)",
           "rgba(128, 128, 0, 0.4879999999999996)",
           "rgba(128, 128, 0, 0.4719999999999996)",
           "rgba(251, 128, 114, 0.4719999999999996)",
           "rgba(128, 177, 211, 0.4719999999999996)",
           "rgba(255, 153, 51, 0.4719999999999996)",
           "rgba(55, 128, 191, 0.4719999999999996)",
           "rgba(50, 171, 96, 0.4719999999999996)",
           "rgba(128, 0, 128, 0.4719999999999996)",
           "rgba(219, 64, 82, 0.4719999999999996)",
           "rgba(0, 128, 128, 0.4719999999999996)",
           "rgba(255, 255, 51, 0.4719999999999996)",
           "rgba(255, 255, 51, 0.4559999999999996)",
           "rgba(128, 128, 0, 0.4559999999999996)",
           "rgba(251, 128, 114, 0.4559999999999996)",
           "rgba(128, 177, 211, 0.4559999999999996)",
           "rgba(255, 153, 51, 0.4559999999999996)",
           "rgba(55, 128, 191, 0.4559999999999996)",
           "rgba(50, 171, 96, 0.4559999999999996)",
           "rgba(128, 0, 128, 0.4559999999999996)",
           "rgba(219, 64, 82, 0.4559999999999996)",
           "rgba(0, 128, 128, 0.4559999999999996)",
           "rgba(0, 128, 128, 0.43999999999999956)",
           "rgba(255, 255, 51, 0.43999999999999956)",
           "rgba(128, 128, 0, 0.43999999999999956)",
           "rgba(251, 128, 114, 0.43999999999999956)",
           "rgba(128, 177, 211, 0.43999999999999956)",
           "rgba(255, 153, 51, 0.43999999999999956)",
           "rgba(55, 128, 191, 0.43999999999999956)",
           "rgba(50, 171, 96, 0.43999999999999956)",
           "rgba(128, 0, 128, 0.43999999999999956)",
           "rgba(219, 64, 82, 0.43999999999999956)",
           "rgba(219, 64, 82, 0.42399999999999954)",
           "rgba(0, 128, 128, 0.42399999999999954)",
           "rgba(255, 255, 51, 0.42399999999999954)",
           "rgba(128, 128, 0, 0.42399999999999954)",
           "rgba(251, 128, 114, 0.42399999999999954)",
           "rgba(128, 177, 211, 0.42399999999999954)",
           "rgba(255, 153, 51, 0.42399999999999954)",
           "rgba(55, 128, 191, 0.42399999999999954)",
           "rgba(50, 171, 96, 0.42399999999999954)",
           "rgba(128, 0, 128, 0.42399999999999954)",
           "rgba(128, 0, 128, 0.40799999999999953)",
           "rgba(219, 64, 82, 0.40799999999999953)",
           "rgba(0, 128, 128, 0.40799999999999953)",
           "rgba(255, 255, 51, 0.40799999999999953)",
           "rgba(128, 128, 0, 0.40799999999999953)",
           "rgba(251, 128, 114, 0.40799999999999953)",
           "rgba(128, 177, 211, 0.40799999999999953)",
           "rgba(255, 153, 51, 0.40799999999999953)",
           "rgba(55, 128, 191, 0.40799999999999953)",
           "rgba(50, 171, 96, 0.40799999999999953)",
           "rgba(50, 171, 96, 0.3919999999999995)",
           "rgba(128, 0, 128, 0.3919999999999995)",
           "rgba(219, 64, 82, 0.3919999999999995)",
           "rgba(0, 128, 128, 0.3919999999999995)",
           "rgba(255, 255, 51, 0.3919999999999995)",
           "rgba(128, 128, 0, 0.3919999999999995)",
           "rgba(251, 128, 114, 0.3919999999999995)",
           "rgba(128, 177, 211, 0.3919999999999995)",
           "rgba(255, 153, 51, 0.3919999999999995)",
           "rgba(55, 128, 191, 0.3919999999999995)",
           "rgba(55, 128, 191, 0.3759999999999995)",
           "rgba(50, 171, 96, 0.3759999999999995)",
           "rgba(128, 0, 128, 0.3759999999999995)",
           "rgba(219, 64, 82, 0.3759999999999995)",
           "rgba(0, 128, 128, 0.3759999999999995)",
           "rgba(255, 255, 51, 0.3759999999999995)",
           "rgba(128, 128, 0, 0.3759999999999995)",
           "rgba(251, 128, 114, 0.3759999999999995)",
           "rgba(128, 177, 211, 0.3759999999999995)",
           "rgba(255, 153, 51, 0.3759999999999995)",
           "rgba(255, 153, 51, 0.3599999999999995)",
           "rgba(55, 128, 191, 0.3599999999999995)",
           "rgba(50, 171, 96, 0.3599999999999995)",
           "rgba(128, 0, 128, 0.3599999999999995)",
           "rgba(219, 64, 82, 0.3599999999999995)",
           "rgba(0, 128, 128, 0.3599999999999995)",
           "rgba(255, 255, 51, 0.3599999999999995)",
           "rgba(128, 128, 0, 0.3599999999999995)",
           "rgba(251, 128, 114, 0.3599999999999995)",
           "rgba(128, 177, 211, 0.3599999999999995)",
           "rgba(128, 177, 211, 0.3439999999999995)",
           "rgba(255, 153, 51, 0.3439999999999995)",
           "rgba(55, 128, 191, 0.3439999999999995)",
           "rgba(50, 171, 96, 0.3439999999999995)",
           "rgba(128, 0, 128, 0.3439999999999995)",
           "rgba(219, 64, 82, 0.3439999999999995)",
           "rgba(0, 128, 128, 0.3439999999999995)",
           "rgba(255, 255, 51, 0.3439999999999995)",
           "rgba(128, 128, 0, 0.3439999999999995)",
           "rgba(251, 128, 114, 0.3439999999999995)",
           "rgba(251, 128, 114, 0.32799999999999946)",
           "rgba(128, 177, 211, 0.32799999999999946)",
           "rgba(255, 153, 51, 0.32799999999999946)",
           "rgba(55, 128, 191, 0.32799999999999946)",
           "rgba(50, 171, 96, 0.32799999999999946)",
           "rgba(128, 0, 128, 0.32799999999999946)",
           "rgba(219, 64, 82, 0.32799999999999946)",
           "rgba(0, 128, 128, 0.32799999999999946)",
           "rgba(255, 255, 51, 0.32799999999999946)",
           "rgba(128, 128, 0, 0.32799999999999946)",
           "rgba(128, 128, 0, 0.31199999999999944)",
           "rgba(251, 128, 114, 0.31199999999999944)",
           "rgba(128, 177, 211, 0.31199999999999944)",
           "rgba(255, 153, 51, 0.31199999999999944)",
           "rgba(55, 128, 191, 0.31199999999999944)",
           "rgba(50, 171, 96, 0.31199999999999944)",
           "rgba(128, 0, 128, 0.31199999999999944)",
           "rgba(219, 64, 82, 0.31199999999999944)",
           "rgba(0, 128, 128, 0.31199999999999944)",
           "rgba(255, 255, 51, 0.31199999999999944)",
           "rgba(255, 255, 51, 0.29599999999999943)",
           "rgba(128, 128, 0, 0.29599999999999943)",
           "rgba(251, 128, 114, 0.29599999999999943)",
           "rgba(128, 177, 211, 0.29599999999999943)",
           "rgba(255, 153, 51, 0.29599999999999943)",
           "rgba(55, 128, 191, 0.29599999999999943)",
           "rgba(50, 171, 96, 0.29599999999999943)",
           "rgba(128, 0, 128, 0.29599999999999943)",
           "rgba(219, 64, 82, 0.29599999999999943)",
           "rgba(0, 128, 128, 0.29599999999999943)",
           "rgba(0, 128, 128, 0.2799999999999994)",
           "rgba(255, 255, 51, 0.2799999999999994)",
           "rgba(128, 128, 0, 0.2799999999999994)",
           "rgba(251, 128, 114, 0.2799999999999994)",
           "rgba(128, 177, 211, 0.2799999999999994)",
           "rgba(255, 153, 51, 0.2799999999999994)",
           "rgba(55, 128, 191, 0.2799999999999994)",
           "rgba(50, 171, 96, 0.2799999999999994)",
           "rgba(128, 0, 128, 0.2799999999999994)",
           "rgba(219, 64, 82, 0.2799999999999994)",
           "rgba(219, 64, 82, 0.2639999999999994)",
           "rgba(0, 128, 128, 0.2639999999999994)",
           "rgba(255, 255, 51, 0.2639999999999994)",
           "rgba(128, 128, 0, 0.2639999999999994)",
           "rgba(251, 128, 114, 0.2639999999999994)",
           "rgba(128, 177, 211, 0.2639999999999994)",
           "rgba(255, 153, 51, 0.2639999999999994)",
           "rgba(55, 128, 191, 0.2639999999999994)",
           "rgba(50, 171, 96, 0.2639999999999994)",
           "rgba(128, 0, 128, 0.2639999999999994)",
           "rgba(128, 0, 128, 0.2479999999999994)",
           "rgba(219, 64, 82, 0.2479999999999994)",
           "rgba(0, 128, 128, 0.2479999999999994)",
           "rgba(255, 255, 51, 0.2479999999999994)",
           "rgba(128, 128, 0, 0.2479999999999994)",
           "rgba(251, 128, 114, 0.2479999999999994)",
           "rgba(128, 177, 211, 0.2479999999999994)",
           "rgba(255, 153, 51, 0.2479999999999994)",
           "rgba(55, 128, 191, 0.2479999999999994)",
           "rgba(50, 171, 96, 0.2479999999999994)",
           "rgba(50, 171, 96, 0.23199999999999937)",
           "rgba(128, 0, 128, 0.23199999999999937)",
           "rgba(219, 64, 82, 0.23199999999999937)",
           "rgba(0, 128, 128, 0.23199999999999937)",
           "rgba(255, 255, 51, 0.23199999999999937)",
           "rgba(128, 128, 0, 0.23199999999999937)",
           "rgba(251, 128, 114, 0.23199999999999937)",
           "rgba(128, 177, 211, 0.23199999999999937)",
           "rgba(255, 153, 51, 0.23199999999999937)",
           "rgba(55, 128, 191, 0.23199999999999937)",
           "rgba(55, 128, 191, 0.21599999999999936)",
           "rgba(50, 171, 96, 0.21599999999999936)",
           "rgba(128, 0, 128, 0.21599999999999936)",
           "rgba(219, 64, 82, 0.21599999999999936)",
           "rgba(0, 128, 128, 0.21599999999999936)",
           "rgba(255, 255, 51, 0.21599999999999936)",
           "rgba(128, 128, 0, 0.21599999999999936)",
           "rgba(251, 128, 114, 0.21599999999999936)",
           "rgba(128, 177, 211, 0.21599999999999936)",
           "rgba(255, 153, 51, 0.21599999999999936)"
          ]
         },
         "name": "",
         "type": "pie",
         "values": [
          4147,
          323,
          6622,
          11136,
          2718,
          4972,
          15271,
          17290,
          1042,
          6818,
          13141,
          5046,
          11615,
          4301,
          8655,
          14113,
          15435,
          18451,
          11850,
          1075,
          5340,
          13972,
          17002,
          7786,
          10776,
          15203,
          2644,
          1905,
          7467,
          15005,
          1811,
          17812,
          1193,
          14118,
          17536,
          8159,
          16123,
          5606,
          6292,
          7740,
          8678,
          5861,
          10948,
          11079,
          14928,
          19940,
          10598,
          17134,
          3276,
          17751,
          6679,
          8929,
          329,
          17094,
          1964,
          19702,
          13813,
          6169,
          11000,
          6683,
          843,
          5397,
          12976,
          2169,
          7287,
          10720,
          765,
          18989,
          3105,
          7445,
          15063,
          1505,
          18313,
          13681,
          17964,
          8497,
          17993,
          19143,
          19529,
          1683,
          14008,
          10941,
          6220,
          19260,
          4237,
          16177,
          5179,
          17215,
          15893,
          8761,
          14137,
          19389,
          12523,
          2005,
          18641,
          15534,
          11182,
          5966,
          16126,
          7321,
          15413,
          19181,
          1462,
          8899,
          2576,
          5636,
          12806,
          4016,
          3969,
          524,
          2119,
          10678,
          4053,
          3187,
          19309,
          10368,
          8613,
          10193,
          5357,
          2382,
          6208,
          10549,
          816,
          18194,
          8905,
          18329,
          7115,
          4029,
          16227,
          7714,
          2080,
          11990,
          15730,
          8853,
          15433,
          17380,
          470,
          6791,
          15059,
          13822,
          7398,
          11801,
          4896,
          14635,
          630,
          4804,
          18922,
          3859,
          14219,
          11151,
          6482,
          1349,
          5071,
          817,
          4797,
          4487,
          976,
          10183,
          16103,
          11848,
          10499,
          12612,
          12150,
          16810,
          12721,
          6565,
          9184,
          3394,
          3476,
          5950,
          5333,
          16308,
          12335,
          7684,
          13272,
          7289,
          2646,
          521,
          232,
          6205,
          7532,
          7855,
          17138,
          7286,
          11806,
          3117,
          8040,
          7129,
          12807,
          19162,
          13069,
          14360,
          18702,
          12122,
          7827,
          13114,
          7883,
          13923,
          19120,
          793,
          18102,
          18871,
          14426,
          6793,
          18189,
          10936,
          7469,
          5498,
          15316,
          7440,
          4861,
          2494,
          493,
          12956,
          14418,
          7258,
          17418,
          3869,
          18691,
          783,
          12555,
          5121,
          9706,
          18841,
          15995,
          9767,
          11481,
          12667,
          18165,
          3232,
          7774,
          19292,
          16195,
          13617,
          15572,
          17150,
          26,
          18671,
          10944,
          2464,
          9972,
          8087,
          2432,
          7115,
          17953,
          19949,
          15786,
          15322,
          15592,
          5045,
          8185,
          18655,
          5195,
          12084,
          19979,
          12431,
          4017,
          3490,
          5849,
          14242,
          18018,
          11804,
          2658,
          12210,
          11362,
          16404,
          163,
          2258,
          14914,
          2440,
          6159,
          18432,
          19969,
          19915,
          16857,
          18571,
          14952,
          2012,
          13059,
          18684,
          1067,
          3946,
          1342,
          11461,
          8548,
          160,
          16191,
          18407,
          2898,
          13411,
          6433,
          17380,
          1972,
          6779,
          5637,
          15793,
          8552,
          10243,
          7169,
          1205,
          15006,
          13091,
          1485,
          4180,
          1021,
          5153,
          13067,
          14657,
          574,
          13393,
          12472,
          6941,
          17999,
          13106,
          11670,
          15023,
          11435,
          1406,
          3234,
          14731,
          2493,
          11862,
          11258,
          18581,
          19683,
          11675,
          16966,
          13790,
          13855,
          18869,
          5703,
          14365,
          15017,
          17390,
          12536,
          13046,
          14379,
          13295,
          10450,
          11774,
          11671,
          11984,
          18899,
          6519,
          3732,
          6832,
          5823,
          6218,
          16387,
          16702,
          8188,
          3943,
          8272,
          560,
          7754,
          15725,
          7493,
          4242,
          11504,
          11824,
          9377,
          7106,
          8191,
          15818,
          4356,
          7915,
          16316,
          1376,
          1171,
          6989,
          6128,
          17183,
          4557,
          11722,
          4480,
          8798,
          6479,
          6070,
          17957,
          4070,
          18052,
          6941,
          5480,
          3328,
          12335,
          12049,
          19651,
          2702,
          7973,
          18045,
          2769,
          17762,
          18693,
          2323,
          18027,
          19327,
          10012,
          19113,
          411,
          57,
          11795,
          13696,
          7493,
          10748,
          19336,
          16810,
          910,
          3210,
          16172,
          5756,
          19860,
          8367,
          1393,
          4770,
          14782,
          15792,
          19543,
          14136,
          2458,
          14194,
          8033,
          18361,
          14937,
          11458,
          9795,
          10048,
          16895,
          8655,
          14176,
          5759,
          16031,
          14360,
          16562,
          4010,
          16099,
          18061,
          15558,
          16481,
          18653,
          13572,
          2259,
          8290,
          2275,
          11627,
          4099,
          1554,
          10293,
          18442,
          2797,
          9935,
          18276,
          6585,
          4477,
          13507,
          2100,
          15149,
          13226,
          11041,
          11041,
          11390,
          8403,
          15842,
          18668,
          12441,
          16245,
          10570,
          10859,
          2390,
          11381,
          15294,
          18728,
          10965,
          125,
          8721,
          5084,
          7573,
          6259,
          9488,
          5920,
          8688,
          16348,
          14058,
          19287,
          16796,
          13030,
          10010,
          14891,
          3269,
          13973,
          3240,
          3236,
          19451,
          16168,
          4004,
          19679,
          17376,
          6917,
          12247,
          8295,
          5254
         ]
        }
       ],
       "layout": {
        "autosize": true,
        "legend": {
         "bgcolor": "#F5F6F9",
         "font": {
          "color": "#4D5663"
         }
        },
        "paper_bgcolor": "#F5F6F9",
        "plot_bgcolor": "#F5F6F9",
        "title": {
         "font": {
          "color": "#4D5663"
         }
        }
       }
      },
      "image/png": "[encoded data removed]",
      "text/html": [
       "<div>                            <div id=\"ddf462af-f687-4075-96b1-54465c08f647\" class=\"plotly-graph-div\" style=\"height:525px; width:100%;\"></div>            <script type=\"text/javascript\">                require([\"plotly\"], function(Plotly) {                    window.PLOTLYENV=window.PLOTLYENV || {};\n",
       "                    window.PLOTLYENV.BASE_URL='https://plot.ly';                                    if (document.getElementById(\"ddf462af-f687-4075-96b1-54465c08f647\")) {                    Plotly.newPlot(                        \"ddf462af-f687-4075-96b1-54465c08f647\",                        [{\"labels\":[\"stressed\",\"sad\",\"sad\",\"tired\",\"tired\",\"happy\",\"happy\",\"energetic\",\"happy\",\"stressed\",\"tired\",\"happy\",\"stressed\",\"happy\",\"happy\",\"stressed\",\"energetic\",\"sad\",\"stressed\",\"sad\",\"happy\",\"energetic\",\"tired\",\"stressed\",\"sad\",\"energetic\",\"sad\",\"stressed\",\"sad\",\"happy\",\"stressed\",\"stressed\",\"energetic\",\"stressed\",\"tired\",\"tired\",\"sad\",\"tired\",\"tired\",\"stressed\",\"stressed\",\"energetic\",\"energetic\",\"tired\",\"happy\",\"tired\",\"energetic\",\"stressed\",\"stressed\",\"happy\",\"stressed\",\"tired\",\"happy\",\"sad\",\"happy\",\"happy\",\"tired\",\"energetic\",\"energetic\",\"tired\",\"tired\",\"sad\",\"sad\",\"tired\",\"happy\",\"tired\",\"sad\",\"stressed\",\"happy\",\"tired\",\"energetic\",\"happy\",\"stressed\",\"tired\",\"sad\",\"happy\",\"stressed\",\"happy\",\"stressed\",\"stressed\",\"energetic\",\"happy\",\"tired\",\"stressed\",\"tired\",\"tired\",\"tired\",\"stressed\",\"tired\",\"sad\",\"sad\",\"sad\",\"energetic\",\"stressed\",\"tired\",\"happy\",\"happy\",\"tired\",\"happy\",\"stressed\",\"energetic\",\"sad\",\"stressed\",\"stressed\",\"sad\",\"stressed\",\"tired\",\"happy\",\"energetic\",\"sad\",\"energetic\",\"tired\",\"tired\",\"tired\",\"tired\",\"energetic\",\"happy\",\"energetic\",\"sad\",\"tired\",\"sad\",\"sad\",\"energetic\",\"stressed\",\"stressed\",\"energetic\",\"happy\",\"happy\",\"stressed\",\"sad\",\"sad\",\"happy\",\"energetic\",\"sad\",\"happy\",\"tired\",\"tired\",\"happy\",\"energetic\",\"sad\",\"happy\",\"sad\",\"happy\",\"stressed\",\"sad\",\"stressed\",\"energetic\",\"stressed\",\"energetic\",\"happy\",\"stressed\",\"happy\",\"tired\",\"energetic\",\"energetic\",\"happy\",\"happy\",\"tired\",\"sad\",\"stressed\",\"sad\",\"tired\",\"tired\",\"energetic\",\"energetic\",\"energetic\",\"tired\",\"stressed\",\"stressed\",\"stressed\",\"sad\",\"energetic\",\"sad\",\"stressed\",\"sad\",\"energetic\",\"happy\",\"energetic\",\"energetic\",\"energetic\",\"stressed\",\"happy\",\"energetic\",\"tired\",\"tired\",\"happy\",\"energetic\",\"tired\",\"happy\",\"stressed\",\"happy\",\"energetic\",\"happy\",\"sad\",\"happy\",\"tired\",\"energetic\",\"sad\",\"sad\",\"happy\",\"energetic\",\"sad\",\"sad\",\"energetic\",\"sad\",\"sad\",\"energetic\",\"stressed\",\"energetic\",\"happy\",\"stressed\",\"stressed\",\"happy\",\"stressed\",\"tired\",\"sad\",\"stressed\",\"energetic\",\"stressed\",\"happy\",\"happy\",\"sad\",\"happy\",\"stressed\",\"stressed\",\"energetic\",\"energetic\",\"stressed\",\"energetic\",\"stressed\",\"tired\",\"stressed\",\"stressed\",\"sad\",\"stressed\",\"sad\",\"stressed\",\"tired\",\"stressed\",\"stressed\",\"sad\",\"stressed\",\"energetic\",\"energetic\",\"energetic\",\"tired\",\"sad\",\"sad\",\"happy\",\"sad\",\"sad\",\"sad\",\"happy\",\"sad\",\"energetic\",\"energetic\",\"happy\",\"stressed\",\"happy\",\"happy\",\"sad\",\"happy\",\"happy\",\"stressed\",\"tired\",\"energetic\",\"sad\",\"energetic\",\"energetic\",\"tired\",\"sad\",\"stressed\",\"sad\",\"energetic\",\"tired\",\"stressed\",\"energetic\",\"stressed\",\"energetic\",\"sad\",\"tired\",\"happy\",\"energetic\",\"stressed\",\"energetic\",\"happy\",\"happy\",\"happy\",\"stressed\",\"tired\",\"tired\",\"happy\",\"tired\",\"sad\",\"sad\",\"happy\",\"tired\",\"tired\",\"energetic\",\"energetic\",\"happy\",\"energetic\",\"sad\",\"sad\",\"sad\",\"sad\",\"tired\",\"tired\",\"sad\",\"happy\",\"energetic\",\"tired\",\"energetic\",\"happy\",\"energetic\",\"energetic\",\"tired\",\"stressed\",\"happy\",\"tired\",\"energetic\",\"energetic\",\"tired\",\"tired\",\"happy\",\"sad\",\"stressed\",\"energetic\",\"happy\",\"stressed\",\"energetic\",\"happy\",\"stressed\",\"energetic\",\"sad\",\"stressed\",\"stressed\",\"happy\",\"stressed\",\"happy\",\"happy\",\"sad\",\"happy\",\"tired\",\"happy\",\"happy\",\"happy\",\"energetic\",\"happy\",\"stressed\",\"stressed\",\"stressed\",\"energetic\",\"sad\",\"sad\",\"happy\",\"happy\",\"energetic\",\"tired\",\"energetic\",\"sad\",\"happy\",\"stressed\",\"stressed\",\"sad\",\"tired\",\"happy\",\"tired\",\"tired\",\"stressed\",\"energetic\",\"tired\",\"energetic\",\"sad\",\"sad\",\"tired\",\"energetic\",\"tired\",\"stressed\",\"tired\",\"sad\",\"happy\",\"sad\",\"stressed\",\"happy\",\"sad\",\"tired\",\"stressed\",\"sad\",\"happy\",\"stressed\",\"stressed\",\"tired\",\"stressed\",\"energetic\",\"stressed\",\"stressed\",\"happy\",\"energetic\",\"stressed\",\"stressed\",\"tired\",\"happy\",\"tired\",\"happy\",\"stressed\",\"happy\",\"happy\",\"sad\",\"happy\",\"happy\",\"happy\",\"sad\",\"energetic\",\"energetic\",\"energetic\",\"happy\",\"happy\",\"stressed\",\"stressed\",\"happy\",\"tired\",\"stressed\",\"tired\",\"energetic\",\"happy\",\"stressed\",\"stressed\",\"stressed\",\"stressed\",\"happy\",\"happy\",\"stressed\",\"stressed\",\"energetic\",\"energetic\",\"sad\",\"happy\",\"tired\",\"stressed\",\"happy\",\"happy\",\"sad\",\"happy\",\"sad\",\"stressed\",\"sad\",\"energetic\",\"sad\",\"happy\",\"happy\",\"sad\",\"happy\",\"energetic\",\"energetic\",\"energetic\",\"sad\",\"tired\",\"happy\",\"happy\",\"sad\",\"tired\",\"tired\",\"energetic\",\"tired\",\"sad\",\"stressed\",\"tired\",\"stressed\",\"happy\",\"tired\",\"sad\",\"sad\",\"energetic\",\"happy\",\"sad\",\"sad\",\"tired\",\"happy\",\"sad\",\"tired\",\"sad\",\"energetic\",\"energetic\",\"stressed\",\"sad\",\"energetic\",\"tired\",\"energetic\",\"stressed\",\"tired\",\"tired\",\"stressed\",\"tired\",\"sad\",\"energetic\",\"sad\",\"happy\",\"stressed\",\"sad\"],\"marker\":{\"colors\":[\"rgba(255, 153, 51, 1.0)\",\"rgba(55, 128, 191, 1.0)\",\"rgba(50, 171, 96, 1.0)\",\"rgba(128, 0, 128, 1.0)\",\"rgba(219, 64, 82, 1.0)\",\"rgba(0, 128, 128, 1.0)\",\"rgba(255, 255, 51, 1.0)\",\"rgba(128, 128, 0, 1.0)\",\"rgba(251, 128, 114, 1.0)\",\"rgba(128, 177, 211, 1.0)\",\"rgba(128, 177, 211, 0.984)\",\"rgba(255, 153, 51, 0.984)\",\"rgba(55, 128, 191, 0.984)\",\"rgba(50, 171, 96, 0.984)\",\"rgba(128, 0, 128, 0.984)\",\"rgba(219, 64, 82, 0.984)\",\"rgba(0, 128, 128, 0.984)\",\"rgba(255, 255, 51, 0.984)\",\"rgba(128, 128, 0, 0.984)\",\"rgba(251, 128, 114, 0.984)\",\"rgba(251, 128, 114, 0.968)\",\"rgba(128, 177, 211, 0.968)\",\"rgba(255, 153, 51, 0.968)\",\"rgba(55, 128, 191, 0.968)\",\"rgba(50, 171, 96, 0.968)\",\"rgba(128, 0, 128, 0.968)\",\"rgba(219, 64, 82, 0.968)\",\"rgba(0, 128, 128, 0.968)\",\"rgba(255, 255, 51, 0.968)\",\"rgba(128, 128, 0, 0.968)\",\"rgba(128, 128, 0, 0.952)\",\"rgba(251, 128, 114, 0.952)\",\"rgba(128, 177, 211, 0.952)\",\"rgba(255, 153, 51, 0.952)\",\"rgba(55, 128, 191, 0.952)\",\"rgba(50, 171, 96, 0.952)\",\"rgba(128, 0, 128, 0.952)\",\"rgba(219, 64, 82, 0.952)\",\"rgba(0, 128, 128, 0.952)\",\"rgba(255, 255, 51, 0.952)\",\"rgba(255, 255, 51, 0.9359999999999999)\",\"rgba(128, 128, 0, 0.9359999999999999)\",\"rgba(251, 128, 114, 0.9359999999999999)\",\"rgba(128, 177, 211, 0.9359999999999999)\",\"rgba(255, 153, 51, 0.9359999999999999)\",\"rgba(55, 128, 191, 0.9359999999999999)\",\"rgba(50, 171, 96, 0.9359999999999999)\",\"rgba(128, 0, 128, 0.9359999999999999)\",\"rgba(219, 64, 82, 0.9359999999999999)\",\"rgba(0, 128, 128, 0.9359999999999999)\",\"rgba(0, 128, 128, 0.9199999999999999)\",\"rgba(255, 255, 51, 0.9199999999999999)\",\"rgba(128, 128, 0, 0.9199999999999999)\",\"rgba(251, 128, 114, 0.9199999999999999)\",\"rgba(128, 177, 211, 0.9199999999999999)\",\"rgba(255, 153, 51, 0.9199999999999999)\",\"rgba(55, 128, 191, 0.9199999999999999)\",\"rgba(50, 171, 96, 0.9199999999999999)\",\"rgba(128, 0, 128, 0.9199999999999999)\",\"rgba(219, 64, 82, 0.9199999999999999)\",\"rgba(219, 64, 82, 0.9039999999999999)\",\"rgba(0, 128, 128, 0.9039999999999999)\",\"rgba(255, 255, 51, 0.9039999999999999)\",\"rgba(128, 128, 0, 0.9039999999999999)\",\"rgba(251, 128, 114, 0.9039999999999999)\",\"rgba(128, 177, 211, 0.9039999999999999)\",\"rgba(255, 153, 51, 0.9039999999999999)\",\"rgba(55, 128, 191, 0.9039999999999999)\",\"rgba(50, 171, 96, 0.9039999999999999)\",\"rgba(128, 0, 128, 0.9039999999999999)\",\"rgba(128, 0, 128, 0.8879999999999999)\",\"rgba(219, 64, 82, 0.8879999999999999)\",\"rgba(0, 128, 128, 0.8879999999999999)\",\"rgba(255, 255, 51, 0.8879999999999999)\",\"rgba(128, 128, 0, 0.8879999999999999)\",\"rgba(251, 128, 114, 0.8879999999999999)\",\"rgba(128, 177, 211, 0.8879999999999999)\",\"rgba(255, 153, 51, 0.8879999999999999)\",\"rgba(55, 128, 191, 0.8879999999999999)\",\"rgba(50, 171, 96, 0.8879999999999999)\",\"rgba(50, 171, 96, 0.8719999999999999)\",\"rgba(128, 0, 128, 0.8719999999999999)\",\"rgba(219, 64, 82, 0.8719999999999999)\",\"rgba(0, 128, 128, 0.8719999999999999)\",\"rgba(255, 255, 51, 0.8719999999999999)\",\"rgba(128, 128, 0, 0.8719999999999999)\",\"rgba(251, 128, 114, 0.8719999999999999)\",\"rgba(128, 177, 211, 0.8719999999999999)\",\"rgba(255, 153, 51, 0.8719999999999999)\",\"rgba(55, 128, 191, 0.8719999999999999)\",\"rgba(55, 128, 191, 0.8559999999999999)\",\"rgba(50, 171, 96, 0.8559999999999999)\",\"rgba(128, 0, 128, 0.8559999999999999)\",\"rgba(219, 64, 82, 0.8559999999999999)\",\"rgba(0, 128, 128, 0.8559999999999999)\",\"rgba(255, 255, 51, 0.8559999999999999)\",\"rgba(128, 128, 0, 0.8559999999999999)\",\"rgba(251, 128, 114, 0.8559999999999999)\",\"rgba(128, 177, 211, 0.8559999999999999)\",\"rgba(255, 153, 51, 0.8559999999999999)\",\"rgba(255, 153, 51, 0.8399999999999999)\",\"rgba(55, 128, 191, 0.8399999999999999)\",\"rgba(50, 171, 96, 0.8399999999999999)\",\"rgba(128, 0, 128, 0.8399999999999999)\",\"rgba(219, 64, 82, 0.8399999999999999)\",\"rgba(0, 128, 128, 0.8399999999999999)\",\"rgba(255, 255, 51, 0.8399999999999999)\",\"rgba(128, 128, 0, 0.8399999999999999)\",\"rgba(251, 128, 114, 0.8399999999999999)\",\"rgba(128, 177, 211, 0.8399999999999999)\",\"rgba(128, 177, 211, 0.8239999999999998)\",\"rgba(255, 153, 51, 0.8239999999999998)\",\"rgba(55, 128, 191, 0.8239999999999998)\",\"rgba(50, 171, 96, 0.8239999999999998)\",\"rgba(128, 0, 128, 0.8239999999999998)\",\"rgba(219, 64, 82, 0.8239999999999998)\",\"rgba(0, 128, 128, 0.8239999999999998)\",\"rgba(255, 255, 51, 0.8239999999999998)\",\"rgba(128, 128, 0, 0.8239999999999998)\",\"rgba(251, 128, 114, 0.8239999999999998)\",\"rgba(251, 128, 114, 0.8079999999999998)\",\"rgba(128, 177, 211, 0.8079999999999998)\",\"rgba(255, 153, 51, 0.8079999999999998)\",\"rgba(55, 128, 191, 0.8079999999999998)\",\"rgba(50, 171, 96, 0.8079999999999998)\",\"rgba(128, 0, 128, 0.8079999999999998)\",\"rgba(219, 64, 82, 0.8079999999999998)\",\"rgba(0, 128, 128, 0.8079999999999998)\",\"rgba(255, 255, 51, 0.8079999999999998)\",\"rgba(128, 128, 0, 0.8079999999999998)\",\"rgba(128, 128, 0, 0.7919999999999998)\",\"rgba(251, 128, 114, 0.7919999999999998)\",\"rgba(128, 177, 211, 0.7919999999999998)\",\"rgba(255, 153, 51, 0.7919999999999998)\",\"rgba(55, 128, 191, 0.7919999999999998)\",\"rgba(50, 171, 96, 0.7919999999999998)\",\"rgba(128, 0, 128, 0.7919999999999998)\",\"rgba(219, 64, 82, 0.7919999999999998)\",\"rgba(0, 128, 128, 0.7919999999999998)\",\"rgba(255, 255, 51, 0.7919999999999998)\",\"rgba(255, 255, 51, 0.7759999999999998)\",\"rgba(128, 128, 0, 0.7759999999999998)\",\"rgba(251, 128, 114, 0.7759999999999998)\",\"rgba(128, 177, 211, 0.7759999999999998)\",\"rgba(255, 153, 51, 0.7759999999999998)\",\"rgba(55, 128, 191, 0.7759999999999998)\",\"rgba(50, 171, 96, 0.7759999999999998)\",\"rgba(128, 0, 128, 0.7759999999999998)\",\"rgba(219, 64, 82, 0.7759999999999998)\",\"rgba(0, 128, 128, 0.7759999999999998)\",\"rgba(0, 128, 128, 0.7599999999999998)\",\"rgba(255, 255, 51, 0.7599999999999998)\",\"rgba(128, 128, 0, 0.7599999999999998)\",\"rgba(251, 128, 114, 0.7599999999999998)\",\"rgba(128, 177, 211, 0.7599999999999998)\",\"rgba(255, 153, 51, 0.7599999999999998)\",\"rgba(55, 128, 191, 0.7599999999999998)\",\"rgba(50, 171, 96, 0.7599999999999998)\",\"rgba(128, 0, 128, 0.7599999999999998)\",\"rgba(219, 64, 82, 0.7599999999999998)\",\"rgba(219, 64, 82, 0.7439999999999998)\",\"rgba(0, 128, 128, 0.7439999999999998)\",\"rgba(255, 255, 51, 0.7439999999999998)\",\"rgba(128, 128, 0, 0.7439999999999998)\",\"rgba(251, 128, 114, 0.7439999999999998)\",\"rgba(128, 177, 211, 0.7439999999999998)\",\"rgba(255, 153, 51, 0.7439999999999998)\",\"rgba(55, 128, 191, 0.7439999999999998)\",\"rgba(50, 171, 96, 0.7439999999999998)\",\"rgba(128, 0, 128, 0.7439999999999998)\",\"rgba(128, 0, 128, 0.7279999999999998)\",\"rgba(219, 64, 82, 0.7279999999999998)\",\"rgba(0, 128, 128, 0.7279999999999998)\",\"rgba(255, 255, 51, 0.7279999999999998)\",\"rgba(128, 128, 0, 0.7279999999999998)\",\"rgba(251, 128, 114, 0.7279999999999998)\",\"rgba(128, 177, 211, 0.7279999999999998)\",\"rgba(255, 153, 51, 0.7279999999999998)\",\"rgba(55, 128, 191, 0.7279999999999998)\",\"rgba(50, 171, 96, 0.7279999999999998)\",\"rgba(50, 171, 96, 0.7119999999999997)\",\"rgba(128, 0, 128, 0.7119999999999997)\",\"rgba(219, 64, 82, 0.7119999999999997)\",\"rgba(0, 128, 128, 0.7119999999999997)\",\"rgba(255, 255, 51, 0.7119999999999997)\",\"rgba(128, 128, 0, 0.7119999999999997)\",\"rgba(251, 128, 114, 0.7119999999999997)\",\"rgba(128, 177, 211, 0.7119999999999997)\",\"rgba(255, 153, 51, 0.7119999999999997)\",\"rgba(55, 128, 191, 0.7119999999999997)\",\"rgba(55, 128, 191, 0.6959999999999997)\",\"rgba(50, 171, 96, 0.6959999999999997)\",\"rgba(128, 0, 128, 0.6959999999999997)\",\"rgba(219, 64, 82, 0.6959999999999997)\",\"rgba(0, 128, 128, 0.6959999999999997)\",\"rgba(255, 255, 51, 0.6959999999999997)\",\"rgba(128, 128, 0, 0.6959999999999997)\",\"rgba(251, 128, 114, 0.6959999999999997)\",\"rgba(128, 177, 211, 0.6959999999999997)\",\"rgba(255, 153, 51, 0.6959999999999997)\",\"rgba(255, 153, 51, 0.6799999999999997)\",\"rgba(55, 128, 191, 0.6799999999999997)\",\"rgba(50, 171, 96, 0.6799999999999997)\",\"rgba(128, 0, 128, 0.6799999999999997)\",\"rgba(219, 64, 82, 0.6799999999999997)\",\"rgba(0, 128, 128, 0.6799999999999997)\",\"rgba(255, 255, 51, 0.6799999999999997)\",\"rgba(128, 128, 0, 0.6799999999999997)\",\"rgba(251, 128, 114, 0.6799999999999997)\",\"rgba(128, 177, 211, 0.6799999999999997)\",\"rgba(128, 177, 211, 0.6639999999999997)\",\"rgba(255, 153, 51, 0.6639999999999997)\",\"rgba(55, 128, 191, 0.6639999999999997)\",\"rgba(50, 171, 96, 0.6639999999999997)\",\"rgba(128, 0, 128, 0.6639999999999997)\",\"rgba(219, 64, 82, 0.6639999999999997)\",\"rgba(0, 128, 128, 0.6639999999999997)\",\"rgba(255, 255, 51, 0.6639999999999997)\",\"rgba(128, 128, 0, 0.6639999999999997)\",\"rgba(251, 128, 114, 0.6639999999999997)\",\"rgba(251, 128, 114, 0.6479999999999997)\",\"rgba(128, 177, 211, 0.6479999999999997)\",\"rgba(255, 153, 51, 0.6479999999999997)\",\"rgba(55, 128, 191, 0.6479999999999997)\",\"rgba(50, 171, 96, 0.6479999999999997)\",\"rgba(128, 0, 128, 0.6479999999999997)\",\"rgba(219, 64, 82, 0.6479999999999997)\",\"rgba(0, 128, 128, 0.6479999999999997)\",\"rgba(255, 255, 51, 0.6479999999999997)\",\"rgba(128, 128, 0, 0.6479999999999997)\",\"rgba(128, 128, 0, 0.6319999999999997)\",\"rgba(251, 128, 114, 0.6319999999999997)\",\"rgba(128, 177, 211, 0.6319999999999997)\",\"rgba(255, 153, 51, 0.6319999999999997)\",\"rgba(55, 128, 191, 0.6319999999999997)\",\"rgba(50, 171, 96, 0.6319999999999997)\",\"rgba(128, 0, 128, 0.6319999999999997)\",\"rgba(219, 64, 82, 0.6319999999999997)\",\"rgba(0, 128, 128, 0.6319999999999997)\",\"rgba(255, 255, 51, 0.6319999999999997)\",\"rgba(255, 255, 51, 0.6159999999999997)\",\"rgba(128, 128, 0, 0.6159999999999997)\",\"rgba(251, 128, 114, 0.6159999999999997)\",\"rgba(128, 177, 211, 0.6159999999999997)\",\"rgba(255, 153, 51, 0.6159999999999997)\",\"rgba(55, 128, 191, 0.6159999999999997)\",\"rgba(50, 171, 96, 0.6159999999999997)\",\"rgba(128, 0, 128, 0.6159999999999997)\",\"rgba(219, 64, 82, 0.6159999999999997)\",\"rgba(0, 128, 128, 0.6159999999999997)\",\"rgba(0, 128, 128, 0.5999999999999996)\",\"rgba(255, 255, 51, 0.5999999999999996)\",\"rgba(128, 128, 0, 0.5999999999999996)\",\"rgba(251, 128, 114, 0.5999999999999996)\",\"rgba(128, 177, 211, 0.5999999999999996)\",\"rgba(255, 153, 51, 0.5999999999999996)\",\"rgba(55, 128, 191, 0.5999999999999996)\",\"rgba(50, 171, 96, 0.5999999999999996)\",\"rgba(128, 0, 128, 0.5999999999999996)\",\"rgba(219, 64, 82, 0.5999999999999996)\",\"rgba(219, 64, 82, 0.5839999999999996)\",\"rgba(0, 128, 128, 0.5839999999999996)\",\"rgba(255, 255, 51, 0.5839999999999996)\",\"rgba(128, 128, 0, 0.5839999999999996)\",\"rgba(251, 128, 114, 0.5839999999999996)\",\"rgba(128, 177, 211, 0.5839999999999996)\",\"rgba(255, 153, 51, 0.5839999999999996)\",\"rgba(55, 128, 191, 0.5839999999999996)\",\"rgba(50, 171, 96, 0.5839999999999996)\",\"rgba(128, 0, 128, 0.5839999999999996)\",\"rgba(128, 0, 128, 0.5679999999999996)\",\"rgba(219, 64, 82, 0.5679999999999996)\",\"rgba(0, 128, 128, 0.5679999999999996)\",\"rgba(255, 255, 51, 0.5679999999999996)\",\"rgba(128, 128, 0, 0.5679999999999996)\",\"rgba(251, 128, 114, 0.5679999999999996)\",\"rgba(128, 177, 211, 0.5679999999999996)\",\"rgba(255, 153, 51, 0.5679999999999996)\",\"rgba(55, 128, 191, 0.5679999999999996)\",\"rgba(50, 171, 96, 0.5679999999999996)\",\"rgba(50, 171, 96, 0.5519999999999996)\",\"rgba(128, 0, 128, 0.5519999999999996)\",\"rgba(219, 64, 82, 0.5519999999999996)\",\"rgba(0, 128, 128, 0.5519999999999996)\",\"rgba(255, 255, 51, 0.5519999999999996)\",\"rgba(128, 128, 0, 0.5519999999999996)\",\"rgba(251, 128, 114, 0.5519999999999996)\",\"rgba(128, 177, 211, 0.5519999999999996)\",\"rgba(255, 153, 51, 0.5519999999999996)\",\"rgba(55, 128, 191, 0.5519999999999996)\",\"rgba(55, 128, 191, 0.5359999999999996)\",\"rgba(50, 171, 96, 0.5359999999999996)\",\"rgba(128, 0, 128, 0.5359999999999996)\",\"rgba(219, 64, 82, 0.5359999999999996)\",\"rgba(0, 128, 128, 0.5359999999999996)\",\"rgba(255, 255, 51, 0.5359999999999996)\",\"rgba(128, 128, 0, 0.5359999999999996)\",\"rgba(251, 128, 114, 0.5359999999999996)\",\"rgba(128, 177, 211, 0.5359999999999996)\",\"rgba(255, 153, 51, 0.5359999999999996)\",\"rgba(255, 153, 51, 0.5199999999999996)\",\"rgba(55, 128, 191, 0.5199999999999996)\",\"rgba(50, 171, 96, 0.5199999999999996)\",\"rgba(128, 0, 128, 0.5199999999999996)\",\"rgba(219, 64, 82, 0.5199999999999996)\",\"rgba(0, 128, 128, 0.5199999999999996)\",\"rgba(255, 255, 51, 0.5199999999999996)\",\"rgba(128, 128, 0, 0.5199999999999996)\",\"rgba(251, 128, 114, 0.5199999999999996)\",\"rgba(128, 177, 211, 0.5199999999999996)\",\"rgba(128, 177, 211, 0.5039999999999996)\",\"rgba(255, 153, 51, 0.5039999999999996)\",\"rgba(55, 128, 191, 0.5039999999999996)\",\"rgba(50, 171, 96, 0.5039999999999996)\",\"rgba(128, 0, 128, 0.5039999999999996)\",\"rgba(219, 64, 82, 0.5039999999999996)\",\"rgba(0, 128, 128, 0.5039999999999996)\",\"rgba(255, 255, 51, 0.5039999999999996)\",\"rgba(128, 128, 0, 0.5039999999999996)\",\"rgba(251, 128, 114, 0.5039999999999996)\",\"rgba(251, 128, 114, 0.4879999999999996)\",\"rgba(128, 177, 211, 0.4879999999999996)\",\"rgba(255, 153, 51, 0.4879999999999996)\",\"rgba(55, 128, 191, 0.4879999999999996)\",\"rgba(50, 171, 96, 0.4879999999999996)\",\"rgba(128, 0, 128, 0.4879999999999996)\",\"rgba(219, 64, 82, 0.4879999999999996)\",\"rgba(0, 128, 128, 0.4879999999999996)\",\"rgba(255, 255, 51, 0.4879999999999996)\",\"rgba(128, 128, 0, 0.4879999999999996)\",\"rgba(128, 128, 0, 0.4719999999999996)\",\"rgba(251, 128, 114, 0.4719999999999996)\",\"rgba(128, 177, 211, 0.4719999999999996)\",\"rgba(255, 153, 51, 0.4719999999999996)\",\"rgba(55, 128, 191, 0.4719999999999996)\",\"rgba(50, 171, 96, 0.4719999999999996)\",\"rgba(128, 0, 128, 0.4719999999999996)\",\"rgba(219, 64, 82, 0.4719999999999996)\",\"rgba(0, 128, 128, 0.4719999999999996)\",\"rgba(255, 255, 51, 0.4719999999999996)\",\"rgba(255, 255, 51, 0.4559999999999996)\",\"rgba(128, 128, 0, 0.4559999999999996)\",\"rgba(251, 128, 114, 0.4559999999999996)\",\"rgba(128, 177, 211, 0.4559999999999996)\",\"rgba(255, 153, 51, 0.4559999999999996)\",\"rgba(55, 128, 191, 0.4559999999999996)\",\"rgba(50, 171, 96, 0.4559999999999996)\",\"rgba(128, 0, 128, 0.4559999999999996)\",\"rgba(219, 64, 82, 0.4559999999999996)\",\"rgba(0, 128, 128, 0.4559999999999996)\",\"rgba(0, 128, 128, 0.43999999999999956)\",\"rgba(255, 255, 51, 0.43999999999999956)\",\"rgba(128, 128, 0, 0.43999999999999956)\",\"rgba(251, 128, 114, 0.43999999999999956)\",\"rgba(128, 177, 211, 0.43999999999999956)\",\"rgba(255, 153, 51, 0.43999999999999956)\",\"rgba(55, 128, 191, 0.43999999999999956)\",\"rgba(50, 171, 96, 0.43999999999999956)\",\"rgba(128, 0, 128, 0.43999999999999956)\",\"rgba(219, 64, 82, 0.43999999999999956)\",\"rgba(219, 64, 82, 0.42399999999999954)\",\"rgba(0, 128, 128, 0.42399999999999954)\",\"rgba(255, 255, 51, 0.42399999999999954)\",\"rgba(128, 128, 0, 0.42399999999999954)\",\"rgba(251, 128, 114, 0.42399999999999954)\",\"rgba(128, 177, 211, 0.42399999999999954)\",\"rgba(255, 153, 51, 0.42399999999999954)\",\"rgba(55, 128, 191, 0.42399999999999954)\",\"rgba(50, 171, 96, 0.42399999999999954)\",\"rgba(128, 0, 128, 0.42399999999999954)\",\"rgba(128, 0, 128, 0.40799999999999953)\",\"rgba(219, 64, 82, 0.40799999999999953)\",\"rgba(0, 128, 128, 0.40799999999999953)\",\"rgba(255, 255, 51, 0.40799999999999953)\",\"rgba(128, 128, 0, 0.40799999999999953)\",\"rgba(251, 128, 114, 0.40799999999999953)\",\"rgba(128, 177, 211, 0.40799999999999953)\",\"rgba(255, 153, 51, 0.40799999999999953)\",\"rgba(55, 128, 191, 0.40799999999999953)\",\"rgba(50, 171, 96, 0.40799999999999953)\",\"rgba(50, 171, 96, 0.3919999999999995)\",\"rgba(128, 0, 128, 0.3919999999999995)\",\"rgba(219, 64, 82, 0.3919999999999995)\",\"rgba(0, 128, 128, 0.3919999999999995)\",\"rgba(255, 255, 51, 0.3919999999999995)\",\"rgba(128, 128, 0, 0.3919999999999995)\",\"rgba(251, 128, 114, 0.3919999999999995)\",\"rgba(128, 177, 211, 0.3919999999999995)\",\"rgba(255, 153, 51, 0.3919999999999995)\",\"rgba(55, 128, 191, 0.3919999999999995)\",\"rgba(55, 128, 191, 0.3759999999999995)\",\"rgba(50, 171, 96, 0.3759999999999995)\",\"rgba(128, 0, 128, 0.3759999999999995)\",\"rgba(219, 64, 82, 0.3759999999999995)\",\"rgba(0, 128, 128, 0.3759999999999995)\",\"rgba(255, 255, 51, 0.3759999999999995)\",\"rgba(128, 128, 0, 0.3759999999999995)\",\"rgba(251, 128, 114, 0.3759999999999995)\",\"rgba(128, 177, 211, 0.3759999999999995)\",\"rgba(255, 153, 51, 0.3759999999999995)\",\"rgba(255, 153, 51, 0.3599999999999995)\",\"rgba(55, 128, 191, 0.3599999999999995)\",\"rgba(50, 171, 96, 0.3599999999999995)\",\"rgba(128, 0, 128, 0.3599999999999995)\",\"rgba(219, 64, 82, 0.3599999999999995)\",\"rgba(0, 128, 128, 0.3599999999999995)\",\"rgba(255, 255, 51, 0.3599999999999995)\",\"rgba(128, 128, 0, 0.3599999999999995)\",\"rgba(251, 128, 114, 0.3599999999999995)\",\"rgba(128, 177, 211, 0.3599999999999995)\",\"rgba(128, 177, 211, 0.3439999999999995)\",\"rgba(255, 153, 51, 0.3439999999999995)\",\"rgba(55, 128, 191, 0.3439999999999995)\",\"rgba(50, 171, 96, 0.3439999999999995)\",\"rgba(128, 0, 128, 0.3439999999999995)\",\"rgba(219, 64, 82, 0.3439999999999995)\",\"rgba(0, 128, 128, 0.3439999999999995)\",\"rgba(255, 255, 51, 0.3439999999999995)\",\"rgba(128, 128, 0, 0.3439999999999995)\",\"rgba(251, 128, 114, 0.3439999999999995)\",\"rgba(251, 128, 114, 0.32799999999999946)\",\"rgba(128, 177, 211, 0.32799999999999946)\",\"rgba(255, 153, 51, 0.32799999999999946)\",\"rgba(55, 128, 191, 0.32799999999999946)\",\"rgba(50, 171, 96, 0.32799999999999946)\",\"rgba(128, 0, 128, 0.32799999999999946)\",\"rgba(219, 64, 82, 0.32799999999999946)\",\"rgba(0, 128, 128, 0.32799999999999946)\",\"rgba(255, 255, 51, 0.32799999999999946)\",\"rgba(128, 128, 0, 0.32799999999999946)\",\"rgba(128, 128, 0, 0.31199999999999944)\",\"rgba(251, 128, 114, 0.31199999999999944)\",\"rgba(128, 177, 211, 0.31199999999999944)\",\"rgba(255, 153, 51, 0.31199999999999944)\",\"rgba(55, 128, 191, 0.31199999999999944)\",\"rgba(50, 171, 96, 0.31199999999999944)\",\"rgba(128, 0, 128, 0.31199999999999944)\",\"rgba(219, 64, 82, 0.31199999999999944)\",\"rgba(0, 128, 128, 0.31199999999999944)\",\"rgba(255, 255, 51, 0.31199999999999944)\",\"rgba(255, 255, 51, 0.29599999999999943)\",\"rgba(128, 128, 0, 0.29599999999999943)\",\"rgba(251, 128, 114, 0.29599999999999943)\",\"rgba(128, 177, 211, 0.29599999999999943)\",\"rgba(255, 153, 51, 0.29599999999999943)\",\"rgba(55, 128, 191, 0.29599999999999943)\",\"rgba(50, 171, 96, 0.29599999999999943)\",\"rgba(128, 0, 128, 0.29599999999999943)\",\"rgba(219, 64, 82, 0.29599999999999943)\",\"rgba(0, 128, 128, 0.29599999999999943)\",\"rgba(0, 128, 128, 0.2799999999999994)\",\"rgba(255, 255, 51, 0.2799999999999994)\",\"rgba(128, 128, 0, 0.2799999999999994)\",\"rgba(251, 128, 114, 0.2799999999999994)\",\"rgba(128, 177, 211, 0.2799999999999994)\",\"rgba(255, 153, 51, 0.2799999999999994)\",\"rgba(55, 128, 191, 0.2799999999999994)\",\"rgba(50, 171, 96, 0.2799999999999994)\",\"rgba(128, 0, 128, 0.2799999999999994)\",\"rgba(219, 64, 82, 0.2799999999999994)\",\"rgba(219, 64, 82, 0.2639999999999994)\",\"rgba(0, 128, 128, 0.2639999999999994)\",\"rgba(255, 255, 51, 0.2639999999999994)\",\"rgba(128, 128, 0, 0.2639999999999994)\",\"rgba(251, 128, 114, 0.2639999999999994)\",\"rgba(128, 177, 211, 0.2639999999999994)\",\"rgba(255, 153, 51, 0.2639999999999994)\",\"rgba(55, 128, 191, 0.2639999999999994)\",\"rgba(50, 171, 96, 0.2639999999999994)\",\"rgba(128, 0, 128, 0.2639999999999994)\",\"rgba(128, 0, 128, 0.2479999999999994)\",\"rgba(219, 64, 82, 0.2479999999999994)\",\"rgba(0, 128, 128, 0.2479999999999994)\",\"rgba(255, 255, 51, 0.2479999999999994)\",\"rgba(128, 128, 0, 0.2479999999999994)\",\"rgba(251, 128, 114, 0.2479999999999994)\",\"rgba(128, 177, 211, 0.2479999999999994)\",\"rgba(255, 153, 51, 0.2479999999999994)\",\"rgba(55, 128, 191, 0.2479999999999994)\",\"rgba(50, 171, 96, 0.2479999999999994)\",\"rgba(50, 171, 96, 0.23199999999999937)\",\"rgba(128, 0, 128, 0.23199999999999937)\",\"rgba(219, 64, 82, 0.23199999999999937)\",\"rgba(0, 128, 128, 0.23199999999999937)\",\"rgba(255, 255, 51, 0.23199999999999937)\",\"rgba(128, 128, 0, 0.23199999999999937)\",\"rgba(251, 128, 114, 0.23199999999999937)\",\"rgba(128, 177, 211, 0.23199999999999937)\",\"rgba(255, 153, 51, 0.23199999999999937)\",\"rgba(55, 128, 191, 0.23199999999999937)\",\"rgba(55, 128, 191, 0.21599999999999936)\",\"rgba(50, 171, 96, 0.21599999999999936)\",\"rgba(128, 0, 128, 0.21599999999999936)\",\"rgba(219, 64, 82, 0.21599999999999936)\",\"rgba(0, 128, 128, 0.21599999999999936)\",\"rgba(255, 255, 51, 0.21599999999999936)\",\"rgba(128, 128, 0, 0.21599999999999936)\",\"rgba(251, 128, 114, 0.21599999999999936)\",\"rgba(128, 177, 211, 0.21599999999999936)\",\"rgba(255, 153, 51, 0.21599999999999936)\"]},\"name\":\"\",\"values\":[4147,323,6622,11136,2718,4972,15271,17290,1042,6818,13141,5046,11615,4301,8655,14113,15435,18451,11850,1075,5340,13972,17002,7786,10776,15203,2644,1905,7467,15005,1811,17812,1193,14118,17536,8159,16123,5606,6292,7740,8678,5861,10948,11079,14928,19940,10598,17134,3276,17751,6679,8929,329,17094,1964,19702,13813,6169,11000,6683,843,5397,12976,2169,7287,10720,765,18989,3105,7445,15063,1505,18313,13681,17964,8497,17993,19143,19529,1683,14008,10941,6220,19260,4237,16177,5179,17215,15893,8761,14137,19389,12523,2005,18641,15534,11182,5966,16126,7321,15413,19181,1462,8899,2576,5636,12806,4016,3969,524,2119,10678,4053,3187,19309,10368,8613,10193,5357,2382,6208,10549,816,18194,8905,18329,7115,4029,16227,7714,2080,11990,15730,8853,15433,17380,470,6791,15059,13822,7398,11801,4896,14635,630,4804,18922,3859,14219,11151,6482,1349,5071,817,4797,4487,976,10183,16103,11848,10499,12612,12150,16810,12721,6565,9184,3394,3476,5950,5333,16308,12335,7684,13272,7289,2646,521,232,6205,7532,7855,17138,7286,11806,3117,8040,7129,12807,19162,13069,14360,18702,12122,7827,13114,7883,13923,19120,793,18102,18871,14426,6793,18189,10936,7469,5498,15316,7440,4861,2494,493,12956,14418,7258,17418,3869,18691,783,12555,5121,9706,18841,15995,9767,11481,12667,18165,3232,7774,19292,16195,13617,15572,17150,26,18671,10944,2464,9972,8087,2432,7115,17953,19949,15786,15322,15592,5045,8185,18655,5195,12084,19979,12431,4017,3490,5849,14242,18018,11804,2658,12210,11362,16404,163,2258,14914,2440,6159,18432,19969,19915,16857,18571,14952,2012,13059,18684,1067,3946,1342,11461,8548,160,16191,18407,2898,13411,6433,17380,1972,6779,5637,15793,8552,10243,7169,1205,15006,13091,1485,4180,1021,5153,13067,14657,574,13393,12472,6941,17999,13106,11670,15023,11435,1406,3234,14731,2493,11862,11258,18581,19683,11675,16966,13790,13855,18869,5703,14365,15017,17390,12536,13046,14379,13295,10450,11774,11671,11984,18899,6519,3732,6832,5823,6218,16387,16702,8188,3943,8272,560,7754,15725,7493,4242,11504,11824,9377,7106,8191,15818,4356,7915,16316,1376,1171,6989,6128,17183,4557,11722,4480,8798,6479,6070,17957,4070,18052,6941,5480,3328,12335,12049,19651,2702,7973,18045,2769,17762,18693,2323,18027,19327,10012,19113,411,57,11795,13696,7493,10748,19336,16810,910,3210,16172,5756,19860,8367,1393,4770,14782,15792,19543,14136,2458,14194,8033,18361,14937,11458,9795,10048,16895,8655,14176,5759,16031,14360,16562,4010,16099,18061,15558,16481,18653,13572,2259,8290,2275,11627,4099,1554,10293,18442,2797,9935,18276,6585,4477,13507,2100,15149,13226,11041,11041,11390,8403,15842,18668,12441,16245,10570,10859,2390,11381,15294,18728,10965,125,8721,5084,7573,6259,9488,5920,8688,16348,14058,19287,16796,13030,10010,14891,3269,13973,3240,3236,19451,16168,4004,19679,17376,6917,12247,8295,5254],\"type\":\"pie\"}],                        {\"legend\":{\"bgcolor\":\"#F5F6F9\",\"font\":{\"color\":\"#4D5663\"}},\"paper_bgcolor\":\"#F5F6F9\",\"plot_bgcolor\":\"#F5F6F9\",\"titlefont\":{\"color\":\"#4D5663\"}},                        {\"showLink\": true, \"linkText\": \"Export to plot.ly\", \"plotlyServerURL\": \"https://plot.ly\", \"responsive\": true}                    ).then(function(){\n",
       "                            \n",
       "var gd = document.getElementById('ddf462af-f687-4075-96b1-54465c08f647');\n",
       "var x = new MutationObserver(function (mutations, observer) {{\n",
       "        var display = window.getComputedStyle(gd).display;\n",
       "        if (!display || display === 'none') {{\n",
       "            console.log([gd, 'removed!']);\n",
       "            Plotly.purge(gd);\n",
       "            observer.disconnect();\n",
       "        }}\n",
       "}});\n",
       "\n",
       "// Listen for the removal of the full notebook cells\n",
       "var notebookContainer = gd.closest('#notebook-container');\n",
       "if (notebookContainer) {{\n",
       "    x.observe(notebookContainer, {childList: true});\n",
       "}}\n",
       "\n",
       "// Listen for the clearing of the current output cell\n",
       "var outputEl = gd.closest('.output');\n",
       "if (outputEl) {{\n",
       "    x.observe(outputEl, {childList: true});\n",
       "}}\n",
       "\n",
       "                        })                };                });            </script>        </div>"
      ]
     },
     "metadata": {},
     "output_type": "display_data"
    }
   ],
   "source": [
    "df.iplot(kind='pie',labels='mood',values='steps')"
   ]
  },
  {
   "cell_type": "code",
   "execution_count": null,
   "id": "1c70b5fe-138d-4500-8f46-00ba0fe28c39",
   "metadata": {},
   "outputs": [],
   "source": []
  }
 ],
 "metadata": {
  "kernelspec": {
   "display_name": "Python [conda env:base] *",
   "language": "python",
   "name": "conda-base-py"
  },
  "language_info": {
   "codemirror_mode": {
    "name": "ipython",
    "version": 3
   },
   "file_extension": ".py",
   "mimetype": "text/x-python",
   "name": "python",
   "nbconvert_exporter": "python",
   "pygments_lexer": "ipython3",
   "version": "3.12.7"
  }
 },
 "nbformat": 4,
 "nbformat_minor": 5
}
